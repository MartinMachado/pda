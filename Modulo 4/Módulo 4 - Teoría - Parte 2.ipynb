{
 "cells": [
  {
   "cell_type": "markdown",
   "id": "87033d99",
   "metadata": {},
   "source": [
    "# <center> <span style='color:#3A40A2 '> Módulo 4 - Segunda parte - Teoría</span></center> \n",
    "\n",
    "**Profesor Adjunto:** Mag. Bioing. Baldezzari Lucas\n",
    "\n",
    "<p style='text-align: left;'> V2022 </p>\n",
    "\n",
    "<hr style=\"border:1px solid gray\"> </hr>"
   ]
  },
  {
   "cell_type": "markdown",
   "id": "905e2a89",
   "metadata": {},
   "source": [
    "### <span style='color:#117864'> Abstracción </span>\n",
    "\n",
    "¿Cuántos atributos y métodos debe poseer un objeto? ¿Y cuanto de esto debo mostrar al usuario?\n",
    "\n",
    "La cantidad de atributos y métodos dependerá de **qué tan complejo queramos que sea nuestro objeto**.\n",
    "\n",
    "La abstracción trata del **nivel de detalle** –atributos y métodos- que queremos modelar del mundo real. Trata de resaltar lo importante.\n",
    "\n",
    "Debemos concentrarnos en ¿Qué hace? nuestra clase y no en ¿cómo lo hace?.\n",
    "\n",
    "**<center>…Menos es más…</center>**"
   ]
  },
  {
   "cell_type": "markdown",
   "id": "3a596f46",
   "metadata": {},
   "source": [
    "### <span style='color:#117864'> Encapsulamiento </span> <a id=\"encapsulamiento\"></a>\n",
    "\n",
    "El encapsulamiento nos permite prescindir de informar de atributos, métodos complejos y la implementación de un objeto **para resaltar lo necesario**.\n",
    "\n",
    "> *Encapsular sirve para ocultar detalles de implementación*.\n",
    "\n",
    "Los atributos -sobre todo los privados- deberían ser modificados (idealmente) a través de métodos de clase.\n",
    "\n",
    "Por ejemplo, ¿qué es lo importante de un *Respirador()*? ¿Qué el usuario conozca el funcionamiento del algoritmo que controla las modalidades del flujo entregado al paciente o solo que pueda configurar diferentes modalidades al paciente?\n",
    "\n",
    "Para mencionar otro ejemplo de encapsulamiento, pensemos en un televisor. En general una persona tiene acceso a ciertas funcionalidades del televisor, como encender/apagar, cambiar de canal, cambiar la entrada (cable, HDMI, VGA, etc), sin embargo la mayoría de las personas no sabe cómo el televisor implementa estas funcionalidades. Los detalles de cambiar de canal se hacen \"internamente\" y no son visibles por el usuario."
   ]
  },
  {
   "cell_type": "markdown",
   "id": "13bcae80",
   "metadata": {},
   "source": [
    "#### <span style='color:#D4AC0D '>Motivación para usar encapsulamiento</span>\n",
    "\n",
    "El encapsulamiento también es una forma de proteger los datos de muestra clase utilizando *atributos y métodos privados*.\n",
    "\n",
    "En muchos casos podríamos tener métodos privados que sirvan para chequear o monitorear que los atributos de mi objeto están dentro de rangos especícios o bien que sean estos métodos los únicos que puedan modificar ciertos atributos.\n",
    "\n",
    "Veremos estas aplicaciones en las próximas secciones."
   ]
  },
  {
   "cell_type": "markdown",
   "id": "25e3e63c",
   "metadata": {},
   "source": [
    "### <span style='color:#117864'> Atributos y Métodos privados </span>\n",
    "\n",
    "Algunos legunajes de programación soportan el concepto de *atributo privado* y de *método privado*, los cuales solamente pueden ser accesibles por el objeto, es decir, no podríamos acceder a estos atributos y métodos desde *\\\"afuera\"* mediante el operador . (punto).\n",
    "\n",
    "Python no soporta esto directamente, sin embargo, existe una convención entre los desarrolladores y las desarrolladoras de Python de que los atributos y métodos que se declaren como privados no deberían ser modificados ni accesibles por el usuario final.\n",
    "\n",
    "En la literatura se declara algo como,\n",
    "\n",
    "> *\\\"Somos adultos\\\"*\n",
    "\n",
    "Imaginemos que cuando creamos nuestra clase en Python la misma tiene un *contrato* que especifica que lo que es declarado como privado, no debe ser accedido ni modificado por el usuario o cliente final y será responsabilidad absoluta del cliente el manejo adecuado de los atributos y métodos.\n",
    "\n",
    "Son embargo, veremos qué herramientas y metodoloígas utilizar para intentar minimizar al máximo posibles fallas en nuestro programa debido al mal uso de estos atributos y métodos.\n",
    "\n",
    "Definimos lo siguiente:\n",
    "\n",
    "**Atributo privado**\n",
    "\n",
    "> Un atributo que no es modificable por el código del cliente.\n",
    "\n",
    "**Método privado**\n",
    "\n",
    "> Un método que no es accesible por el código del cliente.\n",
    "\n",
    "*¿Cuando debemos declarar un atributo y/o un método como privado?*\n",
    "\n",
    "Esto dependerá de nuestra aplicación y va muy de la mano con el concepto de [encapsulamiento](#encapsulamiento). Siguiendo con el ejemplo del televisor. Podríamos tener un método que cambie de canal haciendo,\n",
    "\n",
    "```Python\n",
    "televisor.cambiarDeCanal(canal = 4)\n",
    "```\n",
    "\n",
    "El método *cambiarDeCanal()* intermanente podría acceder a atributos y métodos *privados* para llevar a cabo el cambio de canal y será él quien tenga la potestad de hacerlo. Sería una mala práctica (y algo no recomendable) que el usuario final pueda cambiar el canal directamente haciendo algo como,\n",
    "\n",
    "```Python\n",
    "televisor._canalActual = 4\n",
    "```\n",
    "\n",
    "Haciendo esto último estaríamos violando el concepto de encapsulamiento y correríamos el riesgo de que nuestro programa crashee."
   ]
  },
  {
   "cell_type": "markdown",
   "id": "1d2c1b45",
   "metadata": {},
   "source": [
    "#### <span style='color:#D4AC0D '>Declarando atributos privados</span>\n",
    "\n",
    "La sintáxis básica para delcarar un atributo como privado es anteponer al nombre de la variable un *guión bajo*.\n",
    "\n",
    "```Python\n",
    "class MiClase():\n",
    "    def __init__(self, param):\n",
    "        self._atributoPrivado = param\n",
    "```\n",
    "\n",
    "Como hemos mencionado, los valores de los atributos privados deberían ser editados y/o cambiados **desde la propia clase y no desde afuera**. Esto quiere decir que el cliente o usuario final no tendría que poder (o no debería) acceder a ellos de manera directa."
   ]
  },
  {
   "cell_type": "markdown",
   "id": "ea0e4c96",
   "metadata": {},
   "source": [
    "#### Python vs JAVA\n",
    "\n",
    "A modo de ejemplo, comparemos cómo se declaran atributos privados en JAVA vs Python.\n",
    "\n",
    "\n",
    "##### JAVA\n",
    "```java\n",
    "public class MiClaseJAVA\n",
    "{\n",
    "    //Los atributos se declaran fuera de los métodos\n",
    "    private int CI; //será de sólo lectura\n",
    "    private int numUCsAprobadas;\n",
    "    public String name;\n",
    "    \n",
    "    //Constructor de la clase\n",
    "    public MiClaseJAVA(String name, int CI, int numUCsAprobadas = 0)\n",
    "        {\n",
    "            this.CI = param;\n",
    "            this.name = name;\n",
    "        }\n",
    "    \n",
    "    //getter\n",
    "    public String getCI() {\n",
    "        return CI;\n",
    "    }\n",
    "    \n",
    "    //getter\n",
    "    public getUCsAprobadas()\n",
    "    {\n",
    "        return numUCsAprobadas;\n",
    "    }\n",
    "    \n",
    "    //setter\n",
    "    public setUCsAprobadas()\n",
    "    {\n",
    "        return numUCsAprobadas;\n",
    "    }\n",
    "    \n",
    "    public addUCAprobada(numUCsAprobadas = 1)\n",
    "    {\n",
    "        numUCsAprobadas += numUCsAprobadas;\n",
    "    }\n",
    "    \n",
    "}\n",
    "```\n",
    "\n",
    "Si quisiéramos acceder al atributo *CI* de algún objeto de la clase *MiClaseJAVA()* obtendríamos un error ya que JAVA no nos permitiría acceder al atributo desde afuera. Lo mismo aplicaría al atributo numUCsAprobadas.\n",
    "\n",
    "Sin embargo, sería posible obtener el valor de CI través de lo que se conoce como los *getters*. En los casoso de *numUCsAprobadas* y *CI* podríamos ver sus valores con sus *getters*. Por otro lado, en el caso de *numUCsAprobadas* podríamos setear un número determinado de UCs aprobadas utilizando *setUCsAprobadas()*. Esto último se conoce como *setter*. Como sus nombres lo indican, los *getters* nos dan algo y los *setters* nos permiten setear algo.\n",
    "\n",
    "En el ejemplo presentado estamos suponiendo que la cédula de identidad es de solo lectura y que nunca la podríamos modificar.\n",
    "\n",
    "Si se presta atención a los métodos *getCI()*, *getUCsAprobadas()*, *setUCsAprobadas()* y *addUCAprobada()* veremos que el acceso a los atributos *CI* y *numUCsAprobadas* es de manera indirecta, no es el usuario quien accede a ella sino el método de la instancia.\n",
    "\n",
    "##### Python\n",
    "\n",
    "```Python\n",
    "class MiClasePython():\n",
    "    def __init__(self, name:str, CI:int, numUCsAprobadas:int):\n",
    "        self.name = name\n",
    "        self._CI = CI\n",
    "        self._numUCsAprobadas\n",
    "```\n",
    "\n",
    "Notemos que los atributos *\\_CI* y *\\_numUCsAprobadas* empiezan con un guion bajo, lo cual indica que son privados.\n",
    "\n",
    "A diferencia de JAVA, si quisieramos acceder al atributo \\_CI de algún objeto *MiClasePython* no tendríamos ningún error.\n",
    "\n",
    "Veamos..."
   ]
  },
  {
   "cell_type": "code",
   "execution_count": 2,
   "id": "881edc35",
   "metadata": {},
   "outputs": [
    {
     "data": {
      "text/plain": [
       "4545574"
      ]
     },
     "execution_count": 2,
     "metadata": {},
     "output_type": "execute_result"
    }
   ],
   "source": [
    "class MiClasePython():\n",
    "    def __init__(self, name:str, CI:int, numUCsAprobadas:int):\n",
    "        self.name = name\n",
    "        self._CI = CI\n",
    "        self._numUCsAprobadas = numUCsAprobadas\n",
    "        \n",
    "clase = MiClasePython(name = \"Morfeo\", CI = 4545574, numUCsAprobadas = 52)\n",
    "clase._CI #CHAN!"
   ]
  },
  {
   "cell_type": "markdown",
   "id": "08ee1306",
   "metadata": {},
   "source": [
    "La pregunta que nos podríamos hacer es, ¿cómo solucionamos el problema de que acceder sin inconveniente a algo que se supone es privado?\n",
    "\n",
    "Una posibilidad es implementar los *getters* y *setters* como vimos en el caso de JAVA, lo cual nos quedaría algo así."
   ]
  },
  {
   "cell_type": "code",
   "execution_count": 5,
   "id": "eb2cb213",
   "metadata": {},
   "outputs": [
    {
     "data": {
      "text/plain": [
       "64445551"
      ]
     },
     "execution_count": 5,
     "metadata": {},
     "output_type": "execute_result"
    }
   ],
   "source": [
    "class MiClasePython():\n",
    "    def __init__(self, name:str, CI:int, numUCsAprobadas:int):\n",
    "        self.name = name\n",
    "        self._CI = CI\n",
    "        self._numUCsAprobadas = numUCsAprobadas\n",
    "        \n",
    "    def getCI(self):\n",
    "        return self._CI\n",
    "    \n",
    "    def setCI(self, newCI:int):\n",
    "        self._CI = newCI\n",
    "        \n",
    "    def setnumUCsAprobadas(self, numUCsAprobadas):\n",
    "        self._numUCsAprobadas = numUCsAprobadas\n",
    "        \n",
    "    def getUCsAprobadas(self):\n",
    "        return self._numUCsAprobadas\n",
    "        \n",
    "    def addUCAprobada(self, numUCsAprobadas = 1):\n",
    "        self._numUCsAprobadas += numUCsAprobadas\n",
    "\n",
    "clase = MiClasePython(name = \"Morfeo\", CI = 64445551, numUCsAprobadas = 52)\n",
    "\n",
    "#clase.setCI(2545)\n",
    "clase.getCI()"
   ]
  },
  {
   "cell_type": "markdown",
   "id": "633be181",
   "metadata": {},
   "source": [
    "#### <span style='color:#D4AC0D '>Utilizando @property</span>\n",
    "\n",
    "Si bien lo anterior es completamente válido, no es una practica habitual en Python el uso de getters y setters.\n",
    "\n",
    "Python tiene una mejor forma de proveer acceso a los atributos que queremos trabajar como privados a través de lo que se conoce como *propiedad* o *[property](https://docs.python.org/3/howto/descriptor.html#properties)* en inglés.\n",
    "\n",
    "##### Definición de Property\n",
    "\n",
    "> Un método para acceder o modificar el valor de un atributo de un objeto. Permite que un cliente pueda utilizar una sintáxis especial para que parezca que se esta accediendo al atributo de manera directa en vez de llamar al método en cuestión.\n",
    "\n",
    "Podemos utilizar el decorador *@property* para hacer que un método de un objeto se comporte como una propiedad.\n",
    "\n",
    "Veamos esto con un ejemplo.\n",
    "\n",
    "\n",
    "##### Getters\n",
    "\n",
    "La sintáxis para definir un *getter* con el uso de decoradores es,\n",
    "\n",
    "```Python\n",
    "    class MiClase():\n",
    "        @property\n",
    "        def nombrePropiedad(self): #este método se convierte en un getter\n",
    "            ##hacer algo\n",
    "            pass\n",
    "```\n",
    "\n",
    "##### Setters\n",
    "\n",
    "La sintáxis para definir un *setter* con el uso de decoradores es,\n",
    "\n",
    "```Python\n",
    "class ClassName():\n",
    "    @nombrePropiedad.setter\n",
    "    def nombrePropiedad(self, parameter): #se comportará como un setter\n",
    "            ##hacer algo\n",
    "            pass\n",
    "```\n",
    "\n",
    "Veamos..."
   ]
  },
  {
   "cell_type": "code",
   "execution_count": 8,
   "id": "e81a72a1",
   "metadata": {},
   "outputs": [
    {
     "data": {
      "text/plain": [
       "64445551"
      ]
     },
     "execution_count": 8,
     "metadata": {},
     "output_type": "execute_result"
    }
   ],
   "source": [
    "class MiClasePython():\n",
    "    def __init__(self, name:str, CI:int, numUCsAprobadas:int):\n",
    "        \"\"\"Constructor\n",
    "        Params:\n",
    "            - name (str): nombre\n",
    "            - CI (int): Cédula identidad (sólo lectura)\n",
    "            - numUCsAprobadas (int): Cantidad de UCs aprobadas.\n",
    "        \"\"\"\n",
    "        self.name = name\n",
    "        self._CI = CI\n",
    "        self._numUCsAprobadas = numUCsAprobadas\n",
    "        \n",
    "    @property\n",
    "    def CI(self): #este método se convierte en un getter\n",
    "        \"\"\"Propiedad de CI\"\"\"\n",
    "        return self._CI\n",
    "    \n",
    "    @property\n",
    "    def numUCsAprobadas(self): #este método se convierte en un getter\n",
    "        return self._numUCsAprobadas\n",
    "    \n",
    "    @numUCsAprobadas.setter\n",
    "    def numUCsAprobadas(self, newUCs): #este método se convierte en un setter\n",
    "        self._numUCsAprobadas = newUCs\n",
    "        \n",
    "    def addUCAprobada(self, numUCsAprobadas = 1):\n",
    "        self._numUCsAprobadas += numUCsAprobadas\n",
    "        \n",
    "clase = MiClasePython(name = \"Morfeo\", CI = 64445551, numUCsAprobadas = 0)\n",
    "clase.CI\n",
    "\n",
    "# si quisieramos dar un valor a CI obtendríamos un error.\n",
    "# clase.CI = 45556663\n",
    "\n",
    "# Esto no pasa con la variable numUCsAprobadas\n",
    "# clase.numUCsAprobadas = 52\n",
    "# clase.numUCsAprobadas \n",
    "# help(clase)"
   ]
  },
  {
   "cell_type": "markdown",
   "id": "145da323",
   "metadata": {},
   "source": [
    "El decorador *@property* convierte los métodos *CI()* y *numUCsAprobadas()* en *getters*. Podemos ver también que haciendo *@numUCsAprobadas.setter* podemos lograr que *numUCsAprobadas()* también se comporte como un *setter*. El intérprete de python dinamicamente utilizará uno u otro método dependiendo del contexto. Por ejemplo, al hacer,\n",
    "\n",
    "```Python\n",
    "clase.numUCsAprobadas = 52\n",
    "```\n",
    "el intérprete sabe que debe llamar al método *numUCsAprobadas* para en su forma de *setter* para asignar un nuevo valor al atributo *_numUCsAprobadas* ya que la propiedad esta definida como sigue,\n",
    "\n",
    "```Python\n",
    "@numUCsAprobadas.setter\n",
    "def numUCsAprobadas(self, newUCs): #este método se convierte en un setter\n",
    "    self._numUCsAprobadas = newUCs\n",
    "```"
   ]
  },
  {
   "cell_type": "markdown",
   "id": "bab95364",
   "metadata": {},
   "source": [
    "Si se presta atención a la implementación de la clase *MiClasePython()* podemos ver que no tenemos un setter para *_CI*, solamente tenemos un getter, es decir, estamos tratando al valor *_CI* como *solo lectura*. Si el usuario quisiera cambiar el valor del atributo haciendo *clase.CI = 64445550* obtendría un error.\n",
    "\n",
    "Veamos."
   ]
  },
  {
   "cell_type": "code",
   "execution_count": 9,
   "id": "45159b67",
   "metadata": {},
   "outputs": [
    {
     "ename": "AttributeError",
     "evalue": "can't set attribute",
     "output_type": "error",
     "traceback": [
      "\u001b[1;31m---------------------------------------------------------------------------\u001b[0m",
      "\u001b[1;31mAttributeError\u001b[0m                            Traceback (most recent call last)",
      "\u001b[1;32mc:\\pda\\Modulo 4\\Módulo 4 - Teoría - Parte 2.ipynb Cell 15'\u001b[0m in \u001b[0;36m<cell line: 1>\u001b[1;34m()\u001b[0m\n\u001b[1;32m----> <a href='vscode-notebook-cell:/c%3A/pda/Modulo%204/M%C3%B3dulo%204%20-%20Teor%C3%ADa%20-%20Parte%202.ipynb#ch0000014?line=0'>1</a>\u001b[0m clase\u001b[39m.\u001b[39mCI \u001b[39m=\u001b[39m \u001b[39m64445550\u001b[39m\n",
      "\u001b[1;31mAttributeError\u001b[0m: can't set attribute"
     ]
    }
   ],
   "source": [
    "clase.CI = 64445550"
   ]
  },
  {
   "cell_type": "markdown",
   "id": "debdb378",
   "metadata": {},
   "source": [
    "En los ejemplos anteriores podemos ver que en realidad no estamos accediendo directamente a los atributos, sino que son los métodos, comportándose como propiedades, los que acceden a ellos.\n",
    "\n",
    "Esto nos permite aumentar el nivel de encapsulamiento.\n",
    "\n",
    "Sin embargo, a pesasr del uso de *property* si quisiéramos podríamos acceder estos atributos con el operador punto.\n",
    "\n",
    "Veamos..."
   ]
  },
  {
   "cell_type": "code",
   "execution_count": null,
   "id": "2bfedac9",
   "metadata": {},
   "outputs": [],
   "source": [
    "clase._CI"
   ]
  },
  {
   "cell_type": "markdown",
   "id": "4f0b25e2",
   "metadata": {},
   "source": [
    "Pero como ya hemos dicho, la responsabilidad final es del cliente/usuario. Nosotros debemos hacer un buen uso del encapsulamiento y de las herramientas que nos ofrece Python, pero no más que eso."
   ]
  },
  {
   "cell_type": "markdown",
   "id": "cb01cd60",
   "metadata": {},
   "source": [
    "#### <span style='color:#D4AC0D '>Utilizando la función built-in property()</span>\n",
    "\n",
    "Otra posibilidad al decorador *@property* es usar la función *[property()](https://docs.python.org/3/library/functions.html#property)* la cual tiene la siguiente sintáxis.\n",
    "\n",
    "\n",
    "```Python\n",
    "class property(fget=None, fset=None, fdel=None, doc=None)\n",
    "```"
   ]
  },
  {
   "cell_type": "code",
   "execution_count": null,
   "id": "f67cf541",
   "metadata": {},
   "outputs": [],
   "source": [
    "### Ejemplo de la documentación\n",
    "\n",
    "class C:\n",
    "    def __init__(self):\n",
    "        self._x = None\n",
    "\n",
    "    def getx(self):\n",
    "        return self._x\n",
    "\n",
    "    def setx(self, value):\n",
    "        self._x = value\n",
    "\n",
    "    def delx(self):\n",
    "        del self._x\n",
    "\n",
    "    x = property(getx, setx, delx, \"I'm the 'x' property.\")\n",
    "\n",
    "c = C()\n",
    "\n",
    "c.x = 1 ## acá llamamos al método set\n",
    "print(c.x) ##print llama al método getx\n",
    "# help(c) ##aca llamamos a la documentacións"
   ]
  },
  {
   "cell_type": "code",
   "execution_count": 22,
   "id": "d99adfa8",
   "metadata": {},
   "outputs": [
    {
     "name": "stdout",
     "output_type": "stream",
     "text": [
      "Trinity 58000\n"
     ]
    }
   ],
   "source": [
    "#Otro ejemplo\n",
    "class Worker():\n",
    "    def __init__(self, name:str, salario:float):\n",
    "        \"Constructor\"\n",
    "        self._name = name\n",
    "        self._salario = salario\n",
    "        \n",
    "    def _getnombre(self):\n",
    "        return self._name\n",
    "\n",
    "    def _getsalario(self):\n",
    "        return self._salario\n",
    "  \n",
    "    def _setnombre(self, _name):\n",
    "        self._name = _name\n",
    "\n",
    "    def _setsalario(self, salario):\n",
    "        self._salario = salario\n",
    "    \n",
    "    nombre = property(fget = _getnombre, \n",
    "                      fset = _setnombre, \n",
    "                      doc = \"Propiedad 'nombre'\")\n",
    "    salario = property(fget = _getsalario, \n",
    "                       doc = \"Propiedad 'salario'\")\n",
    "\n",
    "worker1 = Worker(\"Carrie-Anne Moss\", 58000)\n",
    "worker1.name = \"Trinity\"  # Llama al método \"fset\"\n",
    "print(worker1.name, worker1.salario)  # Llama a los métodos \"fget\" de name y salario"
   ]
  },
  {
   "cell_type": "markdown",
   "id": "e60b61cf",
   "metadata": {},
   "source": [
    "La única diferencia entre la función *property()* y el decorador *@property* es que la función recibe los métodos como parámetros, pero ambas logran que los métodos funcionen como propiedades."
   ]
  },
  {
   "cell_type": "markdown",
   "id": "1bd9782f",
   "metadata": {},
   "source": [
    "### <span style='color:#B03A2E'>Bonus! Aumentando la privacidad con dos guines bajos</span>\n",
    "\n",
    "Si quisieramos aumentar más el nivel de privacidad de un atributo podríamos anteponer al nombre del mismo dos guines bajos.\n",
    "\n",
    "```Python\n",
    "    class MiClase():\n",
    "        def __init__(self):\n",
    "            self.__atributoPrivado\n",
    "```\n",
    "\n",
    "Haciendo esto, el ínterprete de Python dinámicamente cambia el nombre de la variable de tal manera de intentar aumentar el nivel de encapsulamiento.\n",
    "\n",
    "Veamos como se ve esto..."
   ]
  },
  {
   "cell_type": "code",
   "execution_count": null,
   "id": "f17f9c4d",
   "metadata": {},
   "outputs": [],
   "source": [
    "class MiClase():\n",
    "    def __init__(self):\n",
    "        self.__atributoPrivado = \"APriv\"\n",
    "\n",
    "        \n",
    "clase = MiClase()\n",
    "# clase.__atributoPrivado"
   ]
  },
  {
   "cell_type": "markdown",
   "id": "1bde109a",
   "metadata": {},
   "source": [
    "Vemos que si intenetamos acceder a *\\_\\_atributoPrivado* obtenemos un error, esto es debido a que la variable no se llama *\\_\\_atributoPrivado* sino que se llama *\\_MiClase\\_\\_atributoPrivado*.\n",
    "\n",
    "Esto lo podemos constatar usando la función *dir()* que trae Python, la cual nos devuelve una lista de los atributos y métodos que trae la clase que creamos."
   ]
  },
  {
   "cell_type": "code",
   "execution_count": 15,
   "id": "4403f652",
   "metadata": {},
   "outputs": [
    {
     "data": {
      "text/plain": [
       "['CI',\n",
       " '_CI',\n",
       " '__class__',\n",
       " '__delattr__',\n",
       " '__dict__',\n",
       " '__dir__',\n",
       " '__doc__',\n",
       " '__eq__',\n",
       " '__format__',\n",
       " '__ge__',\n",
       " '__getattribute__',\n",
       " '__gt__',\n",
       " '__hash__',\n",
       " '__init__',\n",
       " '__init_subclass__',\n",
       " '__le__',\n",
       " '__lt__',\n",
       " '__module__',\n",
       " '__ne__',\n",
       " '__new__',\n",
       " '__reduce__',\n",
       " '__reduce_ex__',\n",
       " '__repr__',\n",
       " '__setattr__',\n",
       " '__sizeof__',\n",
       " '__str__',\n",
       " '__subclasshook__',\n",
       " '__weakref__',\n",
       " '_numUCsAprobadas',\n",
       " 'addUCAprobada',\n",
       " 'name',\n",
       " 'numUCsAprobadas']"
      ]
     },
     "execution_count": 15,
     "metadata": {},
     "output_type": "execute_result"
    }
   ],
   "source": [
    "#dir(clase)"
   ]
  },
  {
   "cell_type": "markdown",
   "id": "5787faf0",
   "metadata": {},
   "source": [
    "Podemos ver que en la lista anterior figura el atributo *\\_MiClase\\_\\_atributoPrivado*.\n",
    "\n",
    "La pregunta es, ¿es nuestro atributo *\\_MiClase\\_\\_atributoPrivado* realmente privado?. La respuesta es que no, ya que si quisieramos podríamos acceder a dicho atributo y modificarlo o ver su valor. Sin embargo, llegar a estos extremos es realmente una muy mala práctica de programación."
   ]
  },
  {
   "cell_type": "code",
   "execution_count": null,
   "id": "e357eefe",
   "metadata": {},
   "outputs": [],
   "source": [
    "## Esto no debe hacerse!!\n",
    "clase._MiClase__atributoPrivado"
   ]
  },
  {
   "cell_type": "code",
   "execution_count": 16,
   "id": "0ab94c9b",
   "metadata": {},
   "outputs": [
    {
     "data": {
      "text/plain": [
       "['atributo1', 'atributo2']"
      ]
     },
     "execution_count": 16,
     "metadata": {},
     "output_type": "execute_result"
    }
   ],
   "source": [
    "class Test():\n",
    "    \"\"\"Una clase para testeo\"\"\"\n",
    "    def __init__(self):\n",
    "        self.atributo1 = \"APub1\"\n",
    "        self.atributo2 = \"APub2\"\n",
    "        self.__atributoPrivado = \"APriv\"\n",
    "        \n",
    "    def __dir__(self):\n",
    "        return ['atributo1', 'atributo2']\n",
    "    \n",
    "t = Test()\n",
    "dir(t)"
   ]
  },
  {
   "cell_type": "markdown",
   "id": "a5f2a57e",
   "metadata": {},
   "source": [
    "#### <span style='color:#D4AC0D '>Declarando métodos privados</span>\n",
    "\n",
    "Al igual que con los atributos, un método privado se declara anteponiendo un guion bajo antes del nombre del método. Podríamos también agregar dos guiones bajos, dificultando un poco más el acceso a dicho método.\n",
    "\n",
    "Pero, en cualquier caso podremos acceder a los métodos.\n",
    "\n",
    "Veamos."
   ]
  },
  {
   "cell_type": "code",
   "execution_count": null,
   "id": "baaa208b",
   "metadata": {},
   "outputs": [],
   "source": [
    "class Test2():\n",
    "    \"\"\"Una clase para testeo\"\"\"\n",
    "    def __init__(self):\n",
    "        self.atributo1 = \"APub1\"\n",
    "        self.atributo2 = \"APub2\"\n",
    "        self.__atributoPrivado = \"APriv\"\n",
    "        \n",
    "    def _privateMethod(self):\n",
    "        print(\"Soy un método declarado con _\")\n",
    "        \n",
    "    def __otherPrivateMethod(self):\n",
    "        print(\"Soy un método declarado con __\")\n",
    "        \n",
    "    def __dir__(self):\n",
    "        return ['atributo1', 'atributo2']\n",
    "    \n",
    "# t2 = Test2()\n",
    "# t2._privateMethod() #Mala idea acceder a un astributo privado\n",
    "# t2._Test2__otherPrivateMethod() #Pésima idea de acceso!!"
   ]
  },
  {
   "cell_type": "markdown",
   "id": "c31c53c9",
   "metadata": {},
   "source": [
    "Los métodos privados, al igual que con los atributos, deben ser accedidos solamente por el objeto y no desde el exterior."
   ]
  },
  {
   "cell_type": "markdown",
   "id": "c91007c6",
   "metadata": {},
   "source": [
    "### <span style='color:#d6264a'>Ejercicio</span>\n",
    "\n",
    "Escriba una clase -puede utilizar ejercicios que ya ha trabajado o crear una nueva- que trabaje con atributos privados y utilice el decorador @property para accceder y/o modificar atributos declarados como privados."
   ]
  },
  {
   "cell_type": "code",
   "execution_count": 26,
   "id": "8a367a0f",
   "metadata": {},
   "outputs": [
    {
     "data": {
      "text/plain": [
       "(1, 2, 3, 'A', 10)"
      ]
     },
     "execution_count": 26,
     "metadata": {},
     "output_type": "execute_result"
    }
   ],
   "source": [
    "class UsarioContrasena():\n",
    "    def __init__(self, usuario:str, contrasena:tuple):\n",
    "        self.Usuario=usuario\n",
    "        self._CoNtRaSeNa=contrasena\n",
    "    \n",
    "    @property\n",
    "    def contraseña(self): #Getter\n",
    "        return self._CoNtRaSeNa\n",
    "\n",
    "Usuario1 = UsarioContrasena(\"Martin\",(1,2,3,\"A\",10))\n",
    "Usuario1.contraseña\n",
    "\n"
   ]
  },
  {
   "cell_type": "markdown",
   "id": "36d37ee2",
   "metadata": {},
   "source": [
    "<hr style=\"border:1px solid gray\"> </hr>\n",
    "\n",
    "### <span style='color:#117864'> Herencia </span>\n",
    "\n",
    "La herencia permite que una **clase herede o extienda sus atributos y métodos a partir de una clase base**. En ocasiones, no es necesario empezar desde cero la escritura de una clase. Si la clase que queremos escribir es una *especialización* de otra clase que tenemos escrita, tal vez se podría utilizar herencia. Cuando una clase *hereda* o *extiende* de otra clase, toma todos los atributos y métodos de la clase base. Se supone que una clase que deriva de otra tiene alguna relación con la clase base.\n",
    "\n",
    "La clase original suele llamarse *base*, *padre*, *madre* o *super class* (de superior), mientras que la clase que hereda se llama *clase derivada*, *hija* (de *child* en inglés).\n",
    "\n",
    "Si bien la clase derivada es la que hereda (extiende) todos los atributos y métodos de la clase base, también podría sobrescribir (*overrride*) o bien sobrecargar (*overload*) los atributos y métodos de esta última.\n",
    "\n",
    "#### <span style='color:#D4AC0D '>Sintáxis de herencia</span>\n",
    "\n",
    "Para que una clase extienda o herede de una clase base basta con pasarle el nombre de la clase base entre paréntisis en la declaración de la clase hija.\n",
    "\n",
    "```Python\n",
    "    class MiClase(ClaseBase):\n",
    "        def __init__(self):\n",
    "            pass\n",
    "```\n",
    "En el ejemplo anterior, *MiClase* extenderá los atributos y métodos de *ClaseBase*."
   ]
  },
  {
   "cell_type": "markdown",
   "id": "3a88b7e3",
   "metadata": {},
   "source": [
    "\n",
    "#### <span style='color:#D4AC0D '>Método *\\_\\_init\\_\\_()* de la clase hija</span>\n",
    "\n",
    "A menudo cuando escribimos una clase que se extiende de otra nos interesa utilizar el método *\\_\\_init\\_\\_()* de la clase base. De esta manera inicializaremos cualquier atributo que este definido en la super clase y estarán disponible para la clase hija.\n",
    "\n",
    "La forma de llamar a un método de la super clase es mediante la función especial llamada *super()*.\n",
    "\n",
    "```Python\n",
    "    class ClaseBase():\n",
    "        def __init__(self, atributoBase):\n",
    "            self.atributoBase = atributoBase\n",
    "            \n",
    "    class MiClase(ClaseBase):\n",
    "        def __init__(self, atributo1, atributo2):\n",
    "            super().__init__(atributo1)\n",
    "            self.atributoHija = atributo2\n",
    "```\n",
    "\n",
    "\n",
    "\n",
    "Veamos esto con un ejemplo."
   ]
  },
  {
   "cell_type": "code",
   "execution_count": 27,
   "id": "316000e6",
   "metadata": {},
   "outputs": [],
   "source": [
    "\"\"\"\n",
    "Original: \"Python crash course - Hands on - Project-Bases Introduction to programming\"\n",
    "Editado por: Prof. adjunto Mag. Bioing. BALDEZZARI Lucas.\n",
    "\"\"\"\n",
    "\n",
    "class Car:\n",
    "    \"\"\"Clase para intentar representar un auto\"\"\"\n",
    "    def __init__(self, fabricante:str, modelo:str, year:int):\n",
    "        self.fabricante = fabricante\n",
    "        self.modelo = modelo\n",
    "        self.year = year\n",
    "        self.odometer_reading = 0 #si es cero indica que el auto es 0km\n",
    "        \n",
    "    def getDescriptiveName(self):\n",
    "        \"\"\"Info del auto\"\"\"\n",
    "        return f\"{self.fabricante} - {self.modelo} - {self.year}\".title()\n",
    "    \n",
    "    def readOdometer(self):\n",
    "        \"\"\"Kilometraje actual\"\"\"\n",
    "        return self.odometer_reading\n",
    "        \n",
    "    def updateOdometer(self, kilometraje:int):\n",
    "        \"\"\"Se actualiza los kilómetros recorrido por el vehículo\"\"\"\n",
    "        if kilometraje >= self.odometer_reading:\n",
    "            self.odometer_reading = kilometraje\n",
    "        else:\n",
    "            print(\"No puede volver a atrás el odómetro, pillin!\")\n",
    "        \n",
    "    def incrementOdometer(self, kms:int):\n",
    "        \"\"\"Aumento del kilometraje en una determinada cantidad de kms\n",
    "        Params:\n",
    "            - kms: Kilómetros recorridos\n",
    "        \"\"\"\n",
    "        self.odometer_reading += kms\n",
    "\n",
    "    def carAutonomy(self, consumo:int):\n",
    "        \"\"\"Cálculo de autonomía según el tipo de vehículo\"\"\"\n",
    "        print(\"Aún no tengo definido qué tipo de vehículo soy\")\n",
    "        return None"
   ]
  },
  {
   "cell_type": "code",
   "execution_count": 28,
   "id": "1487b788",
   "metadata": {},
   "outputs": [],
   "source": [
    "## Clase de vehículo eléctrico\n",
    "    \n",
    "class ElectricCar(Car):\n",
    "    \"\"\"Represent aspects of a car, specific to electric vehicles.\"\"\"\n",
    "    def __init__(self, fabricante, modelo, year):\n",
    "        \"\"\"Iniciamos atributos\"\"\"\n",
    "        super().__init__(fabricante, modelo, year)"
   ]
  },
  {
   "cell_type": "code",
   "execution_count": 32,
   "id": "6a03b80b",
   "metadata": {},
   "outputs": [
    {
     "name": "stdout",
     "output_type": "stream",
     "text": [
      "2021 modelo s\n",
      "Tesla - Modelo S - 2021\n",
      "El auto tiene 0km\n"
     ]
    }
   ],
   "source": [
    "## Algunas pruebas \n",
    "myTesla = ElectricCar('Tesla', 'modelo s', 2021)\n",
    "#Accediento a los atributos de la clase padre\n",
    "print(myTesla.year, myTesla.modelo)\n",
    "\n",
    "print(myTesla.getDescriptiveName())\n",
    "print(f\"El auto tiene {myTesla.readOdometer()}km\")"
   ]
  },
  {
   "cell_type": "markdown",
   "id": "d7dfa568",
   "metadata": {},
   "source": [
    "En la línea 31 se llama al constructor de la clase base a través de la función especial *\\_\\_super\\_\\_()* para inicializar los atributos de la clase base.\n",
    "\n",
    "En la línea 33 creamos un objeto *ElectricCar* y le pasamos la misma información que le pasaríamos a un objeto del tipo *Car*. De esta manera vemos que la herencia funciona correctamente. Al crear una instancia del objeto *ElectricCar* estamos llamando al método *\\_\\_init\\_\\_()* de la clase *ElectricCar* y luego este llamará al método *\\_\\_init\\_\\_()* de la clase base *Car*."
   ]
  },
  {
   "cell_type": "markdown",
   "id": "3472e77a",
   "metadata": {},
   "source": [
    "#### <span style='color:#D4AC0D '>Definiendo atributos y métodos en la clase derivada</span>\n",
    "\n",
    "Hasta ahora hemos visto cómo podemos inicializar los atributos de la clase base *Car* y hemos utilizado alguno de sus métodos.\n",
    "\n",
    "Una vez heredados los atributos y métodos de la clase base podríamos querer agregar nuevos para así diferenciar la clase hija de su clase padre/madre.\n",
    "\n",
    "Agreguemos algunos atributos y métodos propios de un auto eléctrico, como podría ser la capacidad de la batería expresada  en $kilowatts\\times{h}$ y un método para leer una descripción de la misma."
   ]
  },
  {
   "cell_type": "code",
   "execution_count": 34,
   "id": "dd68827f",
   "metadata": {},
   "outputs": [],
   "source": [
    "class ElectricCar(Car):\n",
    "    \"\"\"Represent aspects of a car, specific to electric vehicles.\"\"\"\n",
    "    def __init__(self, fabricante, modelo, year):\n",
    "        \"\"\"Iniciamos atributos\"\"\"\n",
    "        super().__init__(fabricante, modelo, year)\n",
    "        self._battery = 75 #kWh \n",
    "        self.batteryCharge = 1 # 1 = 100%\n",
    "\n",
    "    def getBatteryInfo(self):\n",
    "        \"\"\"Info de la batería\"\"\"\n",
    "        return f\"El auto posee una batería de {self._battery}kWh\"\n",
    "\n",
    "    def updateBatteryCharge(self, charge:int):\n",
    "        \"\"\"Actualiza la carga de la batería\"\"\"\n",
    "        self.batteryCharge = charge #%"
   ]
  },
  {
   "cell_type": "markdown",
   "id": "128f6da2",
   "metadata": {},
   "source": [
    "Hemos agregado los atributos *_battery* y *batteryCharge* y el método *getBatteryInfo()* a nuestra clase *ElectricCar*. Es importante recordar que las variables *_battery* y *batteryCharge* son atributos de instancia que estarán presentes en cada instancia nueva de *ElectricCar* pero **no** serán parte de *Car*.\n",
    "\n",
    "Podríamos agregar tantos atributos y métodos como quisiéramos. Sin embargo, recordemos el concepto de *abstracción*, el cual nos dice que debemos hacer nuestros objetos lo suficientemente abstractos para no complejizarlos demasiado, pero al mismo tiempo que nos permitan realizar las tareas que queremos realizar.\n",
    "\n",
    "Creemos un nuevo vehículo eléctrico y verifiquemos lo que hemos implementado."
   ]
  },
  {
   "cell_type": "code",
   "execution_count": 35,
   "id": "b77f4aaf",
   "metadata": {},
   "outputs": [
    {
     "name": "stdout",
     "output_type": "stream",
     "text": [
      "El auto posee una batería de 75kWh\n"
     ]
    }
   ],
   "source": [
    "otroTesla = ElectricCar(\"Tesla\", \"S\", 2022)\n",
    "print(otroTesla.getBatteryInfo())"
   ]
  },
  {
   "cell_type": "markdown",
   "id": "f2cd1eba",
   "metadata": {},
   "source": [
    "#### <span style='color:#D4AC0D '>Sobreescribiendo y sobrecargando métodos en la clase derivada</span>\n",
    "\n",
    "Una de las ventajas de la herencia es que podemos sobreescribir o sobrecargar los métodos de la clase base.\n",
    "\n",
    "Tomemos la clase *ElectricCar* y sobreescribamos el método *autonomy()* para que nos entregue un estimado de la autonomía del vehículo en base a un consumo.\n",
    "\n",
    "Una opción podría ser,\n",
    "\n",
    "```Python\n",
    "    ##***********************##\n",
    "    ## Dentro de ElectricCar ##\n",
    "    ##***********************##\n",
    "    def getAutonomy(self, consumo:int) -> float:\n",
    "        \"\"\"Cálculo de autonomía según el tipo de vehículo. \n",
    "        Retorna la estimación de cuantos km puede hacer el vehículo\n",
    "        Params:\n",
    "            - consumo: consumo actual en kWh/100km\n",
    "        Return:\n",
    "            - autonomía\n",
    "        \"\"\"\n",
    "        return (self._battery/consumo*self.batteryCharge)*100#km\n",
    "```"
   ]
  },
  {
   "cell_type": "markdown",
   "id": "9c5f2e09",
   "metadata": {},
   "source": [
    "#### <span style='color:#D4AC0D '>Objetos como atributos</span>\n",
    "\n",
    "En algunas ocasiones cuando modelamos algo del mundo real en código uno podría agregar más y más líneas de código a nuestra clase a medida que agregamos detalles.\n",
    "\n",
    "Bajo estas circuinstancias uno podría darse cuanta que parte del código que se esta implementando podría ser otra clase. Entonces podríamos tomar una clase y partirla en clases mas pequeñas.\n",
    "\n",
    "En el ejemplo de la clase *ElectricCar* podríamos pensar que el banco de baterías podría ser tomado como un objeto distinto y que formará parte del vehículo eléctrico como un atributo.\n",
    "\n",
    "Definamos entonces una clase *Battery* con algunos atributos y métodos."
   ]
  },
  {
   "cell_type": "code",
   "execution_count": null,
   "id": "95e1e6a8",
   "metadata": {},
   "outputs": [],
   "source": [
    "class Battery:\n",
    "    \"\"\"Clase para simular un banco de baterías\"\"\"\n",
    "    def __init__(self, batterySize:int = 75):\n",
    "        \"\"\"Iniciamos atributos del banco de baterías\"\"\"\n",
    "        self._batterySize = batterySize\n",
    "        self._batteryCharge = 1 # 1 = 100%\n",
    "\n",
    "    def getBatteryInfo(self):\n",
    "        \"\"\"Info de la batería\"\"\"\n",
    "        return f\"El banco de batería es de {self._batterySize}kWh\"\n",
    "\n",
    "    def getBatteryCharge(self):\n",
    "        \"\"\"Retorna carga de la batería\"\"\"\n",
    "        return self._batteryCharge\n",
    "\n",
    "    def updateBatteryCharge(self, charge:int):\n",
    "        \"\"\"Actualiza la carga de la batería\"\"\"\n",
    "        if charge <0 or charge >1:\n",
    "            print(\"La carga de la batería debe ser un valor entre 0 y 1\")\n",
    "            return None #se podría retornar un error\n",
    "        else: \n",
    "            self._batteryCharge = charge #%\n",
    "\n",
    "    def batteryAutonomy(self, consumo:int) -> float:\n",
    "        \"\"\"Cálculo de autonomía según el tipo de vehículo. \n",
    "        Retorna la estimación de cuantos km puede hacer el vehículo.\n",
    "        Params:\n",
    "            - consumo: consumo actual en kWh/100km\n",
    "        Return:\n",
    "            - autonomía\n",
    "        \"\"\"\n",
    "        return (self._batterySize/consumo*self._batteryCharge)*100#km"
   ]
  },
  {
   "cell_type": "markdown",
   "id": "ba9b53c6",
   "metadata": {},
   "source": [
    "Observemos que la clase *Battery* posee todos los métodos que teníamos en *ElectricCar*. Desde un punto de vista lógico, esto tiene sentido ya que el banco de batería si bien forma parte del vehículo eléctrico es una de las tantas piezas que lo conforman (como las ruedas, luces, etc).\n",
    "\n",
    "Imaginemos por un momento que quisieramos agregar dentro de la clase *ElectricCar* atributos y métodos para simular ruedas, luces, etc. Esto podría ser realmente contraproducente. En estos casos es mejor tomar las ruedas y las luces como objetos separados, cada uno con sus atributos y métodos y luego usarlos como parte del *ElectricCar*.\n",
    "\n",
    "Haciendo esto estaremos cumpliendo con los conceptos de abstracción y encapsulamiento, además de que haremos nuestro código mucho más legible y depurable en un futuro."
   ]
  },
  {
   "cell_type": "code",
   "execution_count": null,
   "id": "90379d35",
   "metadata": {},
   "outputs": [],
   "source": [
    "## Testeando baterías\n",
    "battery = Battery(75)\n",
    "print(battery.getBatteryInfo())\n",
    "battery.updateBatteryCharge(0.8)\n",
    "print(f\"La carga de la batería es {battery.getBatteryCharge()}\")\n",
    "print(f\"La aunomoía es de {battery.batteryAutonomy(20)} kms\")"
   ]
  },
  {
   "cell_type": "markdown",
   "id": "ef50be65",
   "metadata": {},
   "source": [
    "Una vez creada la clase *Battery* nuestra clase *ElectricCar* nos podría quedar de la siguiente manera."
   ]
  },
  {
   "cell_type": "code",
   "execution_count": null,
   "id": "2951f4a0",
   "metadata": {},
   "outputs": [],
   "source": [
    "class ElectricCar(Car):\n",
    "    \"\"\"Represent aspects of a car, specific to electric vehicles.\"\"\"\n",
    "\n",
    "    def __init__(self, fabricante, modelo, year):\n",
    "        \"\"\"Iniciamos atributos\"\"\"\n",
    "        super().__init__(fabricante, modelo, year)\n",
    "        self.battery = Battery(batterySize = 75)\n",
    "\n",
    "    def carAutonomy(self, consumo:int) -> float:\n",
    "        \"\"\"Cálculo de autonomía según el tipo de vehículo\"\"\"\n",
    "        return self.battery.batteryAutonomy(consumo)"
   ]
  },
  {
   "cell_type": "markdown",
   "id": "d3a1ff44",
   "metadata": {},
   "source": [
    "Podemos ver que ahora la clase *ElectricCar* posee un atributo *Battery*. Esto puede ser interpretado como una relación de **composición** ya que un auto eléctrico no podría funcionar sin un banco de baterías."
   ]
  },
  {
   "cell_type": "markdown",
   "id": "de6c3659",
   "metadata": {},
   "source": [
    "### <span style='color:#117864'> Importando módulos </span>\n",
    "\n",
    "Cada script que implementamos podría ser considerado como un *módulo* o *librerías* en Python y por lo tanto podríamos importarlo utilizando la sentencia *import*. Información oficial de Python en [Módulos](https://docs.python.org/3/tutorial/modules.html).\n",
    "\n",
    "Veamos algunos ejemplos de cómo utilizar esto con paquetes propios de Python, de terceros y con *car.py*."
   ]
  },
  {
   "cell_type": "markdown",
   "id": "05a7193b",
   "metadata": {},
   "source": [
    "#### <span style='color:#D4AC0D '>Importando librearías completas</span>\n",
    "\n",
    "El primer ejemplo sirve para mostrar cómo podemos importar una librería completa.\n",
    "\n",
    "```Python\n",
    "import library\n",
    "```\n",
    "\n",
    "En este caso estamos importando la librería *library*. Podríamos acceder a cualquiera de las funciones y/o clases dentro de dicha librería mediante el operador *punto*.\n",
    "\n",
    "#### <span style='color:#D4AC0D '>Importando algunas funciones </span>\n",
    "\n",
    "Podríamos también importar aquellas funciones y/o clases de la librería que usaremos. Esto muchas veces es útil para evitar cargar en el *scope* o *ambiente* de trabajo con funciones y clases que no usaremos. En estos casos la sintáxis es la siguiente.\n",
    "\n",
    "```Python\n",
    "from library import func1, func2\n",
    "```\n",
    "\n",
    "En el ejemplo anterior hemos importado *func1* y *func2* desde la librería *library*.\n",
    "\n",
    "Veamos algunos ejemplos sencillos."
   ]
  },
  {
   "cell_type": "code",
   "execution_count": null,
   "id": "a9b34a34",
   "metadata": {},
   "outputs": [],
   "source": [
    "import os #libreria propia de python\n",
    "from math import cos, sin, pi, radians\n",
    "from math import pi\n",
    "\n",
    "carpetaActual = os.getcwd()\n",
    "print(carpetaActual[-24:])\n",
    "\n",
    "n = 180\n",
    "print(f\"Coseno de n es {cos(radians(n)):0.2f}\")\n",
    "print(f\"Seno de n es {sin(radians(n)):0.2f}\")"
   ]
  },
  {
   "cell_type": "markdown",
   "id": "6c1d0181",
   "metadata": {},
   "source": [
    "En el ejemplo anterior hemos importado las funciones *cos*, *sin* y *radinas* de la librería math propia de Python. También hemos importado el número *pi* desde math, el cual es un valor constante que representa el número Pi.\n",
    "\n",
    "Sin embargo, de la librería *os* hemos importado todas sus funciones, por tal razón podemos accedor a la función *getcwd()* mediante el operador punto."
   ]
  },
  {
   "cell_type": "markdown",
   "id": "f7b9a4d8",
   "metadata": {},
   "source": [
    "#### <span style='color:#D4AC0D '>Importando módulos de terceras partes</span>\n",
    "\n",
    "Importar un módulos creados por otras personas es exactamente igual a lo que hemos visto. La diferencia es que debemos tener instalada dicha librería antes de poder importarla o importar algo de ella.\n",
    "\n",
    "Veamos esto con un ejemplo."
   ]
  },
  {
   "cell_type": "code",
   "execution_count": null,
   "id": "fe65edf7",
   "metadata": {},
   "outputs": [],
   "source": [
    "import numpy#la librería numpy ya esta instala\n",
    "\n",
    "matrix = numpy.zeros((2,3))\n",
    "print(matrix)"
   ]
  },
  {
   "cell_type": "markdown",
   "id": "a0db3c2e",
   "metadata": {},
   "source": [
    "Podríamos importar una librería y asignarle un nombre diferente, esto lo hacemos de la siguiente manera."
   ]
  },
  {
   "cell_type": "code",
   "execution_count": null,
   "id": "9960579d",
   "metadata": {},
   "outputs": [],
   "source": [
    "import numpy as np #ahora el ínterprete de Python tomará a numpy como np\n",
    "\n",
    "otraMatrix = np.zeros((5,5))\n",
    "print(otraMatrix)"
   ]
  },
  {
   "cell_type": "markdown",
   "id": "ad6457c5",
   "metadata": {},
   "source": [
    "#### <span style='color:#D4AC0D '>Importando módulos propios</span>\n",
    "\n",
    "Podríamos también importar nuestros propios módulos. Las librerías de python están en la carpeta */pythonx.x/scripts/*. No obstante, la forma más sencilla de utilizar un módulo propios es colocando el o los archivos dentro del mismo directorio donde tenemos.\n",
    "\n",
    "Vamos a utilizar el módulo *car.py*."
   ]
  },
  {
   "cell_type": "code",
   "execution_count": null,
   "id": "08284447",
   "metadata": {},
   "outputs": [],
   "source": [
    "import car\n",
    "from car import Battery\n",
    "from car import ElectricCar \n",
    "from car import ElectricCar as autitoABata\n",
    "\n",
    "# unTesla = car.ElectricCar(\"Tesla\", \"M\", 2019)\n",
    "# unTesla.updateOdometer(32500)\n",
    "# print(f\"kilometraje actual del {unTesla.getDescriptiveName()} es {unTesla.readOdometer()} kms\"+\"\\n\")\n",
    "\n",
    "# bmw = ElectricCar(\"BMW\", \"i4\", 2022)\n",
    "# print(f\"kilometraje actual del {bmw.getDescriptiveName()} es {bmw.readOdometer()} kms\"+\"\\n\")\n",
    "\n",
    "# otroBMW = autitoABata(\"BMW\", \"iX\", 2021)\n",
    "# otroBMW.updateOdometer(12500)\n",
    "# print(f\"kilometraje actual del {otroBMW.getDescriptiveName()} es {otroBMW.readOdometer()} kms\"+\"\\n\")\n",
    "\n",
    "# bata = Battery(90)\n",
    "# print(bata.getBatteryInfo())\n",
    "# bata.updateBatteryCharge(0.7)\n",
    "# print(f\"La carga de la batería es {bata.getBatteryCharge()*100}%\")\n",
    "# print(f\"La aunomoía es de {bata.batteryAutonomy(20)} kms\")"
   ]
  },
  {
   "cell_type": "markdown",
   "id": "c9fe25b1",
   "metadata": {},
   "source": [
    "### <span style='color:#117864'>Utilizando nuestros módulos como scripts</span>\n",
    "\n",
    "En algunas ocasiones quisieramos que nuestros módulos funcionen como script, es decir, cada vez que ejecutemos nuestro archivo *car.py* este haga algo.\n",
    "\n",
    "Esto lo podemos hacer creando un método llamado *main()*.\n",
    "\n",
    "Supongamos que estemos dentro del archivo *car.py*, entonces podríamos hacer.\n",
    "\n",
    "```Python\n",
    "##***************************##\n",
    "## Dentro del archivo car.py ##\n",
    "##***************************##\n",
    "def main():\n",
    "    ## Testeando baterías\n",
    "    battery = Battery(75)\n",
    "    print(battery.getBatteryInfo())\n",
    "    battery.updateBatteryCharge(0.8)\n",
    "    print(battery.getBatteryCharge())\n",
    "    print(f\"La aunomoía es de {battery.batteryAutonomy(20)}kms\")\n",
    "\n",
    "    mitesla = ElectricCar('Tesla', 'modelo s', 2021)\n",
    "    print(f\"La carga de la batería es {battery.getBatteryCharge()}\")\n",
    "    print(f\"Autnomía de {mitesla.carAutonomy(29):0.2f}kms\")\n",
    "\n",
    "if __name__ == \"__main__\":\n",
    "    main()\n",
    "```\n",
    "\n",
    "Si ejecutamos el archivo *car.py* veríamos lo que ejecutamos dentro de *main()*."
   ]
  },
  {
   "cell_type": "code",
   "execution_count": null,
   "id": "a0c922ba",
   "metadata": {},
   "outputs": [],
   "source": [
    "# !python car.py"
   ]
  },
  {
   "cell_type": "markdown",
   "id": "1f95748f",
   "metadata": {},
   "source": [
    "¿Qué pasaría si no implementamos la función *main()*?\n",
    "\n",
    "En ese caso, cada vez que importemos algún módulo ya sea completamente o alguna de sus funciones, estaríamos ejecutandolo como script.\n",
    "\n",
    "Veamos..."
   ]
  },
  {
   "cell_type": "code",
   "execution_count": null,
   "id": "a7ee146d",
   "metadata": {},
   "outputs": [],
   "source": [
    "## TODO\n",
    "import testModule"
   ]
  },
  {
   "cell_type": "code",
   "execution_count": null,
   "id": "61258e55",
   "metadata": {},
   "outputs": [],
   "source": [
    "# !python testModule.py"
   ]
  },
  {
   "cell_type": "markdown",
   "id": "d231cdb0",
   "metadata": {},
   "source": [
    "#### <span style='color:#d6264a'>Ejercicio</span>\n",
    "\n",
    "Se pide,\n",
    "\n",
    "- Implemente una clase llamada *HybridCar* que extienda de la clase *Car*.\n",
    "- Utilice la clase *Battery* para dotar al vehículo híbrido de una batería.\n",
    "- Implemente una clase *gasTank* la cual servirá para dotar al vehículo de un tanque de nafta. Defina métodos y atributos que crea conveniente.\n",
    "\n",
    "Escriba la clase dentro del archivo *car.py* y en una nueva celda importe *HybridCar* y realice algunas pruebas de funcionamiento de su implementación."
   ]
  },
  {
   "cell_type": "markdown",
   "id": "75c7722b",
   "metadata": {},
   "source": [
    "### <span style='color:#B03A2E'>Bonus! Clase suprema *object*</span>\n",
    "\n",
    "Técnicmaente, cada clase que creamos utiliza herencia. Todas las clases de python son en realidad subclases de una clase llamada **object**.\n",
    "\n",
    "Esta clase provee una cierta cantidad de datos y atributos y algunas funcionalidades implícitas de tal forma de que todos los objetos sean tratados consistentemente por el intérprete de Python.\n",
    "\n",
    "Veamos un ejemplo.\n",
    "\n",
    "```Python\n",
    "class testing(object):\n",
    "    pass\n",
    "```\n",
    "\n",
    "La clase *testing* extiende de *object*. Podriamos obtener el mismo resultado si hubieramos hecho,\n",
    "\n",
    "```Python\n",
    "class testing:\n",
    "    pass\n",
    "```\n",
    "\n",
    "Es decir que si no especificámos nada a la hora de declarar la clase, el intérprete de Python entenderá que nuestra clase extiende de *object*.\n",
    "\n",
    "Es importante mencionar que a través de herencia podemos generar **jerarquías** de clases.\n",
    "\n",
    "La herencia nos da reusabilidad y legibilidad en nuestro código.\n",
    "\n",
    "Python acepta herencia múltiple."
   ]
  },
  {
   "cell_type": "code",
   "execution_count": null,
   "id": "673b4741",
   "metadata": {},
   "outputs": [],
   "source": [
    "class testing1(object):\n",
    "    pass\n",
    "\n",
    "t = testing1()\n",
    "print(dir(t))"
   ]
  },
  {
   "cell_type": "code",
   "execution_count": null,
   "id": "5a6739e6",
   "metadata": {},
   "outputs": [],
   "source": [
    "class testing2:\n",
    "    pass\n",
    "\n",
    "c = testing2()\n",
    "print(dir(c))"
   ]
  },
  {
   "cell_type": "markdown",
   "id": "94440726",
   "metadata": {},
   "source": [
    "Podemos ver que las clases *testing1* y *testing2* extienden de *object* independientemente de si al declararlas le pasamos *object* o no."
   ]
  },
  {
   "cell_type": "markdown",
   "id": "f862e65a",
   "metadata": {},
   "source": [
    "**Ejemplo completo**\n",
    "\n",
    "Un ejemplo completo de herencia y también de composición puede verse en [Inheritance and Composition: A Python OOP Guide](https://realpython.com/inheritance-composition-python/#implementation-inheritance-vs-interface-inheritance)"
   ]
  },
  {
   "cell_type": "markdown",
   "id": "4c3f482d",
   "metadata": {},
   "source": [
    "### <span style='color:#117864'>Polimorfismo</span>\n",
    "\n",
    "El polimorfismo es la capacidad de que un método o un objeto se comporten de manera diferente según el contexto.\n",
    "\n",
    "En otras palabras, el polimorfismo es la habilidad (en programación) de utilizar la misma interfaz de un método u objeto en diferentes tipos de escenarios.\n",
    "\n",
    "Podemos implementar polimorfismo sobrescribiendo un método o sobrecargando un método.\n",
    "\n",
    "Veamos un ejemplo."
   ]
  },
  {
   "cell_type": "code",
   "execution_count": null,
   "id": "868a727a",
   "metadata": {},
   "outputs": [],
   "source": [
    "class Shape():\n",
    "    \"\"\"Clase abstracta\"\"\"\n",
    "    def __init__(self, name):\n",
    "        self.name = name\n",
    "    \n",
    "    def area(self):\n",
    "        return None\n",
    "        \n",
    "from math import pi\n",
    "\n",
    "class Circle(Shape):\n",
    "    \"\"\"Clase círculo\"\"\"\n",
    "    def __init__(self, name, radio):\n",
    "        super().__init__(name)\n",
    "        self.radio = radio\n",
    "        \n",
    "    def area(self):\n",
    "        return pi*self.radio**2\n",
    "    \n",
    "class Square(Shape):\n",
    "    \"\"\"Clase cuadrado\"\"\"\n",
    "    def __init__(self,name, lado):\n",
    "        super().__init__(name)\n",
    "        self.lado = lado\n",
    "        \n",
    "    def area(self):\n",
    "        return self.lado*self.lado\n",
    "    \n",
    "shape1 = Circle(\"Soy un circulo\", 2)\n",
    "print(shape1.name)\n",
    "print(f\"{shape1.area():.02f} cm cuadrados\", \"\\n\")\n",
    "\n",
    "shape2 = Square(\"Soy un cuadrado\", 5)\n",
    "print(shape2.name)\n",
    "print(f\"{shape2.area()} cm cuadrados\")"
   ]
  },
  {
   "cell_type": "markdown",
   "id": "6586a3d4",
   "metadata": {},
   "source": [
    "##  <span style='color:#3A40A2 '> Fin </span>\n",
    "\n",
    "Aquí finaliza la parte 2 de la teoría del Módulo 4."
   ]
  }
 ],
 "metadata": {
  "celltoolbar": "Raw Cell Format",
  "kernelspec": {
   "display_name": "Python 3 (ipykernel)",
   "language": "python",
   "name": "python3"
  },
  "language_info": {
   "codemirror_mode": {
    "name": "ipython",
    "version": 3
   },
   "file_extension": ".py",
   "mimetype": "text/x-python",
   "name": "python",
   "nbconvert_exporter": "python",
   "pygments_lexer": "ipython3",
   "version": "3.9.7"
  }
 },
 "nbformat": 4,
 "nbformat_minor": 5
}
