{
 "cells": [
  {
   "cell_type": "markdown",
   "id": "74150884",
   "metadata": {},
   "source": [
    "# <center> <span style='color:#3A40A2 '> Ejercitación módulo 4 - Primera parte </span></center> \n",
    "\n",
    "**Profesor Adjunto:** Mag. Bioing. Baldezzari Lucas\n",
    "\n",
    "<p style='text-align: left;'> V2022 </p>\n",
    "\n",
    "<hr style=\"border:1px solid gray\"> </hr>"
   ]
  },
  {
   "cell_type": "markdown",
   "id": "3f100fe1",
   "metadata": {},
   "source": [
    "##### Ejercicio 1\n",
    "\n",
    "Implemente una clase llamada *BasicStats()*. Esta clase deberá, a partir de una lista de números, calcular la media, la mediana, el desvío estándar, la varianza, los cuartiles $Q_1$, $Q_2$ y $Q_3$ y chequear la presencia de valores outliers, la clase debería también tener un método que permita quitar dichos valores.\n",
    "\n",
    "- Proponga un constructor, atributos y métodos que considere adecuados para llevar a cabo la tarea.\n",
    "- Genere una función main() para mostrar que su clase funciona.\n",
    "\n",
    "Nota: No utilice funciones built-in para el cálculo de los valores estadísticos. Se recomienda usar funciones que ya se hayan implementados en ejercicios anteriores."
   ]
  },
  {
   "cell_type": "code",
   "execution_count": 1,
   "id": "2e84b3c8",
   "metadata": {},
   "outputs": [],
   "source": [
    "#TO DO..."
   ]
  },
  {
   "cell_type": "markdown",
   "id": "44d015f1",
   "metadata": {},
   "source": [
    "##### Ejercicio 2\n",
    "\n",
    "Responda qué espera ver y por qué, en cada uno de los puntos señalados con *#* en el código siguiente.\n",
    "\n",
    "```Python\n",
    "class miClase(object):\n",
    "\n",
    "    atributoDeClase = 'Atributo de Clase'\n",
    "\n",
    "    def __init__(self, val):\n",
    "        self.atributoInstancia = val\n",
    "\n",
    "\n",
    "a = miClase(1)\n",
    "b = miClase(2)\n",
    "\n",
    "print(a.atributoInstancia) #1\n",
    "print(b.atributoInstancia) #2\n",
    "\n",
    "print(a.atributoDeClase == b.atributoDeClase) #3\n",
    "print(a.atributoDeClase is b.atributoDeClase) #4\n",
    "\n",
    "b.atributoDeClase = 4\n",
    "print(a.atributoDeClase) #5\n",
    "\n",
    "del a.atributoDeClase\n",
    "MyClass.atributoDeClase = 4 #6\n",
    "```\n",
    "\n",
    "**Su respuesta acá**\n",
    "\n",
    "*TODO*"
   ]
  },
  {
   "cell_type": "markdown",
   "id": "52d1168e",
   "metadata": {},
   "source": [
    "##### Ejercicio 3\n",
    "\n",
    "A partir del código debajo, y aplicando ingeniería inversa, cree la clase PremioNobel().\n",
    "\n",
    "```Python\n",
    "premio2010 = PremioNobel(\"Paz\", 2010, \"Liu Xiaobo\")\n",
    "print(premio2010.category, premio2010.year, premio2010.winner)\n",
    "```"
   ]
  },
  {
   "cell_type": "code",
   "execution_count": 2,
   "id": "773b21c2",
   "metadata": {},
   "outputs": [],
   "source": [
    "## TO DO..."
   ]
  },
  {
   "cell_type": "markdown",
   "id": "53002827",
   "metadata": {},
   "source": [
    "##### Ejercicio 4\n",
    "\n",
    "A partir de la clase PremioNobel() sobreescriba el método *\\_\\_str()\\_\\_* para utilizar *print()* e imprimir información del objeto.\n",
    "\n",
    "```Python\n",
    "premio2010 = PremioNobel(\"Paz\", 2010, \"Liu Xiaobo\")\n",
    "print(premio2010)\n",
    "```"
   ]
  },
  {
   "cell_type": "code",
   "execution_count": 3,
   "id": "09d99a5c",
   "metadata": {},
   "outputs": [],
   "source": [
    "## TODO"
   ]
  },
  {
   "cell_type": "markdown",
   "id": "cc3f91bf",
   "metadata": {},
   "source": [
    "##### Ejercicio 5\n",
    "\n",
    "Escriba una clase en Python para encontrar el índice de un par de elementos de una lista de números enteros que sumen un número determinado.\n",
    "\n",
    "La clase debería ser capaz de recibir una lista de enteros y debería tener un método que reciba un valor *blanco* o *target* y devuelva cuales ítems de aquellos elementos que al sumarse, dan como resultado el valor *target* pasado como argumento.\n",
    "\n",
    "Por ejemplo, si la lista fuera [10,20,10,30,40,50,60,70,90] y el *target* fuera 50, el método debería devolver (3,5).\n",
    "\n",
    "Nota: No usar el mismo elemento de la lista de enteros dos veces."
   ]
  },
  {
   "cell_type": "code",
   "execution_count": null,
   "id": "6705261c",
   "metadata": {},
   "outputs": [],
   "source": [
    "## TODO"
   ]
  },
  {
   "cell_type": "markdown",
   "id": "5ed20bb4",
   "metadata": {},
   "source": [
    "##### Ejercicio 6\n",
    "\n",
    "Tome la clase Punto() vista en clase de teoría y sobreescriba los métodos *\\_\\_add\\_\\_* y *\\_\\_sub\\_\\_* para sumar y restar las coordenadas de dos puntos.\n",
    "\n",
    "Ejemplo:\n",
    "\n",
    "\n",
    "```Python\n",
    "p1 = Punto(1,2)\n",
    "p2 = Punto(3,4)\n",
    "\n",
    "p3 = p1+p2\n",
    "p4 = p2-p1\n",
    "print(p3)\n",
    "## Debería imprimir P(4,6)\n",
    "print(p4)\n",
    "## Debería imprimir P(2,2)\n",
    "```\n",
    "\n",
    "*Hint*: Sería bueno que los métodos retornen una nueva instancia de la clase Punto() con el resultado de la suma o resta."
   ]
  },
  {
   "cell_type": "code",
   "execution_count": 1,
   "id": "ac24385f",
   "metadata": {},
   "outputs": [],
   "source": [
    "## TODO"
   ]
  }
 ],
 "metadata": {
  "kernelspec": {
   "display_name": "Python 3 (ipykernel)",
   "language": "python",
   "name": "python3"
  },
  "language_info": {
   "codemirror_mode": {
    "name": "ipython",
    "version": 3
   },
   "file_extension": ".py",
   "mimetype": "text/x-python",
   "name": "python",
   "nbconvert_exporter": "python",
   "pygments_lexer": "ipython3",
   "version": "3.9.7"
  }
 },
 "nbformat": 4,
 "nbformat_minor": 5
}
