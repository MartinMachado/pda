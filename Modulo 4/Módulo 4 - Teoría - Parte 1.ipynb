{
 "cells": [
  {
   "cell_type": "markdown",
   "id": "87033d99",
   "metadata": {},
   "source": [
    "# <center> <span style='color:#3A40A2 '> Módulo 4 - Primera parte - Teoría</span></center> \n",
    "\n",
    "**Profesor Adjunto:** Mag. Bioing. Baldezzari Lucas\n",
    "\n",
    "<p style='text-align: left;'> V2022 </p>\n",
    "\n",
    "<hr style=\"border:1px solid gray\"> </hr>"
   ]
  },
  {
   "cell_type": "markdown",
   "id": "517772ca",
   "metadata": {},
   "source": [
    "##  <span style='color:#3A40A2 '> Programación Orientada a Objetos (POO) </span> <a id='POO'></a>\n",
    "\n",
    "Paradigma de programación creado en 1970. La idea detrás de la POO es escribir **clases** que *representan cosas y/o situaciones del mundo real*, tales como estudiantes y profesores, vehículos, animales, emails, etc.\n",
    "\n",
    "Estas clases poseen **atributos** y **métodos**.\n",
    "\n",
    "Con la creación de una clase estamos creando un nuevo tipo de dato. Las clases dan lugar a los **objetos**.\n",
    "\n",
    "Los objetos poseen la capacidad de interactuar con objetos del mismo tipo y con otros objetos."
   ]
  },
  {
   "cell_type": "markdown",
   "id": "9af06bce",
   "metadata": {},
   "source": [
    "##  <span style='color:#3A40A2 '>Clases, Objetos y Atributos</span>\n",
    "\n",
    " \n",
    "### <span style='color:#117864'> Clases </span>\n",
    "\n",
    "En el ámbito de la OOP,\n",
    "\n",
    "> “…una Clase es una plantilla o estructura que contiene atributos y métodos que nos permiten crear objetos de una misma clase…”\n",
    "\n",
    "Al crear una clase se crea un nuevo tipo de objeto. Una clase **define una estructura de datos**.\n",
    "\n",
    "Para definir una clases utilizamos la palabra reservada  *class*. En general se acostumbra a iniciar los nombres de clases en mayúsculas.Los nombres de clase siguen las mismas reglas que las definiciones de variables que ya hemos visto."
   ]
  },
  {
   "cell_type": "code",
   "execution_count": 7,
   "id": "2489ea23",
   "metadata": {},
   "outputs": [],
   "source": [
    "## Creando mi primera clase\n",
    "class MiClase():\n",
    "    \"\"\"Docstring de MiClase\"\"\"\n",
    "    pass"
   ]
  },
  {
   "cell_type": "markdown",
   "id": "b20c46b6",
   "metadata": {},
   "source": [
    "### <span style='color:#117864'> Objetos </span>\n",
    "\n",
    "En el ámbito de la OOP,\n",
    "\n",
    "> “…un Objeto es una entidad que posee un estado (atributos) y un comportamiento (métodos)…”\n",
    "\n",
    "> **Un objeto es una instancia de una clase.**\n",
    "\n",
    "Cuando generamos una instancia de la clase MiClase(), estamos creando un objeto MiClase()."
   ]
  },
  {
   "cell_type": "code",
   "execution_count": 8,
   "id": "60cf770f",
   "metadata": {},
   "outputs": [
    {
     "name": "stdout",
     "output_type": "stream",
     "text": [
      "<__main__.MiClase object at 0x00000187DB1394C0>\n"
     ]
    }
   ],
   "source": [
    "miClase1 = MiClase() #creamos un objeto MiClase()\n",
    "miClase2 = MiClase() #creamos otro objeto MiClase()\n",
    "\n",
    "print (miClase2)"
   ]
  },
  {
   "cell_type": "markdown",
   "id": "08e964ba",
   "metadata": {},
   "source": [
    "Vemos que miClase1 y miClase2 son instancias de MiClase()"
   ]
  },
  {
   "cell_type": "markdown",
   "id": "cff9b96a",
   "metadata": {},
   "source": [
    "### <span style='color:#117864'> Atributos </span>\n",
    "\n",
    "Los atributos son **características propias de cada objeto y que los diferencian entre sí** (nombre, altura, colores, etc).\n",
    "\n",
    "Cuando creamos una clase especificamos qué atributos posee.\n",
    "\n",
    "Cuando instanciamos un objeto, debemos especificar todos o algunos de los atributos de la clase -lo cual dependerá de la implementación-.\n",
    "\n",
    "Recordemos que los atributos se almacenan en *variables*, por lo tanto pueden contener datos primitivos (int, float, bool, string), estructuras de datos complejas (listas, diccionarios, tuplas) o incluso otros Objetos."
   ]
  },
  {
   "cell_type": "markdown",
   "id": "3cfc9e52",
   "metadata": {},
   "source": [
    "#### Agregando datos a mi clase con el operador . (punto)\n",
    "\n",
    "La clase *MiClase()* no posee ningún dato. En principio no tendríamos que hacer nada especial para agregar información mediante atributos.\n",
    "\n",
    "Podríamos agregar atributos arbitrarios a nuestro objeto creado usando el operador . (punto).\n",
    "\n",
    "Veamos esto con un ejemplo."
   ]
  },
  {
   "cell_type": "code",
   "execution_count": 14,
   "id": "37d70a1f",
   "metadata": {},
   "outputs": [],
   "source": [
    "## Creamos una clase Punto() para representar puntos en el espacio 2D\n",
    "class Punto():\n",
    "    pass\n",
    "\n",
    "punto1=Punto()\n",
    "punto2=Punto()\n",
    "\n",
    "punto1.x = 1.23    #se pueden agragar atributos a la clase desde fuera\n",
    "punto1.y = 10.     #se pueden agragar atributos a la clase desde fuera\n",
    "\n",
    "punto1.x \n",
    "\n",
    "del punto1.x       #eliminar atributos de un objeto"
   ]
  },
  {
   "cell_type": "markdown",
   "id": "1bbe0d1c",
   "metadata": {},
   "source": [
    "El código anterior crea una clase Punto() y a partir de ella generamos dos objetos punto. Luego agregamos dos coordenadas $x$ e $y$ para simular un punto en 2D.\n",
    "\n",
    "Vemos que la forma de dar un valor a un atributo de un objeto es mediante,\n",
    "\n",
    "```Python\n",
    "objeto.atributo = valor\n",
    "```"
   ]
  },
  {
   "cell_type": "markdown",
   "id": "80007722",
   "metadata": {},
   "source": [
    "##### Pregunta\n",
    "\n",
    "¿Por qué no es recomendable -para nada- crear atributos arbitrarios en una clase?"
   ]
  },
  {
   "cell_type": "markdown",
   "id": "f5cc8758",
   "metadata": {},
   "source": [
    "#### <span style='color:#D4AC0D '>Dando valores iniciales a atributos con *\\_\\_init\\_\\_()*</span>\n",
    "\n",
    "Si bien lo anterior es completamente válido, *no es para nada* una buena práctica programación.\n",
    "\n",
    "Lo que debe hacerse es **inicializar los valores de nuestros atributos cada vez que se crea un nuevo objeto** utilizando lo que se conoce como **constructor** o método **\\_\\_init\\_\\_()** (aunque estríctamente hablando en Python es un *inicializador*).\n",
    "\n",
    "El constructor es un método especial que es *llamado cada vez que se crea una instancia de una clase*.\n",
    "\n",
    "El **CONSTRUCTOR**es usado en la clase *para inicializar los datos miembros de nuestra clase*.\n",
    "\n",
    "Veamos esto sobre nuestra clase Punto()."
   ]
  },
  {
   "cell_type": "code",
   "execution_count": 20,
   "id": "5811e31b",
   "metadata": {},
   "outputs": [
    {
     "name": "stdout",
     "output_type": "stream",
     "text": [
      "5 7\n"
     ]
    }
   ],
   "source": [
    "class Punto():\n",
    "    \"\"\"Clase para crear y operar puntos en un plano 2D\"\"\"\n",
    "    \n",
    "    #todos los metodos llevan __init___\n",
    "    def __init__(self, x:float, y:float ) -> None: #self (conductor, siempre debd estar) permite a la clase acceder a ella misma al metodo y los atributos\n",
    "        \"\"\" iniciando cordenadas del punto\"\"\"\n",
    "        self.x = x #variables de INSTANCIA empeizan a existir cuando creo el OBJETO\n",
    "        self.y = y\n",
    "        \n",
    "p1 = Punto(5,7)\n",
    "print(p1.x, p1.y)"
   ]
  },
  {
   "cell_type": "markdown",
   "id": "096f7957",
   "metadata": {},
   "source": [
    "##### Iniciando valores por defecto\n",
    "\n",
    "Podríamos inicializar la posición de nuestro punto por defecto, tal cual como lo hacemos con funciones comunes.\n",
    "\n",
    "```Python\n",
    "def __init__(self, x:float = 0.0, y:float = 0.0) -> None:\n",
    "    \"\"\"Iniciamos coordenadas de los puntos\"\"\"\n",
    "    self.x = x\n",
    "    self.y = y \n",
    "```"
   ]
  },
  {
   "cell_type": "markdown",
   "id": "715aad26",
   "metadata": {},
   "source": [
    "##### Ejercicio rápido 1\n",
    "\n",
    "- Cree algunos objetos Punto() e imprima sus valores"
   ]
  },
  {
   "cell_type": "code",
   "execution_count": null,
   "id": "2030234c",
   "metadata": {},
   "outputs": [],
   "source": [
    "## TODO Ejercicio rápido 1"
   ]
  },
  {
   "cell_type": "markdown",
   "id": "65327274",
   "metadata": {},
   "source": [
    "#### <span style='color:#D4AC0D '>Hablándonos a nosotros mismos con *self*</span>\n",
    "\n",
    "Los métodos dentro de una clase –a diferencia de aquellos fuera- necesitan de un argumento conocido como  *self*.\n",
    "\n",
    "El argumento *self* hace **referencia al mismo objeto**, es decir, a la instancia que llama al método.\n",
    "\n",
    "Si definimos un método dentro de una clase sin el argumento *self* tendremos un error al llamarlo."
   ]
  },
  {
   "cell_type": "code",
   "execution_count": null,
   "id": "f0744474",
   "metadata": {},
   "outputs": [],
   "source": [
    "class MiClase():\n",
    "    def darInfo(): #definimos el método sin el parámetro self.\n",
    "        print(\"Soy la clase MiClase\")\n",
    "\n",
    "# miclase = MiClase()\n",
    "# miclase.darInfo()"
   ]
  },
  {
   "cell_type": "markdown",
   "id": "b38bf08e",
   "metadata": {},
   "source": [
    "### <span style='color:#117864 '> Métodos: agregando comportamientos a nuestros objetos </span>\n",
    "\n",
    "El comportamiento de una clase se implementa mediante **métodos** que no son otra cosa que funciones propias de la clase, también llamadas *funciones miembro*.\n",
    "\n",
    "Los métodos llevan a cabo tareas determinadas que permiten que los objetos interactúen entre sí o con otros objetos.\n",
    "\n",
    "Tomemos nuestra clase Punto() y agreguemos algunos métodos, por ejemplo,\n",
    "\n",
    "- *moveToOrigin()* para mover un punto al origen (0.0, 0.0)\n",
    "- *moveTo(x, y)* que toma un valor de *x* y otro de *y* para mover un punto a coordenadas nuevas.\n",
    "- *calcularDistancia()* para determinar la [distancia Euclidiana](https://es.wikipedia.org/wiki/Distancia_euclidiana) entre dos puntos. La distancia euclidea entre los puntos A y B se calcula como $ d(AB) = \\sqrt{(x_s - x_0)^2 + (y_s - y_0)^2} $."
   ]
  },
  {
   "cell_type": "code",
   "execution_count": 8,
   "id": "fc3e6e61",
   "metadata": {},
   "outputs": [],
   "source": [
    "import math\n",
    "\n",
    "class Punto():\n",
    "    \"\"\"Clase para crear y operar puntos en un plano 2D\n",
    "    \n",
    "    p0 = Punto()\n",
    "    p1 = Punto(3,4)\n",
    "    p0.calcularDistancia(punto1) # retorna 5.0\n",
    "    \"\"\"\n",
    "    \n",
    "    def __init__(self, x:float = 0.0, y:float = 0.0) -> None:\n",
    "        \"\"\"Iniciamos coordenadas de los puntos.\n",
    "        Si los puntos x e y no se dan, se los inicializa en el origen\"\"\"\n",
    "        self.moveTo(x, y)  \n",
    "    \n",
    "    def moveToOrigin(self) ->None:\n",
    "        \"\"\"Mueve un punto al origen\"\"\"\n",
    "        self.x=0.\n",
    "        self.y=0.\n",
    "        ## TODO\n",
    "        \n",
    "    def moveTo(self, newx:float, newy:float) ->None:\n",
    "        \"\"\"Mueve un punto a una nueva coordenada\"\"\"\n",
    "        self.x=newx\n",
    "        self.y=newy\n",
    "        ## TODO\n",
    "        \n",
    "    def calcularDistancia(self, otroPunto: \"Punto\") ->float:\n",
    "        \"\"\"Calcula la distancia euclidiana entre dos puntos\n",
    "        \n",
    "        Parámetro:\n",
    "            - otroPunto: Instancia de un Punto()\n",
    "            \n",
    "        Retorna:\n",
    "            - La distancia entre puntos (float)\n",
    "        \"\"\"\n",
    "        return ((self.x-otroPunto.x)+(self.y-otroPunto.x))**(1/2)\n",
    "\n",
    "p1=Punto(1,3)\n",
    "        ##TODO"
   ]
  },
  {
   "cell_type": "markdown",
   "id": "8655f286",
   "metadata": {},
   "source": [
    "##### Ejercicio rápido 2\n",
    "\n",
    "- Cree algunos objetos Punto() y utilice los métodos creados para ver su comportamiento."
   ]
  },
  {
   "cell_type": "code",
   "execution_count": 42,
   "id": "d53f5f61",
   "metadata": {},
   "outputs": [
    {
     "name": "stdout",
     "output_type": "stream",
     "text": [
      "El punto3 esta en (0.0, 0.0)\n",
      "El punto3 ahora esta en (24, 56)\n"
     ]
    },
    {
     "ename": "ValueError",
     "evalue": "Zero padding is not allowed in complex format specifier",
     "output_type": "error",
     "traceback": [
      "\u001b[1;31m---------------------------------------------------------------------------\u001b[0m",
      "\u001b[1;31mValueError\u001b[0m                                Traceback (most recent call last)",
      "\u001b[1;32m~\\AppData\\Local\\Temp/ipykernel_4004/622813205.py\u001b[0m in \u001b[0;36m<module>\u001b[1;34m\u001b[0m\n\u001b[0;32m     15\u001b[0m \u001b[1;31m# Calculamos la distancia entre punto1 y punto2...\u001b[0m\u001b[1;33m\u001b[0m\u001b[1;33m\u001b[0m\u001b[0m\n\u001b[0;32m     16\u001b[0m \u001b[0md1\u001b[0m\u001b[1;33m=\u001b[0m\u001b[0mpunto1\u001b[0m\u001b[1;33m.\u001b[0m\u001b[0mcalcularDistancia\u001b[0m\u001b[1;33m(\u001b[0m\u001b[0mpunto2\u001b[0m\u001b[1;33m)\u001b[0m\u001b[1;33m\u001b[0m\u001b[1;33m\u001b[0m\u001b[0m\n\u001b[1;32m---> 17\u001b[1;33m \u001b[0mprint\u001b[0m\u001b[1;33m(\u001b[0m\u001b[1;34mf\"La distancia es: {d1:0.2f}\"\u001b[0m\u001b[1;33m)\u001b[0m\u001b[1;33m\u001b[0m\u001b[1;33m\u001b[0m\u001b[0m\n\u001b[0m\u001b[0;32m     18\u001b[0m \u001b[1;33m\u001b[0m\u001b[0m\n\u001b[0;32m     19\u001b[0m \u001b[0mpunto1\u001b[0m\u001b[1;33m.\u001b[0m\u001b[0mmoveTo\u001b[0m\u001b[1;33m(\u001b[0m\u001b[1;36m4\u001b[0m\u001b[1;33m,\u001b[0m \u001b[1;36m3\u001b[0m\u001b[1;33m)\u001b[0m\u001b[1;33m\u001b[0m\u001b[1;33m\u001b[0m\u001b[0m\n",
      "\u001b[1;31mValueError\u001b[0m: Zero padding is not allowed in complex format specifier"
     ]
    }
   ],
   "source": [
    "# ### TO DO Ejercicio rápido 2\n",
    "# ### Veamos...\n",
    "\n",
    "punto1 = Punto(5,7)\n",
    "punto2 = Punto(13,19)\n",
    "punto3 = Punto() #punto3 inicia en el origen\n",
    "\n",
    "# Vemos las coordenadas del punto3\n",
    "print(f\"El punto3 esta en ({punto3.x}, {punto3.y})\")\n",
    "\n",
    "#Movemos el punto3 a la coordenada 24, 56 e imprimimos\n",
    "punto3.moveTo(24, 56)\n",
    "print(f\"El punto3 ahora esta en ({punto3.x}, {punto3.y})\")\n",
    "\n",
    "# Calculamos la distancia entre punto1 y punto2...\n",
    "d1=punto1.calcularDistancia(punto2)\n",
    "print(f\"La distancia es: {d1:0.2f}\")\n",
    "\n",
    "punto1.moveTo(4, 3)\n",
    "punto3.moveToOrigin()\n",
    "d13 = punto1.calcularDistancia(punto3)\n",
    "print(f\"La distancia d13 es aproximadamente: {d13:0.2f}\")"
   ]
  },
  {
   "cell_type": "markdown",
   "id": "37cbf42e",
   "metadata": {},
   "source": [
    "#### <span style='color:#D4AC0D '> La importancia de agregar *dosctring* a nuestras clases</span>\n",
    "\n",
    "Podríamos utiliar la función *help()* para obtener ayuda de nuestra clase. Veamos."
   ]
  },
  {
   "cell_type": "code",
   "execution_count": 44,
   "id": "1364c3a6",
   "metadata": {},
   "outputs": [
    {
     "name": "stdout",
     "output_type": "stream",
     "text": [
      "Help on class Punto in module __main__:\n",
      "\n",
      "class Punto(builtins.object)\n",
      " |  Punto(x: float = 0.0, y: float = 0.0) -> None\n",
      " |  \n",
      " |  Clase para crear y operar puntos en un plano 2D\n",
      " |  \n",
      " |  p0 = Punto()\n",
      " |  p1 = Punto(3,4)\n",
      " |  p0.calcularDistancia(punto1) # retorna 5.0\n",
      " |  \n",
      " |  Methods defined here:\n",
      " |  \n",
      " |  __init__(self, x: float = 0.0, y: float = 0.0) -> None\n",
      " |      Iniciamos coordenadas de los puntos.\n",
      " |      Si los puntos x e y no se dan, se los inicializa en el origen\n",
      " |  \n",
      " |  calcularDistancia(self, otroPunto: 'Punto') -> float\n",
      " |      Calcula la distancia euclidiana entre dos puntos\n",
      " |      \n",
      " |      Parámetro:\n",
      " |          - otroPunto: Instancia de un Punto()\n",
      " |          \n",
      " |      Retorna:\n",
      " |          - La distancia entre puntos (float)\n",
      " |  \n",
      " |  moveTo(self, newx: float, newy: float) -> None\n",
      " |      Mueve un punto a una nueva coordenada\n",
      " |  \n",
      " |  moveToOrigin(self) -> None\n",
      " |      Mueve un punto al origen\n",
      " |  \n",
      " |  ----------------------------------------------------------------------\n",
      " |  Data descriptors defined here:\n",
      " |  \n",
      " |  __dict__\n",
      " |      dictionary for instance variables (if defined)\n",
      " |  \n",
      " |  __weakref__\n",
      " |      list of weak references to the object (if defined)\n",
      "\n"
     ]
    }
   ],
   "source": [
    "help(Punto)"
   ]
  },
  {
   "cell_type": "code",
   "execution_count": 43,
   "id": "a4792cb3",
   "metadata": {},
   "outputs": [
    {
     "name": "stdout",
     "output_type": "stream",
     "text": [
      "Help on method calcularDistancia in module __main__:\n",
      "\n",
      "calcularDistancia(otroPunto: 'Punto') -> float method of __main__.Punto instance\n",
      "    Calcula la distancia euclidiana entre dos puntos\n",
      "    \n",
      "    Parámetro:\n",
      "        - otroPunto: Instancia de un Punto()\n",
      "        \n",
      "    Retorna:\n",
      "        - La distancia entre puntos (float)\n",
      "\n"
     ]
    }
   ],
   "source": [
    "# Podríamos ver la ayuda solo de un método\n",
    "help(Punto().calcularDistancia)"
   ]
  },
  {
   "cell_type": "markdown",
   "id": "1f2966c4",
   "metadata": {},
   "source": [
    "#### <span style='color:#D4AC0D'>Hablándonos a nosotros mismos con *self*</span>\n",
    "\n",
    "Los métodos dentro de una clase –a diferencia de aquellos fuera- necesitan de un argumento conocido como ***self***.\n",
    "\n",
    "El argumento *self* hace referencia *al mismo objeto*, es decir a la **instancia** que llama al método. Esto nos permite acceder a atributos y métodos de la clase.\n",
    "\n",
    "La palabra *self* es una convención, podríamos usar cualquier otra, no obstante es utilizada entre la comunidad de personas desarrolladoras en Python.\n",
    "\n",
    "Si definimos un método dentro de una clase sin el argumento *self* tendremos un error al llamarlo, veamos."
   ]
  },
  {
   "cell_type": "markdown",
   "id": "7a2b2143",
   "metadata": {},
   "source": [
    "Veremos más adelante como podríamos definir métodos estáticos que no llevan el argumento self."
   ]
  },
  {
   "cell_type": "markdown",
   "id": "f02086f0",
   "metadata": {},
   "source": [
    "### <span style='color:#B03A2E'>¡Bonus 1! Personalizando la información impresa de mi objeto</span>\n",
    "\n",
    "Por defecto cuando queremos imprimir información de alguna instancia de nuestra clase Punto() veremos que el intérprete nos arroja información mostrándonos la dirección de memoria en la que se encuentra alojado nuestro objeto.\n",
    "\n",
    "Veamos..."
   ]
  },
  {
   "cell_type": "code",
   "execution_count": 46,
   "id": "aa076d42",
   "metadata": {},
   "outputs": [
    {
     "name": "stdout",
     "output_type": "stream",
     "text": [
      "P(0.0,0.0)\n"
     ]
    }
   ],
   "source": [
    "p4 = Punto()\n",
    "print(p4)"
   ]
  },
  {
   "cell_type": "markdown",
   "id": "c4605f35",
   "metadata": {},
   "source": [
    "#### <span style='color:#D4AC0D'>Sobreescribiendo el método *\\_\\_str\\_\\_*</span>\n",
    "\n",
    "¿No sería más útil que cuando hagamos *print(p4)* aparezca información de la ubicación del punto en el espacio?\n",
    "\n",
    "Para lograr esto vamos a **sobrescribir** el método *\\_\\_str\\_\\_* el cual es heredado de la clase *[object](https://docs.python.org/3/tutorial/classes.html#:~:text=Python%20classes%20provide%20all%20the,class%20with%20the%20same%20name.)* de Python.\n",
    "\n",
    "Veamos..."
   ]
  },
  {
   "cell_type": "code",
   "execution_count": 45,
   "id": "c6f5d879",
   "metadata": {},
   "outputs": [],
   "source": [
    "class Punto():\n",
    "    \"\"\"Clase para crear y operar puntos en un plano 2D\n",
    "    \n",
    "    p0 = Punto()\n",
    "    p1 = Punto(3,4)\n",
    "    p0.calcularDistancia(punto1) # retorna 5.0\n",
    "    \"\"\"\n",
    "    \n",
    "    def __init__(self, x:float = 0.0, y:float = 0.0) ->None:\n",
    "        \"\"\"Iniciamos coordenadas de los puntos.\n",
    "        Si los puntos x e y no se dan, se los inicializa en el origen\"\"\"\n",
    "        self.x = x\n",
    "        self.y = y\n",
    "    \n",
    "    def __str__(self):\n",
    "        \"\"\"Imprimimos coordenadas del punto\"\"\"\n",
    "        return f\"P(%s,%s)\"  % (self.x, self.y)"
   ]
  },
  {
   "cell_type": "markdown",
   "id": "f0a96e17",
   "metadata": {},
   "source": [
    "Creamos una nueva instancia de Punto() y utilizamos *print()* para imprimir información del objeto."
   ]
  },
  {
   "cell_type": "code",
   "execution_count": 47,
   "id": "a94d2105",
   "metadata": {},
   "outputs": [
    {
     "name": "stdout",
     "output_type": "stream",
     "text": [
      "P(3,4)\n"
     ]
    }
   ],
   "source": [
    "p5 = Punto(3,4)\n",
    "print(p5)"
   ]
  },
  {
   "cell_type": "markdown",
   "id": "04a01215",
   "metadata": {},
   "source": [
    "### <span style='color:#B03A2E'>¡Bonus 2! Comparando dos objetos con *==*</span>\n",
    "\n",
    "Podría ser útil poder comparar dos puntos creados a partir de nuestra clase Punto() mediante el operador *==*.\n",
    "\n",
    "Veamos..."
   ]
  },
  {
   "cell_type": "code",
   "execution_count": 48,
   "id": "909eec59",
   "metadata": {},
   "outputs": [
    {
     "data": {
      "text/plain": [
       "False"
      ]
     },
     "execution_count": 48,
     "metadata": {},
     "output_type": "execute_result"
    }
   ],
   "source": [
    "## Creamos dos puntos con las mismas coordenadas\n",
    "p1 = Punto(2,2)\n",
    "p2 = Punto(2,2)\n",
    "p1 == p2"
   ]
  },
  {
   "cell_type": "markdown",
   "id": "b1f475df",
   "metadata": {},
   "source": [
    "Vemos que a pesar de que p1 y p2 poseen la misma coordenada, al compararlos con *==*, el intérprete me arroja *False* indicando que no son los mismos puntos.\n",
    "\n",
    "¿Cómo podríamos solucionar esto? Sobrecargando el método *\\_\\_eq\\_\\_()*."
   ]
  },
  {
   "cell_type": "markdown",
   "id": "a870a41b",
   "metadata": {},
   "source": [
    "#### <span style='color:#D4AC0D'>Sobrecargando el método *\\_\\_eq\\_\\_*</span>\n",
    "\n",
    "Cuando utilizamos *==* entre dos objetos, Python invoca al método *\\_\\_eq\\_\\_* del primer objeto -el de la izquierda del ==- y le pasa al segundo objeto -el de la derecha del ==- para compararlos.\n",
    "\n",
    "Veamos..."
   ]
  },
  {
   "cell_type": "code",
   "execution_count": 12,
   "id": "79b4fcd3",
   "metadata": {},
   "outputs": [],
   "source": [
    "class Punto():\n",
    "    \"\"\"Clase para crear y operar puntos en un plano 2D\n",
    "    \n",
    "    p0 = Punto()\n",
    "    p1 = Punto(3,4)\n",
    "    p0.calcularDistancia(punto1) # retorna 5.0\n",
    "    \"\"\"\n",
    "    \n",
    "    def __init__(self, x:float = 0.0, y:float = 0.0) ->None:\n",
    "        \"\"\"Iniciamos coordenadas de los puntos.\n",
    "        Si los puntos x e y no se dan, se los inicializa en el origen\"\"\"\n",
    "        self.x = x\n",
    "        self.y = y\n",
    "        \n",
    "    def __eq__(self, otroPunto):\n",
    "        return (self.x, self.y) == (otroPunto.x, otroPunto.y)"
   ]
  },
  {
   "cell_type": "code",
   "execution_count": 13,
   "id": "df1cd121",
   "metadata": {},
   "outputs": [
    {
     "data": {
      "text/plain": [
       "True"
      ]
     },
     "execution_count": 13,
     "metadata": {},
     "output_type": "execute_result"
    }
   ],
   "source": [
    "## Creando dos puntos iguales\n",
    "p1 = Punto(2,2)\n",
    "p2 = Punto(2,2)\n",
    "p1 == p2"
   ]
  },
  {
   "cell_type": "markdown",
   "id": "53a484cc",
   "metadata": {},
   "source": [
    "Podemos ver que ahora al comparar p2 y p1, Python nos arroja *True*, lo cual es lo lógico.\n",
    "\n",
    "Sin embargo, no hemos terminado aún. ¿Qué pasaría si quisieramos comparar un objeto Punto con otro objeto?\n",
    "\n",
    "Veamos..."
   ]
  },
  {
   "cell_type": "code",
   "execution_count": null,
   "id": "954a7405",
   "metadata": {},
   "outputs": [],
   "source": [
    "lista = [2,2]\n",
    "\n",
    "p1 == lista"
   ]
  },
  {
   "cell_type": "markdown",
   "id": "70a47748",
   "metadata": {},
   "source": [
    "Vemos que obtenemos un error del tipo,\n",
    "\n",
    "> *AttributeError: 'list' object has no attribute 'x'\n",
    "\n",
    "Esto sucede porque estamos comparando dos objetos diferentes. La forma común de solucionar esto es utilizando la función *[isinstance()](https://docs.python.org/3/library/functions.html#isinstance)* dentro del método *\\_\\_eq\\_\\_*.\n",
    "\n",
    "Veamos..."
   ]
  },
  {
   "cell_type": "code",
   "execution_count": 15,
   "id": "7799f446",
   "metadata": {},
   "outputs": [],
   "source": [
    "class Punto():\n",
    "    \"\"\"Clase para crear y operar puntos en un plano 2D\n",
    "    \n",
    "    p0 = Punto()\n",
    "    p1 = Punto(3,4)\n",
    "    p0.calcularDistancia(punto1) # retorna 5.0\n",
    "    \"\"\"\n",
    "    \n",
    "    def __init__(self, x:float = 0.0, y:float = 0.0) ->None:\n",
    "        \"\"\"Iniciamos coordenadas de los puntos.\n",
    "        Si los puntos x e y no se dan, se los inicializa en el origen\"\"\"\n",
    "        self.x = x\n",
    "        self.y = y\n",
    "        \n",
    "    def __eq__(self, otroPunto):\n",
    "        \"\"\"Comparamos si dos puntos son iguales\"\"\"\n",
    "        if not isinstance(otroPunto, Punto):\n",
    "            return False\n",
    "        else:\n",
    "            return (self.x, self.y) == (otroPunto.x, otroPunto.y)"
   ]
  },
  {
   "cell_type": "code",
   "execution_count": 16,
   "id": "bfcc30e2",
   "metadata": {},
   "outputs": [
    {
     "data": {
      "text/plain": [
       "False"
      ]
     },
     "execution_count": 16,
     "metadata": {},
     "output_type": "execute_result"
    }
   ],
   "source": [
    "p1 = Punto(2,2)\n",
    "p2 = Punto(2,2)\n",
    "p1 == p2\n",
    "\n",
    "lista = [2,2]\n",
    "p1 == lista"
   ]
  },
  {
   "cell_type": "markdown",
   "id": "941bdd1f",
   "metadata": {},
   "source": [
    "#### <span style='color:#D4AC0D'>Completando la implementación de mi clase Punto</span>\n",
    "\n",
    "Agregemos los métodos *\\_\\_eq\\_\\_* y *\\_\\_str\\_\\_* que hemos modificado a nuestra clase Punto()."
   ]
  },
  {
   "cell_type": "code",
   "execution_count": 53,
   "id": "3f4440ff",
   "metadata": {},
   "outputs": [],
   "source": [
    "import math\n",
    "\n",
    "class Punto():\n",
    "    \"\"\"Clase para crear y operar puntos en un plano 2D\n",
    "    \n",
    "    p0 = Punto()\n",
    "    p1 = Punto(3,4)\n",
    "    p0.calcularDistancia(punto1) # retorna 5.0\n",
    "    \"\"\"\n",
    "    \n",
    "    def __init__(self, x:float = 0.0, y:float = 0.0) ->None:\n",
    "        \"\"\"Iniciamos coordenadas de los puntos.\n",
    "        Si los puntos x e y no se dan, se los inicializa en el origen\"\"\"\n",
    "        self.moveTo(x, y)  \n",
    "    \n",
    "    def moveToOrigin(self) ->None:\n",
    "        \"\"\"Mueve un punto al origen\"\"\"\n",
    "        self.x = 0.\n",
    "        self.y = 0.\n",
    "        \n",
    "    def moveTo(self, newx:float, newy:float) ->None:\n",
    "        \"\"\"Mueve un punto a una nueva coordenada\"\"\"\n",
    "        self.x = newx\n",
    "        self.y = newy\n",
    "        \n",
    "    def calcularDistancia(self, otroPunto: \"Punto\") ->float:\n",
    "        \"\"\"Calcula la distancia euclidiana entre dos puntos\n",
    "        \n",
    "        Parámetro:\n",
    "            - otroPunto: Instancia de un Punto()\n",
    "            \n",
    "        Retorna:\n",
    "            - La distancia entre puntos (float)\n",
    "        \"\"\"\n",
    "        return math.hypot(self.x - otroPunto.x, self.y - otroPunto.y)\n",
    "    \n",
    "    def __str__(self):\n",
    "        \"\"\"Imprimimos coordenadas del punto\"\"\"\n",
    "        return f\"P(%s,%s)\"  % (self.x, self.y)\n",
    "    \n",
    "    def __eq__(self, otroPunto):\n",
    "        \"\"\"Comparamos si dos puntos son iguales\"\"\"\n",
    "        if not isinstance(otroPunto, Punto):\n",
    "            return False\n",
    "        else:\n",
    "            return (self.x, self.y) == (otroPunto.x, otroPunto.y)"
   ]
  },
  {
   "cell_type": "markdown",
   "id": "bff314d1",
   "metadata": {},
   "source": [
    "##### Ejercicio rápido 3\n",
    "\n",
    "- Genere algunos objetos Punto() y utilice sus métodos para hacer pruebas de su comportamiento."
   ]
  },
  {
   "cell_type": "code",
   "execution_count": 59,
   "id": "60d0bc8d",
   "metadata": {},
   "outputs": [
    {
     "data": {
      "text/plain": [
       "5.099019513592785"
      ]
     },
     "execution_count": 59,
     "metadata": {},
     "output_type": "execute_result"
    }
   ],
   "source": [
    "p1=Punto(2,3)\n",
    "p2=Punto(3,8)\n",
    "\n",
    "d1=p1.calcularDistancia(p2)\n",
    "d1"
   ]
  },
  {
   "cell_type": "markdown",
   "id": "2e1f988f",
   "metadata": {},
   "source": [
    "<hr style=\"border:1px solid gray\"> </hr>\n",
    "\n",
    "### <span style='color:#117864'> Atributos de *instancia* vs atributos de *clase*</span>\n",
    "\n",
    "Cuando creamos una clase podemos diferenciar dos tipos de atributos, estos son,\n",
    "\n",
    "- **Atributos de instancia**, los cuales toman valores cuando se crea el objeto. Estos atributos son únicos del objeto.\n",
    "- **Atributos de clase**, son los que se aplican a todas las instancias (objetos) creados.\n",
    "\n",
    "Veamos esto con un ejemplo..."
   ]
  },
  {
   "cell_type": "code",
   "execution_count": 66,
   "id": "f1e59b54",
   "metadata": {},
   "outputs": [
    {
     "name": "stdout",
     "output_type": "stream",
     "text": [
      "Estudiante: WICK JOHN de 35 años\n"
     ]
    }
   ],
   "source": [
    "class Estudiante():\n",
    "    \"\"\"Clase Estudiante...\"\"\"\n",
    "    tipo = \"Estudiante\" #atributo de clase\n",
    "    \n",
    "    def __init__(self, name, lastname, age):\n",
    "        ## atributos de instancia\n",
    "        self.name = name\n",
    "        self.lastname = lastname\n",
    "        self.age = age\n",
    "        \n",
    "    def __str__(self):\n",
    "        return f\"%s: %s %s de %s años\" % (self.tipo,\n",
    "                                          self.lastname.upper(), self.name.upper(),\n",
    "                                          self.age)\n",
    "        \n",
    "## A los atributos de clase podemos acceder sin necesidad de instanciar un objeto\n",
    "Estudiante.tipo\n",
    "\n",
    "# Si quisieramos acceder a un atributo de instancia sin antes crear el objeto, obtendríamos un error\n",
    "# Estudiante.name\n",
    "\n",
    "# # Al instanciar un objeto Estudiante podremos acceder a sus atributos de instancia\n",
    "estudiante1 = Estudiante(\"John\", \"Wick\", 35)\n",
    "#print(estudiante1.name)\n",
    "print(estudiante1)"
   ]
  },
  {
   "cell_type": "markdown",
   "id": "d23d8b7e",
   "metadata": {},
   "source": [
    "### <span style='color:#117864'> Métodos de instancia y de clase</span>\n",
    "\n",
    "Veamos la siguiente definición de la clase *MiClase()*.\n",
    "\n",
    "```Python\n",
    "class MiClase():\n",
    "    \"\"\"Clase de ejemplo\"\"\"\n",
    "    \n",
    "    variableDeClase = \"Variable de clase\"\n",
    "    \n",
    "    def __init__(self):\n",
    "        variableDeInstancia = \"Variable de instancia\"\n",
    "    \n",
    "    def instanceMethod(self):\n",
    "        \"\"\"Método de instancia\"\"\"\n",
    "        return 'Se ha llamado al método de instancia', self\n",
    "\n",
    "    @classmethod\n",
    "    def classMethod(cls):\n",
    "        \"\"\"Método de clase\"\"\"\n",
    "        return 'Se ha llamado al método de clase', cls\n",
    "```\n",
    "\n",
    "Se han definido dos métodos.\n",
    "\n",
    "##### Método de instancia\n",
    "\n",
    "El primer método luego de *\\_\\_init()\\_\\_* llamado *instanceMethod()* es un método común como los que ya hemos visto. Es el tipo más básico, sencillo y el que se utilizará en la mayor parte del tiempo.\n",
    "\n",
    "Vemos que el parámetro que toma el método de instancia es *self* -el cual apunta a la misma clase-, que como ya hemos visto, es necesario siempre que querramos utilizar el método.\n",
    "\n",
    "##### Método de clase\n",
    "\n",
    "El tercer método llamado *classMethod()* es un método de clase el cual está precedido por el decorador *[@classmethod](https://docs.python.org/3/library/functions.html#classmethod)*.\n",
    "\n",
    "Es importante notar que este método no recibe un parámetro propio, sino que que recibe un parámetro llamado **cls** el cual apunta **a la clase** y no a la instancia del objeto.\n",
    "\n",
    "Dado que el método de clase sólo tiene acceso al argumento *cls*, no podrá modificar el estado de la instancia del objeto, para que pueda hacer esto, el método debería poder recibir una referencia a si mismo -lo cual si hacen los métodos de instancia a través de *self*-.\n",
    "\n",
    "NOTA: Al igual que con *self*, la palabra *cls* es solo una convención, uno podría poner cualquier otro nombre.\n",
    "\n",
    "Veamos tdo esto en acción..."
   ]
  },
  {
   "cell_type": "code",
   "execution_count": 5,
   "id": "950d3bb3",
   "metadata": {},
   "outputs": [
    {
     "name": "stdout",
     "output_type": "stream",
     "text": [
      "('Se ha llamado al método de clase', <class '__main__.MiClase'>)\n",
      "('Se ha llamado al método de clase', <class '__main__.MiClase'>)\n"
     ]
    }
   ],
   "source": [
    "class MiClase():\n",
    "    \"\"\"Clase de ejemplo\"\"\"\n",
    "    \n",
    "    variableDeClase = \"Variable de clase\" #inidcador de una varibale de clase \n",
    "    \n",
    "    \n",
    "    def __init__(self):\n",
    "        self.variableDeInstancia = \"Variable de instancia\"\n",
    "    \n",
    "    def instanceMethod(self):\n",
    "        \"\"\"Método de instancia\"\"\"\n",
    "        return 'Se ha llamado al método de instancia', self\n",
    "\n",
    "    @classmethod\n",
    "    def classMethod(cls):\n",
    "        \"\"\"Método de clase\"\"\"\n",
    "        return 'Se ha llamado al método de clase', cls\n",
    "    \n",
    "    ## Más metodos\n",
    "    def modificadorDeInstancia(self):\n",
    "        self.variableDeInstancia = \"variableDeInstancia se ha cambiado desde un método de instancia\"\n",
    "        \n",
    "    @classmethod\n",
    "    def modificadorDeClase(cls):\n",
    "        self.variableDeClase = \"variableDeClase se ha cambiado desde un método de clase\"\n",
    "    \n",
    "# 1) Creo un objeto MiClase()\n",
    "miclase = MiClase()\n",
    "# # 2) Llamo al método de instancia \n",
    "#print(miclase.instanceMethod())\n",
    "\n",
    "# # 3) Llamo al método de clase desde la instancia (objeto)\n",
    "print(miclase.classMethod())\n",
    "# # Prestar atención a las salidas dadas por print(). Claramente son diferentes\n",
    "\n",
    "# # 4) Ahora lamo al método classMethod() desde la clase misma, es decir, sin crear una instancia\n",
    "print(MiClase.classMethod()) ##¿Cual es la diferencia entre el punto 4) y el 3)\n",
    "\n",
    "# # 5) Ahora llamo al método de instancia directamente desde la clase\n",
    "# # ¿Qué creen que pasará?\n",
    "# print(MiClase.instanceMethod())"
   ]
  },
  {
   "cell_type": "markdown",
   "id": "0db13ca2",
   "metadata": {},
   "source": [
    "**NOTA**: Otra diferencia fundamental entre los métodos de instancia y de clase es que los primeros pueden modificar el estado de los atributos de instancia y también de clase, sin embargo, los métodos de clase solamente pueden modificar el estado de la clase, pero no de las instancias.\n",
    "\n",
    "Veamos..."
   ]
  },
  {
   "cell_type": "code",
   "execution_count": 6,
   "id": "22c7f505",
   "metadata": {},
   "outputs": [
    {
     "name": "stdout",
     "output_type": "stream",
     "text": [
      "Variable de instancia\n",
      "Variable de clase\n",
      "Cambie el valor de la variable de instancia\n",
      "...y también el de clase\n"
     ]
    }
   ],
   "source": [
    "## Cambiando los estados de la instancia y de la clase mediante el método de instancia\n",
    "print(miclase.variableDeInstancia)\n",
    "print(miclase.variableDeClase)\n",
    "miclase.variableDeInstancia = \"Cambie el valor de la variable de instancia\"\n",
    "miclase.variableDeClase = \"...y también el de clase\"\n",
    "print(miclase.variableDeInstancia)\n",
    "print(miclase.variableDeClase)\n",
    "\n",
    "# Intentemos ahora modificar el estado de una instancia desde el método de clase y el de instancia\n",
    "# miclase.modificadorDeInstancia()\n",
    "# print(miclase.variableDeInstancia)\n",
    "# miclase.modificadorDeClase()\n",
    "# print(miclase.variableDeClase)"
   ]
  },
  {
   "cell_type": "markdown",
   "id": "f57d606b",
   "metadata": {},
   "source": [
    "### <span style='color:#B03A2E'>¡Bonus 3! Métodos estáticos</span>\n",
    "\n",
    "TO DO"
   ]
  },
  {
   "cell_type": "code",
   "execution_count": null,
   "id": "e0f1ce2c",
   "metadata": {},
   "outputs": [],
   "source": [
    "class MiClase():\n",
    "    \"\"\"Clase de ejemplo\"\"\"\n",
    "    \n",
    "    def instanceMethod(self):\n",
    "        \"\"\"Método de instancia\"\"\"\n",
    "        return 'Se ha llamado al método de instancia', self\n",
    "\n",
    "    @classmethod\n",
    "    def classMethod(cls):\n",
    "        \"\"\"Método de clase\"\"\"\n",
    "        return 'Se ha llamado al método de clase', cls\n",
    "\n",
    "    @staticmethod\n",
    "    def staticmethod():\n",
    "        \"\"\"Método estático\"\"\"\n",
    "        return 'Se ha llamado a un método estático'"
   ]
  },
  {
   "cell_type": "markdown",
   "id": "8b862038",
   "metadata": {},
   "source": [
    "##  <span style='color:#3A40A2 '> Fin </span>\n",
    "\n",
    "Aquí finaliza la parte 1 de la teoría del Módulo 4."
   ]
  }
 ],
 "metadata": {
  "celltoolbar": "Raw Cell Format",
  "kernelspec": {
   "display_name": "Python 3 (ipykernel)",
   "language": "python",
   "name": "python3"
  },
  "language_info": {
   "codemirror_mode": {
    "name": "ipython",
    "version": 3
   },
   "file_extension": ".py",
   "mimetype": "text/x-python",
   "name": "python",
   "nbconvert_exporter": "python",
   "pygments_lexer": "ipython3",
   "version": "3.9.7"
  }
 },
 "nbformat": 4,
 "nbformat_minor": 5
}
