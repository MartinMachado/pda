{
 "cells": [
  {
   "cell_type": "markdown",
   "id": "d3bce825",
   "metadata": {},
   "source": [
    "# <center> <span style='color:#3A40A2 '> Ejercitación Módulo 1 </span></center>\n",
    "<hr style=\"border:1px solid gray\"> </hr>\n",
    "\n",
    "Ejercitación correspondiente a la unidad curricular ***Programación Digital Avanzada*** de la carrera de *Ingeniería Biomédica* de la UTEC.\n",
    "\n",
    "\n",
    "\n",
    "**Profesor Adjunto:** Mag. Bioing. Baldezzari Lucas\n",
    "\n",
    "<p style='text-align: left;'> V2022 </p>"
   ]
  },
  {
   "cell_type": "markdown",
   "id": "688db0b1",
   "metadata": {},
   "source": [
    "<hr style=\"border:1px solid gray\"> </hr>\n",
    "\n",
    "### <span style='color:#f95441'>Objetivos</span>\n",
    "\n",
    "\n",
    "- Instalar, preparar y realizar algunos ejercicios con las herramientas que serán utilizadas -Python, Anaconda, Visual Studio Code, Git- durante el cursado de PDA.\n",
    "- Repasar y recordar conceptos de programación vistos en otras UCs de la carrera.\n",
    "- Familiarizarse con los conceptos básicos de un Sistema de Control de Versiones.\n"
   ]
  },
  {
   "cell_type": "markdown",
   "id": "c601f423",
   "metadata": {},
   "source": [
    "### Primera parte\n",
    "\n",
    "En su Laptop o terminal de trabajo realizar lo siguiente.\n",
    "\n",
    "1.\tInstalar Python -3.9 o superior-.\n",
    "2.\tDescargar e instalar [Anaconda](https://www.anaconda.com/products/individual). En el caso de usuarios de Windows, configurar Anaconda para poder trabajar desde la terminal.\n",
    "3.\tDescargar e instalar [Visual Studio Code (VSC)](https://code.visualstudio.com/) -o cualquier otro entorno de desarrollo deseado, aunque se recomienda VSC-\n",
    "4.\tIngresar a github.com y crearse una cuenta con su correo de UTEC. En el caso de tener una, omitir este paso.\n",
    "5.\tDescargar e instalar [Git](https://git-scm.com/). En el caso de usuarios de Windows, configurar Git para poder trabajar desde la terminal. Recordar que Git ofrece una terminal propia llamada Git Bash la cual emula una terminal de Linux -su uso es sencillo-.\n",
    "6.\tDesde Github.com crear un repositorio de trabajo donde se alojarán todos los programas que se realizarán durante el cursado. Agregar como colaborador a lmbaldezzari@gmail.com.\n"
   ]
  },
  {
   "cell_type": "markdown",
   "id": "54799a0c",
   "metadata": {},
   "source": [
    "### Segunda Parte\n",
    "\n",
    "En esta segunda instancia deberá utilizar las herramientas instaladas y configuradas en la primera parte. Para esta parte se utilizará algún programa implementado en Python de la UC Programación de Computadoras o cualquier otro que hayan escrito.\n",
    "Luego se deberá realizar lo siguiente.\n",
    "\n",
    "1.\tCrear un nuevo enviroment utilizando Anaconda. Este será utilizado durante todo el cursado.\n",
    "2.\tDesde una terminal y utilizando git clone, clonar el repositorio creado en la primera parte.\n",
    "3.\tUsando VSC ejecutar el programa elegido previamente. Seleccionar el intérprete -ambiente/enviroment- creado en el punto 1 (ver figura debajo).\n",
    "4.\tImplementar una Jupyter Notebook para explicar qué hace el programa elegido anteriormente.\n",
    "5.\tSincronizar los cambios realizados en el repositorio local con el repositorio remoto en Github."
   ]
  },
  {
   "cell_type": "markdown",
   "id": "0e3b9369",
   "metadata": {},
   "source": [
    "<hr style=\"border:1px solid gray\"></hr>\n",
    "\n",
    "### <span style='color:#f95441'>Tercera parte: Pequeño repaso</span>\n",
    "\n",
    "Responda o programe, según corresponda, los siguientes ejercicios.\n",
    "\n",
    "**IMPORTANTE:** Intente resolver los ejercicios **sin** implementar el código. Cuando crea qye lo haya resuelto, implemente los códigos en esta misma jupyter y compare sus respuestas."
   ]
  },
  {
   "cell_type": "markdown",
   "id": "3d659fb5",
   "metadata": {},
   "source": [
    "##### Ejercicio 1\n",
    "\n",
    "Observe el siguiente código y responda mediante la selección de una de las opciones debajo la siguiente pregunta, ¿qué valores enteros iniciales de *x* e *y* harían que este código entrará en un loop infinito?\n",
    "\n",
    "```Python\n",
    "x = ?\n",
    "y = ?\n",
    "\n",
    "while x > y:\n",
    "    y -= 1\n",
    "    x -= abs(y)\n",
    "```\n",
    "\n",
    "1. Cualquier y, con x igual a cero\n",
    "2. Cualquier x, con y igual a cero\n",
    "3. Cualquier x negativo, con y igual a cero\n",
    "4. Cualquier y negativo, con x igual a cero\n",
    "5. Nuna entra en un bucle einfinito. "
   ]
  },
  {
   "cell_type": "code",
   "execution_count": null,
   "id": "701995b5",
   "metadata": {},
   "outputs": [],
   "source": [
    "## Respuesta: 4. nunca entra en un bucle infinito ya que de acuerdo a al código dentro del while,\n",
    "##vnunca se podrá mantener infinitamente que x >y."
   ]
  },
  {
   "cell_type": "markdown",
   "id": "e92c1fc3",
   "metadata": {},
   "source": [
    "##### Ejercicio 2\n",
    "\n",
    "Observe el siguiente trozo de código,\n",
    "\n",
    "```Python\n",
    "a = ?\n",
    "b = ?\n",
    "c = ?\n",
    "\n",
    "if a > b:\n",
    "    if a / c > 1.0:\n",
    "        m = 10.3\n",
    "    else:\n",
    "        m = 3.5\n",
    "\n",
    "else:\n",
    "    if c % 2 != 0:\n",
    "        m = -2.5\n",
    "    else:\n",
    "        m = -31.6\n",
    "\n",
    "print (m)\n",
    "```\n",
    "\n",
    "Supongamos que después de ejecutar el código anterior, encontramos que el valor de *m* es *-2.5*. Con eso, ¿cuál de las opciones representa valores válidos para a, b y c?\n",
    "\n",
    "Seleccione un posible respuesta.\n",
    "\n",
    "1. a = 3.1, b = -23.1, c = 10.5\n",
    "2. a = 10.5, b = 3.1, c = -23.1\n",
    "3. a = 10.5, b = -23.1, c = 3.1\n",
    "4. a = -23.1, b = 3.1, c = 10.5\n",
    "5. e) a = 2.5, b = -2.5, c = 3.5"
   ]
  },
  {
   "cell_type": "code",
   "execution_count": null,
   "id": "fc1d5cbd",
   "metadata": {},
   "outputs": [],
   "source": [
    "##Respuesta: 4. Observando el código anterior la opción que presenta valores es la opción: 4, ya que es en la única opción que no se cumple el if inicial, \n",
    "## pasando a la siguiente condición donde c %2 !=0 por lo que se encuentra el valor de m=-2.5."
   ]
  },
  {
   "cell_type": "markdown",
   "id": "71a8f8ab",
   "metadata": {},
   "source": [
    "##### Ejercicio 3\n",
    "\n",
    "Con lo que usted conoce de Python, ¿que piensa que hace la siguiente función?\n",
    "\n",
    "```Python\n",
    "def func(s: str):\n",
    "    suma = 0\n",
    "    for c in s:\n",
    "        if c in \"aeiou\":\n",
    "            suma += 1\n",
    "    return suma\n",
    "```\n",
    "\n",
    "**NOTA:** Antes de ejecutar el código anterior piense que es lo que hace la función, luego implemente."
   ]
  },
  {
   "cell_type": "code",
   "execution_count": null,
   "id": "7bb38b21",
   "metadata": {},
   "outputs": [],
   "source": [
    "##Con lo que hace la siguiente función es realizar el conteo de vocales, por medio de la comparación de c, en cada una de las letras de la frase o palabra introducida en s:\n",
    "## Al detectarse una de las vocales, se realiza una suma y aumenta el contador"
   ]
  },
  {
   "cell_type": "markdown",
   "id": "f3d0ce82",
   "metadata": {},
   "source": [
    "# Ejercicio 4\n",
    "\n",
    "Supongamos que en el fragmento de código siguiente queremos llamar a la función generate_report() solo una vez por\n",
    "cada 100 iteraciones. En este caso, la prueba condicional en el *if*, ¿cual debe ser?\n",
    "\n",
    "\n",
    "```Python\n",
    "for i in range(999999):\n",
    "    #código\n",
    "    if (...):\n",
    "        generate_report()\n",
    "```"
   ]
  },
  {
   "cell_type": "code",
   "execution_count": 9,
   "id": "3faacf50",
   "metadata": {},
   "outputs": [
    {
     "ename": "SyntaxError",
     "evalue": "invalid syntax (Temp/ipykernel_24980/1995214741.py, line 5)",
     "output_type": "error",
     "traceback": [
      "\u001b[1;36m  File \u001b[1;32m\"C:\\Users\\juani\\AppData\\Local\\Temp/ipykernel_24980/1995214741.py\"\u001b[1;36m, line \u001b[1;32m5\u001b[0m\n\u001b[1;33m    generate_report(print\"Aquì\")\u001b[0m\n\u001b[1;37m                         ^\u001b[0m\n\u001b[1;31mSyntaxError\u001b[0m\u001b[1;31m:\u001b[0m invalid syntax\n"
     ]
    }
   ],
   "source": [
    "##Prueba condicional\n",
    "for i in range(999999):\n",
    " print (i)\n",
    "if (1%100==0):\n",
    " generate_report(print\"Aquì\")\n"
   ]
  },
  {
   "cell_type": "markdown",
   "id": "9ded9a87",
   "metadata": {},
   "source": [
    "##### Ejercicio 5\n",
    "\n",
    "La superficie de la Tierra es curva y la distancia entre grados de longitud varía con la latitud de la tierra. Como resultado, encontrar la distancia entre dos puntos en la superficie de la Tierra es más complicado que simplemente usar el teorema de Pitágoras.\n",
    "\n",
    "Sean (t1, g1) y (t2, g2) la latitud y la longitud de dos puntos en la superficie de la Tierra. La distancia entre estos puntos, siguiendo la superficie de la Tierra, en\n",
    "kilómetros es:\n",
    "\n",
    "$$   distancia = \\frac{n\\times s^2}{4\\times \\tan(\\frac{\\pi}{n})}  $$\n",
    "\n",
    "$$   distancia =  6371.01\\times \\arccos{\\left( \\sin(t_1)\\times \\sin(t_2) + \\cos(t_1)\\times \\cos(t_2)\\times \\cos(g_1-g_2) \\right)}$$\n",
    "\n",
    "Implemente un programa que permita al usuario ingresar la latitud y longitud de dos puntos en la Tierra en grados. Su programa debe mostrar la distancia entre los puntos, siguiendo la superficie de la tierra, en kilómetros.\n",
    "\n",
    "*Nota*\n",
    "\n",
    "- Utilice las funciones trignométricas de la librería *math* para realizar los cálculos.\n",
    "- El ingreso de datos por teclado puede hacerse con la función *input()*, por ejemplo,\n",
    "\n",
    "\n",
    "```Python\n",
    "entradaTeclado = input(\"Escriba algo y luego presione enter\")\n",
    "print(f\"el mensaje fue {entradaTeclado}\")\n",
    "```"
   ]
  },
  {
   "cell_type": "code",
   "execution_count": 5,
   "id": "7daa84c3",
   "metadata": {},
   "outputs": [
    {
     "name": "stdout",
     "output_type": "stream",
     "text": [
      "Por favor ingrese valores de Latitud y Longitud para los puntos:\n",
      "Ingrese Latitud 1:-33.25\n",
      "Ingrese Longitud 1:-58.0319\n",
      " Ingrese Latitud 2:-33.1325000\n",
      "Ingrese Longitud 2:-58.2955600\n",
      "Distancia es: 27.796432440691586 kilometros\n"
     ]
    }
   ],
   "source": [
    "### Resolución ejercicio 5\n",
    "### TO DO\n",
    "\n",
    "from math import radians, cos, sin, asin, acos\n",
    "\n",
    "##Ingreso de variables\n",
    "print('Por favor ingrese valores de Latitud y Longitud para los puntos:')\n",
    "t1= float(input('Ingrese Latitud 1:'))\n",
    "g1= float(input('Ingrese Longitud 1:'))\n",
    "t2= float(input('Ingrese Latitud 2:'))\n",
    "g2= float(input('Ingrese Longitud 2:'))\n",
    " \n",
    "##Conversión de variables en grados a radianes    \n",
    "g1= radians(g1)\n",
    "g2= radians(g2)\n",
    "t1= radians(t1)\n",
    "t2= radians(t2)\n",
    " \n",
    "##Calculo de la distancia entre los dos puntos\n",
    "a= g1-g2\n",
    "r= 6371 \n",
    "\n",
    "distancia = r *acos(sin(𝑡1)* sin(𝑡2)+ cos(𝑡1)*cos(𝑡2)*cos(a))\n",
    "\n",
    "print('Distancia es:' ,distancia,'kilometros')"
   ]
  },
  {
   "cell_type": "code",
   "execution_count": null,
   "id": "5d580fb8",
   "metadata": {},
   "outputs": [],
   "source": []
  },
  {
   "cell_type": "code",
   "execution_count": null,
   "id": "9087b3cb",
   "metadata": {},
   "outputs": [],
   "source": []
  }
 ],
 "metadata": {
  "kernelspec": {
   "display_name": "Python 3 (ipykernel)",
   "language": "python",
   "name": "python3"
  },
  "language_info": {
   "codemirror_mode": {
    "name": "ipython",
    "version": 3
   },
   "file_extension": ".py",
   "mimetype": "text/x-python",
   "name": "python",
   "nbconvert_exporter": "python",
   "pygments_lexer": "ipython3",
   "version": "3.9.7"
  }
 },
 "nbformat": 4,
 "nbformat_minor": 5
}
