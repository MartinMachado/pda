{
 "cells": [
  {
   "cell_type": "code",
   "execution_count": 6,
   "id": "b1a82480",
   "metadata": {},
   "outputs": [
    {
     "data": {
      "text/plain": [
       "'Mayo'"
      ]
     },
     "execution_count": 6,
     "metadata": {},
     "output_type": "execute_result"
    }
   ],
   "source": [
    "def edadesMenorMayor(edades,nombres):\n",
    "    nombreEdad = {}\n",
    "    resultado=()\n",
    "\n",
    "    for i in range(0,len(nombres)):   \n",
    "        nombreEdad[nombres[i]] = edades[i]\n",
    "    return nombreEdad\n",
    "\n",
    "nombres = [\"martin\",\"juan\",\"maxi\"]\n",
    "edades = [31,22,21]\n",
    "print(edadesMenorMayor(edades,nombres))\n",
    "            "
   ]
  },
  {
   "cell_type": "code",
   "execution_count": null,
   "id": "ae069956",
   "metadata": {},
   "outputs": [],
   "source": [
    "#ejercicio 4\n",
    "def getCMValues(nombre1, nombre2):\n",
    "    import os \n",
    "    archivo1=open(nombre1,'r')#abre el archivo \n",
    "    a= archivo1.read().split() #se asigna el contendio del archivo a la variable\n",
    "    archivo2=open(nombre2,'r')#abre el archivo \n",
    "    b= archivo2.read().split() #se asigna el contendio del archivo a la variable\n",
    "    aEnteros = list(map(int, a))\n",
    "    bEnteros = list(map(int, b))\n",
    "    \n",
    "    TP = 0\n",
    "    FP = 0\n",
    "    TN = 0\n",
    "    FN = 0\n",
    "    result=()\n",
    "    for i in range(1,len(bEnteros)):\n",
    "        if aEnteros[i]==1 & bEnteros[i]==1:\n",
    "            TP+=1\n",
    "        else:\n",
    "            if aEnteros[i]==1 & bEnteros[i]==0:\n",
    "                FP+=1\n",
    "            else:\n",
    "                if aEnteros[i]==0 & bEnteros[i]==0:\n",
    "                    TN+=1\n",
    "                else:\n",
    "                    if aEnteros[i]==0 & bEnteros[i]==1:\n",
    "                        FN+=1\n",
    "    result=(TP,FP,TN,FN)\n",
    "    return result\n",
    "    \n",
    "print(getCMValues('datosReales.txt', 'resultadosTest.txt'))\n",
    "\n",
    "#ejercicio 5\n",
    "\n",
    "def getMetrics(resultadosTest):\n",
    "    TP=int(resultadosTest[0])\n",
    "    FP=int(resultadosTest[0])\n",
    "    TN=int(resultadosTest[0])\n",
    "    FN=int(resultadosTest[0])\n",
    "    accuracy=(TP+TN)/(TP+FP+TN+FN)\n",
    "    precision=TP/(TP+FP)\n",
    "    sensiblidad=TP/(TP+FN)\n",
    "    especificidad=TN/(TP+FP)\n",
    "    return accuracy,precision,sensiblidad,especificidad\n",
    "\n",
    "resultados=(getCMValues('datosReales.txt', 'resultadosTest.txt'))\n",
    "print(getMetrics(resultados))"
   ]
  }
 ],
 "metadata": {
  "kernelspec": {
   "display_name": "Python [conda env:martinho]",
   "language": "python",
   "name": "conda-env-martinho-py"
  },
  "language_info": {
   "codemirror_mode": {
    "name": "ipython",
    "version": 3
   },
   "file_extension": ".py",
   "mimetype": "text/x-python",
   "name": "python",
   "nbconvert_exporter": "python",
   "pygments_lexer": "ipython3",
   "version": "3.9.7"
  }
 },
 "nbformat": 4,
 "nbformat_minor": 5
}
