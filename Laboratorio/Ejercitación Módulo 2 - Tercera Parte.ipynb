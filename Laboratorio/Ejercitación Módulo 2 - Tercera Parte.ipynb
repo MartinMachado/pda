{
 "cells": [
  {
   "cell_type": "markdown",
   "id": "6c5bce21",
   "metadata": {},
   "source": [
    "# <center> <span style='color:#3A40A2 '>Ejercitación Módulo 2 - 3ra parte</span></center>\n",
    "<hr style=\"border:1px solid gray\"> </hr>\n",
    "\n",
    "La siguiente notebook contiene ejercitación del Módulo 2 de la Unidad Curricular ***\"Programación Digital Avanzada\"*** de la carrera de *Ingeniería Biomédica* de la UTEC.\n",
    "\n",
    "La *primera parte* y la *segunda parte* de esta notebook serán utilizadas para ejercitación. Por otro lado, la *tercera parte* será utilizada para el laboratorio del módulo y **se debe entregar** resuelta en una Jupyter Notebbok (puede ser esta misma). Además debe subirse la resolución a su repositorio de PDA en github.\n",
    "\n",
    "Profesor Adjunto: *Mag. Bioing. Baldezzari Lucas*\n",
    "\n",
    "<p style='text-align: right;'> V2022 </p>"
   ]
  },
  {
   "cell_type": "markdown",
   "id": "17315869",
   "metadata": {},
   "source": [
    "<hr style=\"border:1px solid gray\"> </hr>\n",
    "\n",
    "## <span style='color:#3A40A2 '> Tercera parte </span>\n",
    "\n",
    "Esta parte corresponde a ejercicios obligatorios que deben ser entregados.\n",
    "\n",
    "Se trabajará sobre estos problemas en la clase de Laboratorio."
   ]
  },
  {
   "cell_type": "markdown",
   "id": "0de98cfc",
   "metadata": {},
   "source": [
    "##### Ejercicio 3.1\n",
    "\n",
    "Implemente una función que reciba como parámetro una muestra de números (enteros o flotantes) y retorne una lista con los valores *outliers* o *atípicos*. En caso de que no existan valores atípicos, la función debe retornar None.\n",
    "\n",
    "Los outliers se calculan de la siguiente manera.\n",
    "\n",
    "$$ outlier < Q_1 - 1.5RIC \\vee outlier > Q_3 + 1.5RIC $$\n",
    "\n",
    "Donde $RIC$ representa el *Rango Intercuartil* y esta dado por $RIC = Q_3 - Q_1$."
   ]
  },
  {
   "cell_type": "code",
   "execution_count": 21,
   "id": "1c4821ce",
   "metadata": {},
   "outputs": [],
   "source": [
    "### Resolución ejercicio 3.1\n",
    "\n",
    "\n",
    "##TO DO"
   ]
  },
  {
   "cell_type": "markdown",
   "id": "37c8b395",
   "metadata": {},
   "source": [
    "##### Ejercicio 3.2\n",
    "\n",
    "La función *[sum()](https://docs.python.org/3/library/functions.html#sum)* de Python permite sumar una secuencia de números.\n",
    "\n",
    "Su implementación es,\n",
    "\n",
    "```Python\n",
    "sum(iterable, start)\n",
    "```\n",
    "\n",
    "Como se ve, solo recibe dos parámetros. Si hacemos, \n",
    "\n",
    "```Python\n",
    "sum([1,2,3]) #obtenemos 6 de resultado.\n",
    "```\n",
    "\n",
    "Pero si quisieramos hacer *sum(1,2,3,4)* obtendríamos un error.\n",
    "\n",
    "Se pide que implemente una función suma de tal manera que pueda recibir cualquier cantidad de parámetros (1,2,...,n) y retorne la suma de los mismos. Los parámetros solo pueden ser números enteros o flotantes separados por coma."
   ]
  },
  {
   "cell_type": "code",
   "execution_count": 20,
   "id": "4b721a6d",
   "metadata": {},
   "outputs": [
    {
     "name": "stdout",
     "output_type": "stream",
     "text": [
      "Ingrese un numero o salir para finalizar: 1.2\n",
      "Ingrese un numero o salir para finalizar: 1.6\n",
      "Ingrese un numero o salir para finalizar: salir\n"
     ]
    },
    {
     "data": {
      "text/plain": [
       "2.8"
      ]
     },
     "execution_count": 20,
     "metadata": {},
     "output_type": "execute_result"
    }
   ],
   "source": [
    "\n",
    "lista=[] #lista para agregar los numeros ingresados\n",
    "\n",
    "condicion=True #condicion del while\n",
    "\n",
    "#while para el ingreso de numeros \n",
    "while condicion:\n",
    "    numeros=input(\"Ingrese un numero o salir para finalizar: \")\n",
    "#si la variable numeros es ditinto de salir se agrega a la lista como flotante\n",
    "    if numeros!='salir' : \n",
    "        numeros = float(numeros)\n",
    "        lista.append(numeros)\n",
    "    else:\n",
    "        condicion=False\n",
    "#FUNCION\n",
    "def sumar_lista(lista):\n",
    "    suma = 0\n",
    "    for numero in lista:\n",
    "         suma += numero\n",
    "    return suma\n",
    "#for recorre la lista de valores que se le asigne a la funcion, sumando todos los valores agregados anteriormente \n",
    "\n",
    "sumar_lista(lista)\n",
    "### TO DO"
   ]
  },
  {
   "cell_type": "markdown",
   "id": "b6b9f121",
   "metadata": {},
   "source": [
    "##### Ejercicio 3.3\n",
    "\n",
    "Implemente una función que devuelva el índice de masa corporal. La función recibe como parámetros una lista con las alturas en $cm$ y una lista con los pesos en $kg$ de una cierta cantidad de personas.\n",
    "\n",
    "Implemente la solución utilizando comprensión de listas e/o intente dar una solución usando funciones lambdas con la función map() de Python."
   ]
  },
  {
   "cell_type": "code",
   "execution_count": 32,
   "id": "5d6702f8",
   "metadata": {},
   "outputs": [
    {
     "data": {
      "text/plain": [
       "[19.031141868512112,\n",
       " 26.122448979591837,\n",
       " 26.528510346119035,\n",
       " 33.333333333333336]"
      ]
     },
     "execution_count": 32,
     "metadata": {},
     "output_type": "execute_result"
    }
   ],
   "source": [
    "### Resolución ejercicio 3.3\n",
    "pesos=[55,80,85,75] #peso en kilogramos\n",
    "alturas=[1.70,1.75,1.79,1.50] #estatura en metros \n",
    "\n",
    "def imc(estatura, peso):\n",
    "        IMC = [peso/estatura**2 for peso, estatura in zip(pesos, alturas)] #ZIP asigna a la formula el valor de cada lista en iguales posiciones de cada lista. \n",
    "        return IMC\n",
    "imc(alturas,pesos)\n",
    "### TO DO"
   ]
  },
  {
   "cell_type": "markdown",
   "id": "5862b855",
   "metadata": {},
   "source": [
    "##### Ejercicio 3.4\n",
    "\n",
    "Implemente una función llamada *mathOperations* que reciba como parámetros,\n",
    "- Un string con la operación a realizar, \"sumar\" para sumar, \"restar\" para restar, \"dividir\" para dividir y \"multiplicar\" para multiplicar.\n",
    "- Y dos variables numéricas que se usarán para realizar la operación matemática seleccionada.\n",
    "\n",
    "La función debe devolver un resultado dependiendo de la operación seleccionada.\n",
    "\n",
    "La implementación de la función debe contener anotaciones y documentación apropiada."
   ]
  },
  {
   "cell_type": "code",
   "execution_count": 37,
   "id": "6d787c0d",
   "metadata": {},
   "outputs": [
    {
     "data": {
      "text/plain": [
       "1.0"
      ]
     },
     "execution_count": 37,
     "metadata": {},
     "output_type": "execute_result"
    }
   ],
   "source": [
    "### Resolución ejercicio 3.4\n",
    "def mathOperations (operacion, valor1, valor2):\n",
    "    if operacion == 'sumar':\n",
    "        resultado=valor1+valor2\n",
    "    elif operacion == 'restar':\n",
    "        resultado=valor1-valor2\n",
    "    elif operacion == 'dividir':\n",
    "        resultado=valor1/valor2\n",
    "    elif operacion == 'multiplicar':\n",
    "        resultado=valor1*valor2\n",
    "    return resultado\n",
    "mathOperations(\"dividir\",2,2)\n",
    "### TO DO"
   ]
  },
  {
   "cell_type": "markdown",
   "id": "b9f3d129",
   "metadata": {},
   "source": [
    "##### Ejercicio 3.5\n",
    "\n",
    "El número $\\pi$ puede aproximarse con la siguiente fórmula de aproximación,\n",
    "\n",
    "\\begin{equation*}\n",
    "\\pi = 3+ 4 \\sum _ { n = 2,4,6...; k=0,1,2.. } ^ { N,K } (-1)^k \\left[ \\frac {1}{n (n+1) (n+2)} \\right]\n",
    "\\end{equation*}\n",
    "\n",
    "Implemente una función que reciba como argumento la cantidad de aproximaciones *$N$* a realizar y retorne el valor de la aproximación.\n",
    "\n",
    "La implementación de la función debe contener anotaciones y documentación apropiada.\n",
    "\n",
    "NOTA: El valor de $k$ sirve para alternar el signo del término $(-1)^k$."
   ]
  },
  {
   "cell_type": "code",
   "execution_count": 60,
   "id": "8b80fb8c",
   "metadata": {},
   "outputs": [
    {
     "name": "stdout",
     "output_type": "stream",
     "text": [
      "3.1415916535899084\n"
     ]
    }
   ],
   "source": [
    "# ## Resolución Ejercicio 3.5\n",
    "N =1000000\n",
    "def aprox(n):\n",
    "    total = 0\n",
    "    for i in range(0,n,2):\n",
    "        total += ((1.0/(i+i+1))-(1.0)/(i+i+3))\n",
    "\n",
    "    valor = 4*total\n",
    "    print(valor)\n",
    "aprox(N)"
   ]
  },
  {
   "cell_type": "markdown",
   "id": "99326d18",
   "metadata": {},
   "source": [
    "##### Ejercicio 3.6\n",
    "\n",
    "En criptografía, el cifrado César, también conocido como cifrado por desplazamiento, código de César o desplazamiento de César, es una de las técnicas de cifrado más simples conocidas. Es un tipo de cifrado por sustitución en el que una letra en el texto original es reemplazada por otra letra que se encuentra un número fijo de posiciones más adelante en el alfabeto. Por ejemplo, con un desplazamiento de 3, la A sería sustituida por la D (situada 3 lugares a la derecha de la A), la B sería reemplazada por la E, etc. Este método debe su nombre a Julio César, que lo usaba para comunicarse con sus generales. Fuente [Wikipedia](https://es.wikipedia.org/wiki/Cifrado_C%C3%A9sar).\n",
    "\n",
    "Debe implementar,\n",
    "- Una función que se llame *codificar()* que reciba un mensaje y la cantidad de desplazamientos a realizar (la función debe tener este parametro con un valor por defecto para el caso de que el usuario no otorge un valor). La función debe retornar un mensaje encriptado.\n",
    "- Una función que se llame *decodificar* que reciba como argumento la cantidad de desplazamientos a realizar (la función debe tener este parametro con un valor por defecto para el caso de que el usuario no otorge un valor). La función debe retornar un mensaje desencriptado.\n",
    "\n",
    "La implementación de la función debe contener anotaciones y documentación apropiada."
   ]
  },
  {
   "cell_type": "code",
   "execution_count": 52,
   "id": "b81b07f0",
   "metadata": {},
   "outputs": [
    {
     "name": "stdout",
     "output_type": "stream",
     "text": [
      "Mensaje a codificar: hola\n",
      "Ingrese cantidad de Desplazamientos, o ENTER para finalizar: 20\n",
      "Ingrese cantidad de Desplazamientos, o ENTER para finalizar: \n",
      "aiet\n",
      "hola\n"
     ]
    }
   ],
   "source": [
    "## Resolución Ejercicio 3.6\n",
    "def codificar (mensaje, desplazamientos):   \n",
    "    abc=\"abcdefghijklmnñopqrstuvwxyz\"\n",
    "    mensajeEncriptado=\"\"\n",
    "    if desplazamientos==():\n",
    "        desplazamientos=3\n",
    "    for i in mensaje:\n",
    "        mensajeEncriptado += abc[(abc.index(i)+desplazamientos)%(len(abc))]            \n",
    "    return mensajeEncriptado    \n",
    "\n",
    "\n",
    "def decodificar (mensajeEncriptado, desplazamientos):\n",
    "    mensajeDesencriptado=\"\"\n",
    "    abc=\"abcdefghijklmnñopqrstuvwxyz\"    \n",
    "    if desplazamientos==():\n",
    "        desplazamientos=3\n",
    "    for i in mensajeEncriptado:        \n",
    "        mensajeDesencriptado += abc[(abc.index(i)-desplazamientos)%(len(abc))] \n",
    "    return (mensajeDesencriptado)\n",
    "\n",
    "mensajeEnc=\"\" #variable que guarda el mensaje codificado\n",
    "mensaje=str(input(\"Mensaje a codificar: \"))\n",
    "\n",
    "while entrada:=input(\"Ingrese cantidad de Desplazamientos, o ENTER para finalizar: \"):\n",
    "        desplazamientos=int(entrada) \n",
    "        #lo que hace es en cada iteración del while asignar a la variable num la entrada del usuario. \n",
    "        # Luego se evalúa si num es o no verdadero. En Python una cadena vacía es evaluada como falso y \n",
    "        # una cadena con cualquier contenido es evaluada como verdadero, por lo que si ingresas una cadena \n",
    "        # vacía num se evalúa como falso y while termina.\n",
    "\n",
    "mensajeEnc=(codificar(mensaje,desplazamientos))\n",
    "print(mensajeEnc)\n",
    "\n",
    "mensaje = (decodificar(mensajeEnc,desplazamientos))\n",
    "print(mensaje)\n"
   ]
  },
  {
   "cell_type": "markdown",
   "id": "a2b06185",
   "metadata": {},
   "source": [
    "##### Ejercicio 3.7\n",
    "\n",
    "Una ruleta posee una rueda con 38 espacios. De estos espacios, 18 son negros, 18 son rojos y dos son verdes. Los espacios verdes están numerados cómo 0 y 00 (por simplicidad tomar sólo 0 como posible apuesta).\n",
    "\n",
    "Los espacios rojos en la ruleta están numerados 1, 3, 5, 7, 9, 12, 14, 16, 18, 19, 21, 23, 25, 27, 30 32, 34 y 36. El resto de los números son de color negro.\n",
    "\n",
    "Es posible realizar muchas apuestas en un juego de ruleta convencional, no obstante, para este ejercicio considere las siguientes:\n",
    "\n",
    "- Números simples (1 a 36, y 0)\n",
    "- Negras vs Rojas\n",
    "- Pares vs Impares (el 0 no debe considerarse dentro de esta apuesta)\n",
    "- 1 a 18 vs 19 a 36.\n",
    "\n",
    "Implemente una función que reciba como argumento una apuesta (número entero) entre 0 y 36. La función debe generar un número entero aleatorio (use las funciones de la librería *random*) y devolver un mensaje donde se informe que apuestas deben pagarse al jugador, por ejemplo,\n",
    "\n",
    "```Python\n",
    "print(juegoRuleta(apuesta = 14))\n",
    "```\n",
    "\n",
    "Si el número aleatorio generado es el 14, el mensaje retornado debería ser similar a:\n",
    "\n",
    "- Pagar al 14\n",
    "- Pagar rojas\n",
    "- Pagar pares\n",
    "- Pagar 1 a 18\n",
    "\n",
    "Si el número aleatorio generado es el 23, el mensaje retornado debería ser similar a:\n",
    "\n",
    "- Pagar rojas\n",
    "\n",
    "\n",
    "La implementación de la función debe contener anotaciones y documentación apropiada."
   ]
  },
  {
   "cell_type": "code",
   "execution_count": 135,
   "id": "31709ffa",
   "metadata": {},
   "outputs": [
    {
     "name": "stdout",
     "output_type": "stream",
     "text": [
      "Introduzca su numero para apostar en la ruleta: 12\n",
      "Gira la ruleta... \n",
      "-=-=-=-=-=-=-=-=-=-=- \n",
      "Cae en:  28\n",
      "-.- perdiste -.-\n"
     ]
    }
   ],
   "source": [
    "## Resolución Ejercicio 3.7\n",
    "\n",
    "jugada = int(input('Introduzca su numero para apostar en la ruleta: '))\n",
    "\n",
    "def ruleta(jugada):\n",
    "    import random\n",
    "    numeroaleatorio = random.randint(0,36)\n",
    "    print('Gira la ruleta... \\n-=-=-=-=-=-=-=-=-=-=- \\nCae en: ',numeroaleatorio) \n",
    "    if jugada == numeroaleatorio:\n",
    "        print(\"Pagar al: \",numeroaleatorio)\n",
    "    else:           \n",
    "        if (jugada>=1 and jugada<=18) and (numeroaleatorio>=1 and numeroaleatorio<=18):\n",
    "            print('Pagar 1 a 18')\n",
    "            if numeroaleatorio%2==0:\n",
    "                print('Pagar al rojo\\nPagar pares')\n",
    "            else:\n",
    "                print('Pagar al negro\\nPagar inpares')\n",
    "        else:\n",
    "            if (jugada>=19 and jugada<=36) and (numeroaleatorio>=19 and numeroaleatorio<=36):\n",
    "                print('Pagar 19 a 36')\n",
    "                if numeroaleatorio%2==0:\n",
    "                    print('Pagar al rojo\\nPagar pares')\n",
    "                else:\n",
    "                    print('Pagar al negro\\nPagar inpares')\n",
    "            else:\n",
    "                print (\"-.- perdiste -.-\")\n",
    "\n",
    "ruleta(jugada)\n",
    "##TO DO"
   ]
  },
  {
   "cell_type": "markdown",
   "id": "16681842",
   "metadata": {},
   "source": [
    "##### Ejercicio 3.8\n",
    "\n",
    "1. Implemente una función que reciba como parámetro una lista de palabras y devuelva una lista de las posibles combinaciones de a dos. La lista retornada debe contener las tuplas correspondientes a la combinación de dos palabras. Por ejemplo, si la lista es,\n",
    "\n",
    "```Python\n",
    "palabras = [\"ing\", \"bio\", \"bci\"]\n",
    "```\n",
    "\n",
    "La función debe retornar algo similar a:\n",
    "\n",
    "```Python\n",
    ">> [(\"ing\",\"bio\"), (\"ing\",\"bci\"), (\"bio\",\"bci\")]\n",
    "```\n",
    "\n",
    "Recuerde que en combinación **no** importa el orden.\n",
    "\n",
    "2. Luego intente implementar lo mismo utilizando *list comprehension* y utilizando la función *[combinations](https://docs.python.org/3/library/itertools.html#itertools.combinations)* de la librería *[itertools](https://docs.python.org/3/library/itertools.html)*. Para usar esta herramienta debe importar la librería o bien el método, haciendo,\n",
    "\n",
    "```Python\n",
    "from itertools import combinations\n",
    "```\n",
    "\n",
    "La implementación de la función debe contener anotaciones y documentación apropiada."
   ]
  },
  {
   "cell_type": "code",
   "execution_count": 8,
   "id": "a3e03a70",
   "metadata": {},
   "outputs": [],
   "source": [
    "## Resolución Ejercicio 3.8\n",
    "##TO DO"
   ]
  },
  {
   "cell_type": "markdown",
   "id": "977d6306",
   "metadata": {},
   "source": [
    "##### Ejercicio 3.9\n",
    "\n",
    "Implemente una función que reciba una lista de elementos enteros, o flotantes, o strings (podría ser una lista con elementos del mismo tipo o bien una mezcla de estos) y retorne una lista con los elementos sin repetir.\n",
    "\n",
    "Como ejemplo, si la lista es *[1,2,3,4,5,5,6,7,7,1,2,8,9,9]* la función debe retornar *[1,2,3,4,5,6,7,8]*.\n",
    "\n",
    "La implementación de la función debe contener anotaciones y documentación apropiada."
   ]
  },
  {
   "cell_type": "code",
   "execution_count": 53,
   "id": "ea952473",
   "metadata": {},
   "outputs": [
    {
     "data": {
      "text/plain": [
       "[1, 2, 3, 4, 5, 6, 7, 8, 9, 'maxi', 'juan', 'martin', 'hola']"
      ]
     },
     "execution_count": 53,
     "metadata": {},
     "output_type": "execute_result"
    }
   ],
   "source": [
    "## Resolución Ejercicio 3.9\n",
    "# Resolución Ejercicio 3.9\n",
    "lista=[1,2,3,4,5,5,6,7,7,1,2,8,9,9,'maxi','juan','juan','martin','martin','martin','hola','hola','hola','hola']\n",
    "\n",
    "def repetidos(lista):\n",
    "      return list(dict.fromkeys(lista))\n",
    "##Creo un diccionario, utilizando los elementos de la lista como claves. Esto eliminará automáticamente cualquier duplicado porque los diccionarios no pueden tener claves duplicadas.\n",
    "repetidos(lista)\n",
    "\n",
    "##TO DO"
   ]
  },
  {
   "cell_type": "markdown",
   "id": "91030ed9",
   "metadata": {},
   "source": [
    "##### Ejercicio 3.10\n",
    "\n",
    "Implemente una función que retorne un diccionario con los datos de un equipo médico. La función debe tener como parámetros fijos un nombre genérico del equipo y el área donde se encuentra, además de ser necesario, se le pasarán a la función una mayor cantidad de datos referentes al equipo. A modo de ejemplo el pasaje de argumentos puede ser,\n",
    "\n",
    "```Python\n",
    "equipo1 = datosEquipo(equipo = \"Respirador\", area = \"Neonatología\")\n",
    "\n",
    "equipo2 = datosEquipo(equipo = \"Respirador\", area = \"UCI\",\n",
    "                      coment = \"Alarma de presión de O2 no se apaga\",\n",
    "                      responsable = \"deja el equipo Mengano\")\n",
    "\n",
    "equipo3 = datosEquipo(equipo = \"Bomba infusión\", area = \"uti\",\n",
    "                      comentario = \"Necesitamos el equipo urgente\",\n",
    "                      falla = \"equipo no enciende o se apaga luego de algunas horas de uso\",\n",
    "                      personaResponsable = \"Dra. Sierra\",\n",
    "                      infoAdicional = \"No había nadie en biomédica\")\n",
    "```\n",
    "\n",
    "La implementación de la función debe contener anotaciones y documentación apropiada."
   ]
  },
  {
   "cell_type": "code",
   "execution_count": 10,
   "id": "09b8ae56",
   "metadata": {},
   "outputs": [],
   "source": [
    "## Resolución Ejercicio 3.10\n",
    "##TO DO"
   ]
  },
  {
   "cell_type": "markdown",
   "id": "36015ec2",
   "metadata": {},
   "source": [
    "##### Ejercicio 3.11\n",
    "\n",
    "Implemente una función que calcule la raíz cuadrada de un número entero utilizando el método de aproximaciones de Newton, el cual es,\n",
    "\n",
    "\\begin{equation*}\n",
    "\\sqrt a = \\frac{x + \\frac{a}{x}}{2}\n",
    "\\end{equation*}\n",
    "\n",
    "Donde, \n",
    "\n",
    "- *x* es una *estimación* o *aproximación* conocida de la raíz cuadrada. En general puede asumirse *x = 1* o *x = a*.\n",
    "\n",
    "La función a implementar debe recibir,\n",
    "\n",
    "- Un número entero *a* para estimar su raíz cuadrada.\n",
    "- Un número entero *n* que representa la cantidad de iteraciones a realizar para aproximar la raíz de *a*. Por defecto hacer n = 10.\n",
    "\n",
    "La función debe retornar\n",
    "\n",
    "- Una lista con cada uno de los cálculos realizados en cada iteración\n",
    "- El valor calculado de la última iteración.\n",
    "- El valor de la raiz cuadrada de *a* utilizando el método *sqrt* de la librería *math* (para comparación).\n",
    "\n",
    "La implementación de la función debe contener anotaciones y documentación apropiada."
   ]
  },
  {
   "cell_type": "code",
   "execution_count": 11,
   "id": "fc28012e",
   "metadata": {},
   "outputs": [],
   "source": [
    "## Resolución Ejercicio 3.11\n",
    "##TO DO"
   ]
  },
  {
   "cell_type": "markdown",
   "id": "37d063be",
   "metadata": {},
   "source": [
    "##### Ejercicio 3.12\n",
    "\n",
    "Implemente una función que reciba como parámetros un número *n* de diccionarios. Asuma que los diccionarios pasados como parámetros poseen un *key* y elementos numéricos (enteros o flotantes).\n",
    "\n",
    "La función debe retornar un diccionario nuevo con la suma de los elementos correspondientes a los keys iguales.\n",
    "\n",
    "Por ejemplo,\n",
    "\n",
    "```Python\n",
    "dic1 = {'key1': 10, 'key2': 20, 'key3':30}\n",
    "dic2 = {'key1': 30, 'key3': 20, 'key4':40}\n",
    "\n",
    "dic3 = miFunc(d1,d2)\n",
    "print(dic3)\n",
    "# El dic3 debe ser de la forma {'key1': 40, 'key2': 20, 'key3': 50, 'key4': 40}\n",
    "```"
   ]
  },
  {
   "cell_type": "code",
   "execution_count": 12,
   "id": "267a611e",
   "metadata": {},
   "outputs": [],
   "source": [
    "## Resolución Ejercicio 3.12\n",
    "##TO DO"
   ]
  },
  {
   "cell_type": "markdown",
   "id": "c953298e",
   "metadata": {},
   "source": [
    "##### Ejercicio 3.13\n",
    "\n",
    "Implemente una función que reciba como parámetro el nombre de un archivo de texto *.txt* y retorne un diccionario en donde los *keys* estarán formados por cada palabra dentro del archivo y los *elementos* serán las veces que la palabra en cuestión se repite dentro del texto.\n",
    "\n",
    "Considere lo siguiente.\n",
    "\n",
    "- Descartar símbolos y caracteres. Asuma que el texto solo puede contener los siguientes caracteres y símbolos:\n",
    " - _ (guión bajo), - (guión medio).\n",
    " - , (coma) y . (punto).\n",
    " - ¿, ?, ¡, ! (signos de interrogación y exlamación).\n",
    "- Todas las palabras retornadas en el diccionario deben estar en minúsculas.\n",
    "\n",
    "Ejemplo\n",
    "\n",
    "```Python\n",
    "## supogamos que el archivo texto.txt contiene lo siguiente\n",
    "## \"Hola mundo. Hola mundo!!!\"\n",
    "\n",
    "diccionario = makeDict(\"texto.txt\")\n",
    "#El diccionario retornado debe ser similar a {\"hola\": 2, \"mundo\": 2}\n",
    "```\n",
    "\n",
    "NOTA: Utilice la función [*open()*](https://docs.python.org/3/library/functions.html#open) para cargar el archivo.\n",
    "\n",
    "La implementación de la función debe contener anotaciones y documentación apropiada."
   ]
  },
  {
   "cell_type": "code",
   "execution_count": 13,
   "id": "c87340e9",
   "metadata": {},
   "outputs": [],
   "source": [
    "## Resolución Ejercicio 3.13\n",
    "##TO DO"
   ]
  },
  {
   "cell_type": "markdown",
   "id": "c552bc2a",
   "metadata": {},
   "source": [
    "<hr style=\"border:1px solid gray\"> </hr>\n",
    "\n",
    "##  <span style='color:#3A40A2 '>FIN</span>"
   ]
  }
 ],
 "metadata": {
  "interpreter": {
   "hash": "341b29a86feb41683388a2350ede9b29bff08e5e019b1f08826cb582c6a8c162"
  },
  "kernelspec": {
   "display_name": "Python 3 (ipykernel)",
   "language": "python",
   "name": "python3"
  },
  "language_info": {
   "codemirror_mode": {
    "name": "ipython",
    "version": 3
   },
   "file_extension": ".py",
   "mimetype": "text/x-python",
   "name": "python",
   "nbconvert_exporter": "python",
   "pygments_lexer": "ipython3",
   "version": "3.9.7"
  }
 },
 "nbformat": 4,
 "nbformat_minor": 5
}
