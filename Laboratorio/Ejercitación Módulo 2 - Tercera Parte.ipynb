{
 "cells": [
  {
   "cell_type": "markdown",
   "id": "6c5bce21",
   "metadata": {},
   "source": [
    "# <center> <span style='color:#3A40A2 '>Ejercitación Módulo 2 - 3ra parte</span></center>\n",
    "<hr style=\"border:1px solid gray\"> </hr>\n",
    "\n",
    "La siguiente notebook contiene ejercitación del Módulo 2 de la Unidad Curricular ***\"Programación Digital Avanzada\"*** de la carrera de *Ingeniería Biomédica* de la UTEC.\n",
    "\n",
    "La *primera parte* y la *segunda parte* de esta notebook serán utilizadas para ejercitación. Por otro lado, la *tercera parte* será utilizada para el laboratorio del módulo y **se debe entregar** resuelta en una Jupyter Notebbok (puede ser esta misma). Además debe subirse la resolución a su repositorio de PDA en github.\n",
    "\n",
    "Profesor Adjunto: *Mag. Bioing. Baldezzari Lucas*\n",
    "\n",
    "<p style='text-align: right;'> V2022 </p>"
   ]
  },
  {
   "cell_type": "markdown",
   "id": "17315869",
   "metadata": {},
   "source": [
    "<hr style=\"border:1px solid gray\"> </hr>\n",
    "\n",
    "## <span style='color:#3A40A2 '> Tercera parte </span>\n",
    "\n",
    "Esta parte corresponde a ejercicios obligatorios que deben ser entregados.\n",
    "\n",
    "Se trabajará sobre estos problemas en la clase de Laboratorio."
   ]
  },
  {
   "cell_type": "markdown",
   "id": "0de98cfc",
   "metadata": {},
   "source": [
    "##### Ejercicio 3.1\n",
    "\n",
    "Implemente una función que reciba como parámetro una muestra de números (enteros o flotantes) y retorne una lista con los valores *outliers* o *atípicos*. En caso de que no existan valores atípicos, la función debe retornar None.\n",
    "\n",
    "Los outliers se calculan de la siguiente manera.\n",
    "\n",
    "$$ outlier < Q_1 - 1.5RIC \\vee outlier > Q_3 + 1.5RIC $$\n",
    "\n",
    "Donde $RIC$ representa el *Rango Intercuartil* y esta dado por $RIC = Q_3 - Q_1$."
   ]
  },
  {
   "cell_type": "code",
   "execution_count": 1,
   "id": "1c4821ce",
   "metadata": {},
   "outputs": [
    {
     "name": "stdout",
     "output_type": "stream",
     "text": [
      "[-1000, 1, 2, 3, 25, 30, 10000]\n"
     ]
    }
   ],
   "source": [
    "### Resolución ejercicio 3.1\n",
    "lista = [1,2,3,60,61,64,68,70,68,68,68,68,68,68,68,25, 68,68,68,68,68,68,68,68,68,30,-1000,10000] \n",
    "def valoresAT(lista):\n",
    "    import numpy as np  \n",
    "   \n",
    "    listaOrdenada = np.sort(lista) \n",
    "    \n",
    "    Q1 = np.percentile(listaOrdenada, 25)  \n",
    "    Q2 = np.percentile(listaOrdenada, 50)  \n",
    "    Q3 = np.percentile(listaOrdenada, 75)\n",
    "    \n",
    "    RIC = Q3 - Q1  \n",
    "    \n",
    "    limInf = Q1 - 1.5 * RIC #ecuacion limite inferior\n",
    "    limSup = Q3 + 1.5 * RIC #ecuacion limite Superior\n",
    "   \n",
    "    outlier =[] \n",
    "    for x in listaOrdenada: \n",
    "        if ((x> limSup) or (x<limInf)): #se agrega a la lista si es superior al limte Supeiror o inferrior al limite inferiror\n",
    "             outlier.append(x) \n",
    "    \n",
    "    if outlier == []:\n",
    "        return None\n",
    "    else:\n",
    "        return outlier\n",
    "\n",
    "print (valoresAT(lista))\n",
    "##TO DO"
   ]
  },
  {
   "cell_type": "markdown",
   "id": "37c8b395",
   "metadata": {},
   "source": [
    "##### Ejercicio 3.2\n",
    "\n",
    "La función *[sum()](https://docs.python.org/3/library/functions.html#sum)* de Python permite sumar una secuencia de números.\n",
    "\n",
    "Su implementación es,\n",
    "\n",
    "```Python\n",
    "sum(iterable, start)\n",
    "```\n",
    "\n",
    "Como se ve, solo recibe dos parámetros. Si hacemos, \n",
    "\n",
    "```Python\n",
    "sum([1,2,3]) #obtenemos 6 de resultado.\n",
    "```\n",
    "\n",
    "Pero si quisieramos hacer *sum(1,2,3,4)* obtendríamos un error.\n",
    "\n",
    "Se pide que implemente una función suma de tal manera que pueda recibir cualquier cantidad de parámetros (1,2,...,n) y retorne la suma de los mismos. Los parámetros solo pueden ser números enteros o flotantes separados por coma."
   ]
  },
  {
   "cell_type": "code",
   "execution_count": 3,
   "id": "4b721a6d",
   "metadata": {},
   "outputs": [
    {
     "name": "stdout",
     "output_type": "stream",
     "text": [
      "Ingrese un numero, ENTER para recibir el resukltado: 5\n",
      "Ingrese un numero, ENTER para recibir el resukltado: 6\n",
      "Ingrese un numero, ENTER para recibir el resukltado: 6\n",
      "Ingrese un numero, ENTER para recibir el resukltado: \n"
     ]
    },
    {
     "data": {
      "text/plain": [
       "17.0"
      ]
     },
     "execution_count": 3,
     "metadata": {},
     "output_type": "execute_result"
    }
   ],
   "source": [
    "# 3.2\n",
    "\n",
    "\n",
    "def sumar_lista(lista):\n",
    "    suma = 0\n",
    "    for numero in lista:\n",
    "         suma += numero\n",
    "    return suma\n",
    "#for recorre la lista de valores que se le asigne a la funcion, sumando todos los valores agregados anteriormente \n",
    "\n",
    "lista=[] #lista para agregar los numeros ingresados\n",
    "\n",
    "#while para el ingreso de numeros\n",
    "while entrada:=input(\"Ingrese un numero, ENTER para recibir el resukltado: \"):\n",
    "        numeros=float(entrada)\n",
    "        lista.append(numeros)\n",
    "#lo que hace es en cada iteración del while asignar a la variable num la entrada del usuario. \n",
    "# Luego se evalúa si num es o no verdadero. En Python una cadena vacía es evaluada como falso y \n",
    "# una cadena con cualquier contenido es evaluada como verdadero, por lo que si ingresas una cadena \n",
    "# vacía num se evalúa como falso y while termina.\n",
    "sumar_lista(lista)\n",
    "### TO DO"
   ]
  },
  {
   "cell_type": "markdown",
   "id": "b6b9f121",
   "metadata": {},
   "source": [
    "##### Ejercicio 3.3\n",
    "\n",
    "Implemente una función que devuelva el índice de masa corporal. La función recibe como parámetros una lista con las alturas en $cm$ y una lista con los pesos en $kg$ de una cierta cantidad de personas.\n",
    "\n",
    "Implemente la solución utilizando comprensión de listas e/o intente dar una solución usando funciones lambdas con la función map() de Python."
   ]
  },
  {
   "cell_type": "code",
   "execution_count": 48,
   "id": "5d6702f8",
   "metadata": {},
   "outputs": [
    {
     "data": {
      "text/plain": [
       "[19.031141868512112,\n",
       " 26.122448979591837,\n",
       " 26.528510346119035,\n",
       " 33.333333333333336]"
      ]
     },
     "execution_count": 48,
     "metadata": {},
     "output_type": "execute_result"
    }
   ],
   "source": [
    "### Resolución ejercicio 3.3\n",
    "peso=[55,80,85,75] #peso en kilogramos\n",
    "estatura=[1.70,1.75,1.79,1.50] #estatura en metros \n",
    "\n",
    "def imc(estatura, peso):\n",
    "        IMC_map=list( map(lambda x,y : x/(y**2), peso,estatura)) #Realiza la ecuacion: x/(y**2) para cada uno de los elementos de las listas peso,estatura\n",
    "        return (IMC_map)                                         #las listas deben tener la misma cantidad de elementos\n",
    "#         IMC = [peso/estatura**2 for peso, estatura in zip(pesos, alturas)] \n",
    "#         ZIP asigna a la formula el valor de cada lista en iguales posiciones de cada lista. \n",
    "#         return (IMC)\n",
    "\n",
    "imc(estatura,peso)\n",
    "### TO DO"
   ]
  },
  {
   "cell_type": "markdown",
   "id": "5862b855",
   "metadata": {},
   "source": [
    "##### Ejercicio 3.4\n",
    "\n",
    "Implemente una función llamada *mathOperations* que reciba como parámetros,\n",
    "- Un string con la operación a realizar, \"sumar\" para sumar, \"restar\" para restar, \"dividir\" para dividir y \"multiplicar\" para multiplicar.\n",
    "- Y dos variables numéricas que se usarán para realizar la operación matemática seleccionada.\n",
    "\n",
    "La función debe devolver un resultado dependiendo de la operación seleccionada.\n",
    "\n",
    "La implementación de la función debe contener anotaciones y documentación apropiada."
   ]
  },
  {
   "cell_type": "code",
   "execution_count": 4,
   "id": "6d787c0d",
   "metadata": {},
   "outputs": [
    {
     "name": "stdout",
     "output_type": "stream",
     "text": [
      "El resultado de restar 45 menos 2 es: 43\n"
     ]
    },
    {
     "data": {
      "text/plain": [
       "'\\nDOCUMENTACION\\n\\nLa funcion mathOperations() es un operador matematico con capacidad de realizar suma, \\nresta, division y multiplicacion de dos valores numericos. \\nLa funcion recibe 3 argumentos(operador,valor1,valor2) operador es del tipo str y valor1 \\ny valor2 de tipo int.\\n'"
      ]
     },
     "execution_count": 4,
     "metadata": {},
     "output_type": "execute_result"
    }
   ],
   "source": [
    "### Resolución ejercicio 3.4\n",
    "def mathOperations (operacion, valor1, valor2):\n",
    "    accion=\"\" #complemento para la oracion\n",
    "    \n",
    "    #se comprubena la igualdad de las variables con condicionales \n",
    "    #en caso de cumplirse se reeaiza la operacion correspondiente \n",
    "    \n",
    "    if operacion == 'sumar':\n",
    "        resultado=valor1+valor2\n",
    "        accion=\"mas\"\n",
    "    elif operacion == 'restar':\n",
    "        resultado=valor1-valor2\n",
    "        accion=\"menos\"\n",
    "    elif operacion == 'dividir':\n",
    "        resultado=valor1/valor2\n",
    "        accion=\"entre\"\n",
    "    elif operacion == 'multiplicar':\n",
    "        resultado=valor1*valor2\n",
    "        accion=\"por\"\n",
    "    print (f'El resultado de {operacion} {valor1} {accion} {valor2} es: {resultado}')\n",
    "    \n",
    "mathOperations(\"restar\",45,2)\n",
    "### TODO\n",
    "\"\"\"\n",
    "DOCUMENTACION\n",
    "\n",
    "La funcion mathOperations() es un operador matematico con capacidad de realizar suma, \n",
    "resta, division y multiplicacion de dos valores numericos. \n",
    "La funcion recibe 3 argumentos(operador,valor1,valor2) operador es del tipo str y valor1 \n",
    "y valor2 de tipo int.\n",
    "\"\"\"\n"
   ]
  },
  {
   "cell_type": "markdown",
   "id": "b9f3d129",
   "metadata": {},
   "source": [
    "##### Ejercicio 3.5\n",
    "\n",
    "El número $\\pi$ puede aproximarse con la siguiente fórmula de aproximación,\n",
    "\n",
    "\\begin{equation*}\n",
    "\\pi = 3+ 4 \\sum _ { n = 2,4,6...; k=0,1,2.. } ^ { N,K } (-1)^k \\left[ \\frac {1}{n (n+1) (n+2)} \\right]\n",
    "\\end{equation*}\n",
    "\n",
    "Implemente una función que reciba como argumento la cantidad de aproximaciones *$N$* a realizar y retorne el valor de la aproximación.\n",
    "\n",
    "La implementación de la función debe contener anotaciones y documentación apropiada.\n",
    "\n",
    "NOTA: El valor de $k$ sirve para alternar el signo del término $(-1)^k$."
   ]
  },
  {
   "cell_type": "code",
   "execution_count": 5,
   "id": "8b80fb8c",
   "metadata": {},
   "outputs": [
    {
     "name": "stdout",
     "output_type": "stream",
     "text": [
      "3.1415916535899084\n"
     ]
    },
    {
     "data": {
      "text/plain": [
       "'\\nDOCUMENTACION\\n\\nLa funcion aprox() es una funcion para aproximar el numero PI, la funcion\\nrecibe la cantidad de aproximaciones con la que se desea calcular dicho numero.\\n'"
      ]
     },
     "execution_count": 5,
     "metadata": {},
     "output_type": "execute_result"
    }
   ],
   "source": [
    "# ## Resolución Ejercicio 3.5\n",
    "N =1000000 #valor de aproximaciones\n",
    "def aprox(n):\n",
    "    total = 0\n",
    "    for i in range(0,n,2):\n",
    "        total += ((1.0/(i+i+1))-(1.0)/(i+i+3))\n",
    "    #atraves de un ciclo for se realiza sumatria N veces\n",
    "    valor = 4*total\n",
    "    print(valor)\n",
    "aprox(N)\n",
    "\n",
    "\"\"\"\n",
    "DOCUMENTACION\n",
    "\n",
    "La funcion aprox() es una funcion para aproximar el numero PI, la funcion\n",
    "recibe la cantidad de aproximaciones con la que se desea calcular dicho numero.\n",
    "\"\"\""
   ]
  },
  {
   "cell_type": "code",
   "execution_count": null,
   "id": "b1318370",
   "metadata": {},
   "outputs": [],
   "source": [
    "## Resolución Ejercicio 3.5\n",
    "\n",
    "##TO DO\n",
    "\n",
    "N = 100000\n",
    "f = lambda n,k: ((-1)**k)*(1/(n*(n+1)*(n+2)))\n",
    "pi = 3 + 4*sum([f(n,k) for n,k in zip((range(2,N,2)), range(0,N))])\n",
    "pi\n",
    "\n",
    "## Nota, podríamos haber hecho\n",
    "## pi = 3 + 4*sum([(lambda n,k: ((-1)**k)*(1/(n*(n+1)*(n+2))))(n,k) for n,k in zip((range(2,N,2)), range(0,N))])\n",
    "## pero poner la función lambda dentro de la listComps puede resultar confuso cuando es muy extensa"
   ]
  },
  {
   "cell_type": "markdown",
   "id": "99326d18",
   "metadata": {},
   "source": [
    "##### Ejercicio 3.6\n",
    "\n",
    "En criptografía, el cifrado César, también conocido como cifrado por desplazamiento, código de César o desplazamiento de César, es una de las técnicas de cifrado más simples conocidas. Es un tipo de cifrado por sustitución en el que una letra en el texto original es reemplazada por otra letra que se encuentra un número fijo de posiciones más adelante en el alfabeto. Por ejemplo, con un desplazamiento de 3, la A sería sustituida por la D (situada 3 lugares a la derecha de la A), la B sería reemplazada por la E, etc. Este método debe su nombre a Julio César, que lo usaba para comunicarse con sus generales. Fuente [Wikipedia](https://es.wikipedia.org/wiki/Cifrado_C%C3%A9sar).\n",
    "\n",
    "Debe implementar,\n",
    "- Una función que se llame *codificar()* que reciba un mensaje y la cantidad de desplazamientos a realizar (la función debe tener este parametro con un valor por defecto para el caso de que el usuario no otorge un valor). La función debe retornar un mensaje encriptado.\n",
    "- Una función que se llame *decodificar* que reciba como argumento la cantidad de desplazamientos a realizar (la función debe tener este parametro con un valor por defecto para el caso de que el usuario no otorge un valor). La función debe retornar un mensaje desencriptado.\n",
    "\n",
    "La implementación de la función debe contener anotaciones y documentación apropiada."
   ]
  },
  {
   "cell_type": "code",
   "execution_count": 6,
   "id": "b81b07f0",
   "metadata": {},
   "outputs": [
    {
     "name": "stdout",
     "output_type": "stream",
     "text": [
      "Mensaje a codificar: prog avanzada\n",
      "Ingrese cantidad de Desplazamientos, o ENTER para finalizar: 2\n",
      "Ingrese cantidad de Desplazamientos, o ENTER para finalizar: 2\n",
      "Ingrese cantidad de Desplazamientos, o ENTER para finalizar: \n"
     ]
    },
    {
     "ename": "ValueError",
     "evalue": "substring not found",
     "output_type": "error",
     "traceback": [
      "\u001b[1;31m---------------------------------------------------------------------------\u001b[0m",
      "\u001b[1;31mValueError\u001b[0m                                Traceback (most recent call last)",
      "\u001b[1;32m~\\AppData\\Local\\Temp/ipykernel_11668/3645190087.py\u001b[0m in \u001b[0;36m<module>\u001b[1;34m\u001b[0m\n\u001b[0;32m     32\u001b[0m         \u001b[1;31m# vacía num se evalúa como falso y while termina.\u001b[0m\u001b[1;33m\u001b[0m\u001b[1;33m\u001b[0m\u001b[0m\n\u001b[0;32m     33\u001b[0m \u001b[1;33m\u001b[0m\u001b[0m\n\u001b[1;32m---> 34\u001b[1;33m \u001b[0mmensajeEnc\u001b[0m\u001b[1;33m=\u001b[0m\u001b[1;33m(\u001b[0m\u001b[0mcodificar\u001b[0m\u001b[1;33m(\u001b[0m\u001b[0mmensaje\u001b[0m\u001b[1;33m,\u001b[0m\u001b[0mdesplazamientos\u001b[0m\u001b[1;33m)\u001b[0m\u001b[1;33m)\u001b[0m\u001b[1;33m\u001b[0m\u001b[1;33m\u001b[0m\u001b[0m\n\u001b[0m\u001b[0;32m     35\u001b[0m \u001b[0mprint\u001b[0m\u001b[1;33m(\u001b[0m\u001b[0mmensajeEnc\u001b[0m\u001b[1;33m)\u001b[0m\u001b[1;33m\u001b[0m\u001b[1;33m\u001b[0m\u001b[0m\n\u001b[0;32m     36\u001b[0m \u001b[1;33m\u001b[0m\u001b[0m\n",
      "\u001b[1;32m~\\AppData\\Local\\Temp/ipykernel_11668/3645190087.py\u001b[0m in \u001b[0;36mcodificar\u001b[1;34m(mensaje, desplazamientos)\u001b[0m\n\u001b[0;32m      6\u001b[0m         \u001b[0mdesplazamientos\u001b[0m\u001b[1;33m=\u001b[0m\u001b[1;36m3\u001b[0m\u001b[1;33m\u001b[0m\u001b[1;33m\u001b[0m\u001b[0m\n\u001b[0;32m      7\u001b[0m     \u001b[1;32mfor\u001b[0m \u001b[0mi\u001b[0m \u001b[1;32min\u001b[0m \u001b[0mmensaje\u001b[0m\u001b[1;33m:\u001b[0m\u001b[1;33m\u001b[0m\u001b[1;33m\u001b[0m\u001b[0m\n\u001b[1;32m----> 8\u001b[1;33m         \u001b[0mmensajeEncriptado\u001b[0m \u001b[1;33m+=\u001b[0m \u001b[0mabc\u001b[0m\u001b[1;33m[\u001b[0m\u001b[1;33m(\u001b[0m\u001b[0mabc\u001b[0m\u001b[1;33m.\u001b[0m\u001b[0mindex\u001b[0m\u001b[1;33m(\u001b[0m\u001b[0mi\u001b[0m\u001b[1;33m)\u001b[0m\u001b[1;33m+\u001b[0m\u001b[0mdesplazamientos\u001b[0m\u001b[1;33m)\u001b[0m\u001b[1;33m%\u001b[0m\u001b[1;33m(\u001b[0m\u001b[0mlen\u001b[0m\u001b[1;33m(\u001b[0m\u001b[0mabc\u001b[0m\u001b[1;33m)\u001b[0m\u001b[1;33m)\u001b[0m\u001b[1;33m]\u001b[0m\u001b[1;33m\u001b[0m\u001b[1;33m\u001b[0m\u001b[0m\n\u001b[0m\u001b[0;32m      9\u001b[0m         \u001b[1;31m#se compara el mensaje que se desea encriptar con el abecedario y se despalza cadaletra el\u001b[0m\u001b[1;33m\u001b[0m\u001b[1;33m\u001b[0m\u001b[0m\n\u001b[0;32m     10\u001b[0m         \u001b[1;31m#numero seleccionado de depalzamientos, en caso de no seleccionar ninguno se establece 3 desplazamientos\u001b[0m\u001b[1;33m\u001b[0m\u001b[1;33m\u001b[0m\u001b[0m\n",
      "\u001b[1;31mValueError\u001b[0m: substring not found"
     ]
    }
   ],
   "source": [
    "## Resolución Ejercicio 3.6\n",
    "def codificar (mensaje, desplazamientos):   \n",
    "    abc=\"abcdefghijklmnñopqrstuvwxyz\"\n",
    "    mensajeEncriptado=\"\"\n",
    "    if desplazamientos==():\n",
    "        desplazamientos=3\n",
    "    for i in mensaje:\n",
    "        mensajeEncriptado += abc[(abc.index(i)+desplazamientos)%(len(abc))]\n",
    "        #se compara el mensaje que se desea encriptar con el abecedario y se despalza cadaletra el \n",
    "        #numero seleccionado de depalzamientos, en caso de no seleccionar ninguno se establece 3 desplazamientos\n",
    "    return mensajeEncriptado    \n",
    "\n",
    "\n",
    "def decodificar (mensajeEncriptado, desplazamientos):\n",
    "    mensajeDesencriptado=\"\"\n",
    "    abc=\"abcdefghijklmnñopqrstuvwxyz\"    \n",
    "    if desplazamientos==():\n",
    "        desplazamientos=3\n",
    "    for i in mensajeEncriptado:        \n",
    "        mensajeDesencriptado += abc[(abc.index(i)-desplazamientos)%(len(abc))]\n",
    "        #se reptite el desplazoamiento pero en sentido inverso para decodificar\n",
    "    return (mensajeDesencriptado)\n",
    "\n",
    "mensajeEnc=\"\" #variable que guarda el mensaje codificado\n",
    "mensaje=str(input(\"Mensaje a codificar: \"))\n",
    "\n",
    "while entrada:=input(\"Ingrese cantidad de Desplazamientos, o ENTER para finalizar: \"):\n",
    "        desplazamientos=int(entrada) \n",
    "        #lo que hace es en cada iteración del while asignar a la variable num la entrada del usuario. \n",
    "        # Luego se evalúa si num es o no verdadero. En Python una cadena vacía es evaluada como falso y \n",
    "        # una cadena con cualquier contenido es evaluada como verdadero, por lo que si ingresas una cadena \n",
    "        # vacía num se evalúa como falso y while termina.\n",
    "\n",
    "mensajeEnc=(codificar(mensaje,desplazamientos))\n",
    "print(mensajeEnc)\n",
    "\n",
    "mensaje = (decodificar(mensajeEnc,desplazamientos))\n",
    "print(mensaje)\n",
    "\n",
    "\"\"\"\n",
    "DOCUMENTACION\n",
    "\n",
    "La funcion codificar() es una funcion para encripatr mensajes con el cifrado Cesar, \n",
    "la funcion recibe dos argumentos (mensaje, desplazamiento) mensaje es una variable de \n",
    "tipo str y desplazamiento de tipo int, el desplazamiento por defecto es 3.\n",
    "\n",
    "La funcion decodificar() se utliza para decodoficar el mensaje y tambien recibe dos argumentos \n",
    "(mensaje, desplazamiento) mensaje es una variable de ipo str y desplazamiento de tipo int, el desplazamiento\n",
    "por defecto tambien es 3.\n",
    "\n",
    "\"\"\""
   ]
  },
  {
   "cell_type": "markdown",
   "id": "a2b06185",
   "metadata": {},
   "source": [
    "##### Ejercicio 3.7\n",
    "\n",
    "Una ruleta posee una rueda con 38 espacios. De estos espacios, 18 son negros, 18 son rojos y dos son verdes. Los espacios verdes están numerados cómo 0 y 00 (por simplicidad tomar sólo 0 como posible apuesta).\n",
    "\n",
    "Los espacios rojos en la ruleta están numerados 1, 3, 5, 7, 9, 12, 14, 16, 18, 19, 21, 23, 25, 27, 30 32, 34 y 36. El resto de los números son de color negro.\n",
    "\n",
    "Es posible realizar muchas apuestas en un juego de ruleta convencional, no obstante, para este ejercicio considere las siguientes:\n",
    "\n",
    "- Números simples (1 a 36, y 0)\n",
    "- Negras vs Rojas\n",
    "- Pares vs Impares (el 0 no debe considerarse dentro de esta apuesta)\n",
    "- 1 a 18 vs 19 a 36.\n",
    "\n",
    "Implemente una función que reciba como argumento una apuesta (número entero) entre 0 y 36. La función debe generar un número entero aleatorio (use las funciones de la librería *random*) y devolver un mensaje donde se informe que apuestas deben pagarse al jugador, por ejemplo,\n",
    "\n",
    "```Python\n",
    "print(juegoRuleta(apuesta = 14))\n",
    "```\n",
    "\n",
    "Si el número aleatorio generado es el 14, el mensaje retornado debería ser similar a:\n",
    "\n",
    "- Pagar al 14\n",
    "- Pagar rojas\n",
    "- Pagar pares\n",
    "- Pagar 1 a 18\n",
    "\n",
    "Si el número aleatorio generado es el 23, el mensaje retornado debería ser similar a:\n",
    "\n",
    "- Pagar rojas\n",
    "\n",
    "\n",
    "La implementación de la función debe contener anotaciones y documentación apropiada."
   ]
  },
  {
   "cell_type": "code",
   "execution_count": 7,
   "id": "31709ffa",
   "metadata": {},
   "outputs": [
    {
     "name": "stdout",
     "output_type": "stream",
     "text": [
      "Introduzca su numero para apostar en la ruleta: 5\n",
      "Gira la ruleta... \n",
      "-=-=-=-=-=-=-=-=-=-=- \n",
      "Cae en:  9\n",
      "Pagar 1 a 18\n",
      "Pagar al negro\n",
      "Pagar inpares\n"
     ]
    },
    {
     "data": {
      "text/plain": [
       "'\\nDOCUMENTACION\\n\\nLa funcion ruleta() es una funcion que simula una ruleta al azar, \\nla funcion recibe un argumento (jugada) de tipo int, con la libreria \\nrandom y su funcion randon.int se genera numero aleatorio del 0 al 36 el \\ncual simula el numero ganador cada vez aue se ejecuta.\\n\\n'"
      ]
     },
     "execution_count": 7,
     "metadata": {},
     "output_type": "execute_result"
    }
   ],
   "source": [
    "## Resolución Ejercicio 3.7\n",
    "\n",
    "jugada = int(input('Introduzca su numero para apostar en la ruleta: '))\n",
    "\n",
    "def ruleta(jugada):\n",
    "    import random\n",
    "    numeroaleatorio = random.randint(0,36)\n",
    "    print('Gira la ruleta... \\n-=-=-=-=-=-=-=-=-=-=- \\nCae en: ',numeroaleatorio) \n",
    "    if jugada == numeroaleatorio:\n",
    "        print(\"Pagar al: \",numeroaleatorio)\n",
    "    else:           \n",
    "        if (jugada>=1 and jugada<=18) and (numeroaleatorio>=1 and numeroaleatorio<=18):\n",
    "            print('Pagar 1 a 18')\n",
    "            if numeroaleatorio%2==0:\n",
    "                print('Pagar al rojo\\nPagar pares')\n",
    "            else:\n",
    "                print('Pagar al negro\\nPagar inpares')\n",
    "        else:\n",
    "            if (jugada>=19 and jugada<=36) and (numeroaleatorio>=19 and numeroaleatorio<=36):\n",
    "                print('Pagar 19 a 36')\n",
    "                if numeroaleatorio%2==0:\n",
    "                    print('Pagar al rojo\\nPagar pares')\n",
    "                else:\n",
    "                    print('Pagar al negro\\nPagar inpares')\n",
    "            else:\n",
    "                print (\"-.- perdiste -.-\")\n",
    "\n",
    "ruleta(jugada)\n",
    "##TO DO\n",
    "\n",
    "\"\"\"\n",
    "DOCUMENTACION\n",
    "\n",
    "La funcion ruleta() es una funcion que simula una ruleta al azar, \n",
    "la funcion recibe un argumento (jugada) de tipo int, con la libreria \n",
    "random y su funcion randon.int se genera numero aleatorio del 0 al 36 el \n",
    "cual simula el numero ganador cada vez aue se ejecuta.\n",
    "\n",
    "\"\"\""
   ]
  },
  {
   "cell_type": "markdown",
   "id": "16681842",
   "metadata": {},
   "source": [
    "##### Ejercicio 3.8\n",
    "\n",
    "1. Implemente una función que reciba como parámetro una lista de palabras y devuelva una lista de las posibles combinaciones de a dos. La lista retornada debe contener las tuplas correspondientes a la combinación de dos palabras. Por ejemplo, si la lista es,\n",
    "\n",
    "```Python\n",
    "palabras = [\"ing\", \"bio\", \"bci\"]\n",
    "```\n",
    "\n",
    "La función debe retornar algo similar a:\n",
    "\n",
    "```Python\n",
    ">> [(\"ing\",\"bio\"), (\"ing\",\"bci\"), (\"bio\",\"bci\")]\n",
    "```\n",
    "\n",
    "Recuerde que en combinación **no** importa el orden.\n",
    "\n",
    "2. Luego intente implementar lo mismo utilizando *list comprehension* y utilizando la función *[combinations](https://docs.python.org/3/library/itertools.html#itertools.combinations)* de la librería *[itertools](https://docs.python.org/3/library/itertools.html)*. Para usar esta herramienta debe importar la librería o bien el método, haciendo,\n",
    "\n",
    "```Python\n",
    "from itertools import combinations\n",
    "```\n",
    "\n",
    "La implementación de la función debe contener anotaciones y documentación apropiada."
   ]
  },
  {
   "cell_type": "code",
   "execution_count": 62,
   "id": "a3e03a70",
   "metadata": {},
   "outputs": [
    {
     "data": {
      "text/plain": [
       "[('ing', 'bio'), ('ing', 'bci'), ('bio', 'bci')]"
      ]
     },
     "execution_count": 62,
     "metadata": {},
     "output_type": "execute_result"
    }
   ],
   "source": [
    "## Resolución Ejercicio 3.8\n",
    "\n",
    "def combinaciones(palabras):\n",
    "    from itertools import combinations\n",
    "    palabras = [i for i in list(combinations(palabras,2))] \n",
    "    #combina cada palabra una vez con cada una de las palabras de la lista\n",
    "    return (palabras)\n",
    "\n",
    "palabras = [\"ing\", \"bio\", \"bci\"]\n",
    "combinaciones(palabras)\n",
    "\n",
    "##TO DO\n",
    "\n",
    "\"\"\"\n",
    "DOCUMENTACION\n",
    "\n",
    "La funcion combianciones() es una funcion que combina los elementos de una lista una vez con cada uno de \n",
    "los elementos del la lista y genera una nueva lista, la funcion recibe un argumento (palabras) de tipo lista.\n",
    "\n",
    "\"\"\""
   ]
  },
  {
   "cell_type": "markdown",
   "id": "977d6306",
   "metadata": {},
   "source": [
    "##### Ejercicio 3.9\n",
    "\n",
    "Implemente una función que reciba una lista de elementos enteros, o flotantes, o strings (podría ser una lista con elementos del mismo tipo o bien una mezcla de estos) y retorne una lista con los elementos sin repetir.\n",
    "\n",
    "Como ejemplo, si la lista es *[1,2,3,4,5,5,6,7,7,1,2,8,9,9]* la función debe retornar *[1,2,3,4,5,6,7,8]*.\n",
    "\n",
    "La implementación de la función debe contener anotaciones y documentación apropiada."
   ]
  },
  {
   "cell_type": "code",
   "execution_count": 63,
   "id": "ea952473",
   "metadata": {},
   "outputs": [
    {
     "data": {
      "text/plain": [
       "[1, 2, 3, 4, 5, 6, 7, 8, 9, 10.2, 11.1, 'maxi', 'juan', 'martin', 'hola']"
      ]
     },
     "execution_count": 63,
     "metadata": {},
     "output_type": "execute_result"
    }
   ],
   "source": [
    "# Resolución Ejercicio 3.9\n",
    "\n",
    "def repetidos(lista):\n",
    "        nuevalista=[]\n",
    "        lista=[nuevalista.append(x) for x in lista if x not in nuevalista] \n",
    "        #por compresion de lista se agrega el elemento a la lista si este no existe en la lista\n",
    "        return nuevalista\n",
    "lista=[1,2,3,4,5,5,6,7,7,1,2,8,9,9,10.2,10.2,11.1,'maxi','juan','juan','martin','martin','martin','hola','hola','hola','hola']\n",
    "repetidos(lista)\n",
    "\n",
    "##TO DO\n",
    "\n",
    "\"\"\"\n",
    "DOCUMENTACION\n",
    "\n",
    "La funcion repetidos() genera una lista nueva sin elemntos repetidos, la funcion recibe un argumento (lista) de tipo lista.\n",
    "\n",
    "\"\"\""
   ]
  },
  {
   "cell_type": "markdown",
   "id": "91030ed9",
   "metadata": {},
   "source": [
    "##### Ejercicio 3.10\n",
    "\n",
    "Implemente una función que retorne un diccionario con los datos de un equipo médico. La función debe tener como parámetros fijos un nombre genérico del equipo y el área donde se encuentra, además de ser necesario, se le pasarán a la función una mayor cantidad de datos referentes al equipo. A modo de ejemplo el pasaje de argumentos puede ser,\n",
    "\n",
    "```Python\n",
    "equipo1 = datosEquipo(equipo = \"Respirador\", area = \"Neonatología\")\n",
    "\n",
    "equipo2 = datosEquipo(equipo = \"Respirador\", area = \"UCI\",\n",
    "                      coment = \"Alarma de presión de O2 no se apaga\",\n",
    "                      responsable = \"deja el equipo Mengano\")\n",
    "\n",
    "equipo3 = datosEquipo(equipo = \"Bomba infusión\", area = \"uti\",\n",
    "                      comentario = \"Necesitamos el equipo urgente\",\n",
    "                      falla = \"equipo no enciende o se apaga luego de algunas horas de uso\",\n",
    "                      personaResponsable = \"Dra. Sierra\",\n",
    "                      infoAdicional = \"No había nadie en biomédica\")\n",
    "```\n",
    "\n",
    "La implementación de la función debe contener anotaciones y documentación apropiada."
   ]
  },
  {
   "cell_type": "code",
   "execution_count": 12,
   "id": "09b8ae56",
   "metadata": {},
   "outputs": [
    {
     "name": "stdout",
     "output_type": "stream",
     "text": [
      "{'equipo': 'Respirador', 'area': 'Neonatología'}\n"
     ]
    },
    {
     "data": {
      "text/plain": [
       "'\\nDOCUMENTACION\\n\\nLa funcion datosEquipo() que conbina datos recibidos sobre un equipo medico y los coiban en un diccionario,\\nla funcion recibe dos argumentos, (equipoN, **datosequipos) el argumento equipoN es de tipo str y es obligatorio, \\nel **datosequipos es un argumento arbitrario de palabra clave esto perimite que se agreguen todos los datos que se \\ncreean nesearios sobre el equipo\\n\\n'"
      ]
     },
     "execution_count": 12,
     "metadata": {},
     "output_type": "execute_result"
    }
   ],
   "source": [
    "## Resolución Ejercicio 3.10\n",
    "def datosEquipo(equipoN,**datosequipos):\n",
    "    equipoN=datosequipos               \n",
    "    return equipoN\n",
    "\n",
    "print(datosEquipo(\"equipo1\",equipo = \"Respirador\", area = \"Neonatología\"))\n",
    "# print(datosEquipo(equipo2, equipo = \"Respirador\", area = \"UCI\",\n",
    "#                     coment = \"Alarma de presión de O2 no se apaga\", \n",
    "#                     responsable = \"deja el equipo Mengano\"))\n",
    "# print (datosEquipo(equipo3, equipo = \"Bomba infusión\", area = \"uti\",\n",
    "#                       comentario = \"Necesitamos el equipo urgente\",\n",
    "#                       falla = \"equipo no enciende o se apaga luego de algunas horas de uso\",\n",
    "#                       personaResponsable = \"Dra. Sierra\",\n",
    "#                       infoAdicional = \"No había nadie en biomédica\"))\n",
    "\n",
    "\"\"\"\n",
    "DOCUMENTACION\n",
    "\n",
    "La funcion datosEquipo() que conbina datos recibidos sobre un equipo medico y los coiban en un diccionario,\n",
    "la funcion recibe dos argumentos, (equipoN, **datosequipos) el argumento equipoN es de tipo str y es obligatorio, \n",
    "el **datosequipos es un argumento arbitrario de palabra clave esto perimite que se agreguen todos los datos que se \n",
    "creean nesearios sobre el equipo\n",
    "\n",
    "\"\"\""
   ]
  },
  {
   "cell_type": "markdown",
   "id": "36015ec2",
   "metadata": {},
   "source": [
    "##### Ejercicio 3.11\n",
    "\n",
    "Implemente una función que calcule la raíz cuadrada de un número entero utilizando el método de aproximaciones de Newton, el cual es,\n",
    "\n",
    "\\begin{equation*}\n",
    "\\sqrt a = \\frac{x + \\frac{a}{x}}{2}\n",
    "\\end{equation*}\n",
    "\n",
    "Donde, \n",
    "\n",
    "- *x* es una *estimación* o *aproximación* conocida de la raíz cuadrada. En general puede asumirse *x = 1* o *x = a*.\n",
    "\n",
    "La función a implementar debe recibir,\n",
    "\n",
    "- Un número entero *a* para estimar su raíz cuadrada.\n",
    "- Un número entero *n* que representa la cantidad de iteraciones a realizar para aproximar la raíz de *a*. Por defecto hacer n = 10.\n",
    "\n",
    "La función debe retornar\n",
    "\n",
    "- Una lista con cada uno de los cálculos realizados en cada iteración\n",
    "- El valor calculado de la última iteración.\n",
    "- El valor de la raiz cuadrada de *a* utilizando el método *sqrt* de la librería *math* (para comparación).\n",
    "\n",
    "La implementación de la función debe contener anotaciones y documentación apropiada."
   ]
  },
  {
   "cell_type": "code",
   "execution_count": null,
   "id": "fc28012e",
   "metadata": {},
   "outputs": [],
   "source": [
    "## Resolución Ejercicio 3.11\n",
    "##TO DO"
   ]
  },
  {
   "cell_type": "markdown",
   "id": "37d063be",
   "metadata": {},
   "source": [
    "##### Ejercicio 3.12\n",
    "\n",
    "Implemente una función que reciba como parámetros un número *n* de diccionarios. Asuma que los diccionarios pasados como parámetros poseen un *key* y elementos numéricos (enteros o flotantes).\n",
    "\n",
    "La función debe retornar un diccionario nuevo con la suma de los elementos correspondientes a los keys iguales.\n",
    "\n",
    "Por ejemplo,\n",
    "\n",
    "```Python\n",
    "dic1 = {'key1': 10, 'key2': 20, 'key3':30}\n",
    "dic2 = {'key1': 30, 'key3': 20, 'key4':40}\n",
    "\n",
    "dic3 = miFunc(d1,d2)\n",
    "print(dic3)\n",
    "# El dic3 debe ser de la forma {'key1': 40, 'key2': 20, 'key3': 50, 'key4': 40}\n",
    "```"
   ]
  },
  {
   "cell_type": "code",
   "execution_count": 15,
   "id": "267a611e",
   "metadata": {},
   "outputs": [
    {
     "name": "stdout",
     "output_type": "stream",
     "text": [
      "{'key1': 120, 'key2': 1140, 'key3': 84, 'key4': 170}\n"
     ]
    },
    {
     "data": {
      "text/plain": [
       "'\\nDOCUMENTACION\\n\\nLa funcion miFuncion() suma de los distintos diccionarios recibidos los valores que poseen igual keys.\\nrecibe un argumento arbitrario, lo cual perimte ingresar todos los diccionarios que se dese sumar.\\n\\n'"
      ]
     },
     "execution_count": 15,
     "metadata": {},
     "output_type": "execute_result"
    }
   ],
   "source": [
    "## Resolución Ejercicio 3.12\n",
    "def miFuncion(*diccionarios):\n",
    "    from collections import Counter        \n",
    "    dicNuevo={}\n",
    "    \n",
    "    for n in range(0,len(diccionarios)):\n",
    "        dicNuevo = (dict(Counter(dicNuevo)+Counter(diccionarios[n])))#asigana al nuevo diccionario la suma de los valores de las keys\n",
    "    return dicNuevo    \n",
    "\n",
    "dic1 = {'key1': 10, 'key2': 20, 'key3':30}\n",
    "dic2 = {'key1': 30, 'key3': 20, 'key4':40}\n",
    "dic3 = {'key1': 30, 'key3': 20, 'key4':130}\n",
    "dic5 = {'key1': 50, 'key2': 120, 'key3':14}\n",
    "d6 = {\"key2\": 1000, \"key10\":0}\n",
    "\n",
    "print(miFuncion(dic1,dic2,dic3,dic5,d6))\n",
    "\n",
    "##TO DO\n",
    "\"\"\"\n",
    "DOCUMENTACION\n",
    "\n",
    "La funcion miFuncion() suma de los distintos diccionarios recibidos los valores que poseen igual keys.\n",
    "recibe un argumento arbitrario, lo cual perimte ingresar todos los diccionarios que se dese sumar.\n",
    "\n",
    "\"\"\""
   ]
  },
  {
   "cell_type": "markdown",
   "id": "c953298e",
   "metadata": {},
   "source": [
    "##### Ejercicio 3.13\n",
    "\n",
    "Implemente una función que reciba como parámetro el nombre de un archivo de texto *.txt* y retorne un diccionario en donde los *keys* estarán formados por cada palabra dentro del archivo y los *elementos* serán las veces que la palabra en cuestión se repite dentro del texto.\n",
    "\n",
    "Considere lo siguiente.\n",
    "\n",
    "- Descartar símbolos y caracteres. Asuma que el texto solo puede contener los siguientes caracteres y símbolos:\n",
    " - _ (guión bajo), - (guión medio).\n",
    " - , (coma) y . (punto).\n",
    " - ¿, ?, ¡, ! (signos de interrogación y exlamación).\n",
    "- Todas las palabras retornadas en el diccionario deben estar en minúsculas.\n",
    "\n",
    "Ejemplo\n",
    "\n",
    "```Python\n",
    "## supogamos que el archivo texto.txt contiene lo siguiente\n",
    "## \"Hola mundo. Hola mundo!!!\"\n",
    "\n",
    "diccionario = makeDict(\"texto.txt\")\n",
    "#El diccionario retornado debe ser similar a {\"hola\": 2, \"mundo\": 2}\n",
    "```\n",
    "\n",
    "NOTA: Utilice la función [*open()*](https://docs.python.org/3/library/functions.html#open) para cargar el archivo.\n",
    "\n",
    "La implementación de la función debe contener anotaciones y documentación apropiada."
   ]
  },
  {
   "cell_type": "code",
   "execution_count": 16,
   "id": "c87340e9",
   "metadata": {},
   "outputs": [
    {
     "name": "stdout",
     "output_type": "stream",
     "text": [
      "{'hola': 2, 'mundo': 2, 'buenos': 2, 'dias': 1, 'python': 1, 'es': 1, 'un': 1, 'lenguaje': 1, 'de': 4, 'alto': 1, 'nivel': 1, 'programaciã³n': 1, 'interpretado': 1, 'cuya': 1, 'filosofã\\xada': 1, 'hace': 1, 'hincapiã©': 1, 'en': 1, 'la': 1, 'legibilidad': 1, 'su': 1, 'cã³digo': 1, 'se': 1, 'utiliza': 1, 'para': 1, 'desarrollar': 1, 'aplicaciones': 1, 'todo': 1, 'tipo': 1, 'ejemplos': 1}\n"
     ]
    },
    {
     "data": {
      "text/plain": [
       "'\\nDOCUMENTACION\\n\\nLa funcion fecuencia() cuanta la cantidad de aparciones por palabra dentro de un un archivo .txt,\\nrecibe un argumento el cual es el nombre del archivo y su extenscion de tipo str, ej: \"test.txt\"\\n'"
      ]
     },
     "execution_count": 16,
     "metadata": {},
     "output_type": "execute_result"
    }
   ],
   "source": [
    "## Resolución Ejercicio 3.13\n",
    "def frecuencia(nombre):\n",
    "    import os \n",
    "    archivo=open(nombre,'r')#abre el archivo \n",
    "    a= archivo.read() #se asigna el contendio del archivo a la variable\n",
    "    #print (a)\n",
    "    \n",
    "    contador = {}\n",
    "    palabras = a.split() #se separan las letras en elemntos de una lista \n",
    "    #print (palabras)    \n",
    "    for palabra in palabras: #se recorre la lista contando la cantidad de repeticiones por palabras\n",
    "        palabra = palabra.lower().strip(\".,\")\n",
    "        #print(palabra)\n",
    "        if palabra not in contador:\n",
    "            contador[palabra] = 1\n",
    "        else:\n",
    "            contador[palabra] += 1\n",
    "    archivo.close#importante cerrar el archivo cuando se finaliza la funcion\n",
    "\n",
    "    print(contador)\n",
    "frecuencia('test.txt')\n",
    "\n",
    "\"\"\"\n",
    "DOCUMENTACION\n",
    "\n",
    "La funcion fecuencia() cuanta la cantidad de aparciones por palabra dentro de un un archivo .txt,\n",
    "recibe un argumento el cual es el nombre del archivo y su extenscion de tipo str, ej: \"test.txt\"\n",
    "\"\"\"\n"
   ]
  },
  {
   "cell_type": "markdown",
   "id": "c552bc2a",
   "metadata": {},
   "source": [
    "<hr style=\"border:1px solid gray\"> </hr>\n",
    "\n",
    "##  <span style='color:#3A40A2 '>FIN</span>"
   ]
  },
  {
   "cell_type": "markdown",
   "id": "1f577881",
   "metadata": {},
   "source": [
    "Te paso comentarios de los ejercicios.\n",
    "\n",
    "- 3.1 - OK\n",
    "- <span style='color:red'>3.2 - No esta correcto. La función debe recibir los números separados por coma.</span>\n",
    "- 3.3 - OK: Para la próxima formatea la salida para que queden como mucho dos decimales.\n",
    "- 3.4 - OK\n",
    "- 3.5 - OK: Te deje una respuesta alternativa. Por otro lado, la documentación debe estar dentro de la función. Repasar docstring.\n",
    "- <span style='color:red'> 3.6 - No me funciona</span>\n",
    "- 3.7 - OK\n",
    "- 3.8 - OK\n",
    "- 3.9 - OK\n",
    "- <span style='color:orange'>3.10 - Corregir implementación.</span>\n",
    "- <span style='color:red'> 3.11 - Falta implementar.</span>\n",
    "- <span style='color:orange'>3.12 - Corregir implementación.</span>\n",
    "- 3.13 - OK\n",
    "\n",
    "Tu calificación es **70**."
   ]
  }
 ],
 "metadata": {
  "interpreter": {
   "hash": "341b29a86feb41683388a2350ede9b29bff08e5e019b1f08826cb582c6a8c162"
  },
  "kernelspec": {
   "display_name": "Python 3 (ipykernel)",
   "language": "python",
   "name": "python3"
  },
  "language_info": {
   "codemirror_mode": {
    "name": "ipython",
    "version": 3
   },
   "file_extension": ".py",
   "mimetype": "text/x-python",
   "name": "python",
   "nbconvert_exporter": "python",
   "pygments_lexer": "ipython3",
   "version": "3.9.7"
  }
 },
 "nbformat": 4,
 "nbformat_minor": 5
}
