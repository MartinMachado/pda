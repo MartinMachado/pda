{
 "cells": [
  {
   "cell_type": "markdown",
   "id": "06742760",
   "metadata": {},
   "source": [
    "# <center> <span style='color:#3A40A2 '> Ejemplos clase Módulo 2 - Funciones </span></center>\n",
    "<hr style=\"border:1px solid gray\"> </hr>\n",
    "\n",
    "La siguiente notebook contiene ejemplos de la clase del *Módulo 2 - Parte 2* de la Unidad Curricular ***Programación Digital Avanzada*** de la carrera de *Ingeniería Biomédica* de la UTEC.\n",
    "\n",
    "**Profesor Adjunto:** Mag. Bioing. Baldezzari Lucas\n",
    "\n",
    "<p style='text-align: left;'> V2022 </p>"
   ]
  },
  {
   "cell_type": "markdown",
   "id": "5883d1b9",
   "metadata": {},
   "source": [
    "<hr style=\"border:1px solid gray\"> </hr>\n",
    "\n",
    "##  <span style='color:#3A40A2 '> Funciones en Python </span>\n",
    "\n",
    "\n",
    "#### ¿Qué es una función?\n",
    "En el contexto de programación, una función, es una secuencia de sentencias (código) que lleva un nombre. Cuando alguien define una función se esta definiendo una secuencia de pasos a realizar.\n",
    "\n",
    "#### ¿Para que pueden servir las funciones?\n",
    "\n",
    "Las funciones son herramientas potentes que dotan a nuestro programa de gran versatilidad. Podríamos mencionar muchas utiliades, pero diremos que las funciones presentan dos grandes ventajas,\n",
    "\n",
    "- Reusabilidad: En vez de repetir fragmentos de código, mejor ponerlo en una función. Evitamos repetir código y nos sirve para correcciones o futuras mejoras.\n",
    "\n",
    "- Modularidad: Evitamos escribir gran cantidad de linas de código ya que podemos crear módulos o funciones que agrupen funcionalidades.\n",
    "\n",
    "Divide y vencerás!"
   ]
  },
  {
   "cell_type": "markdown",
   "id": "4a40126f",
   "metadata": {},
   "source": [
    "#### <span style='color:#f95441'> Declarando una función </span>\n",
    "\n",
    "Python ofrece funciones del tipo *[built-in](https://docs.python.org/3/library/functions.html)* las cuales vienen instaladas con el lenguaje.\n",
    "\n",
    "Por otro lado, cuando usamos librerias (math, numpy, scipy, etc) también encontraremos funciones o métodos que nos permiten interactuar con los objetos de esas librerias.\n",
    "\n",
    "Finalmente podemos crear nuestras propias funciones de una manera sencilla, su sintáxis es,\n",
    "\n",
    "```Python\n",
    "def gritar(texto):\n",
    "    return texto.upper() + '!!!'\n",
    "```\n",
    "\n",
    "Por convención los nombres de una función comienzan en **minúsculas**."
   ]
  },
  {
   "cell_type": "code",
   "execution_count": 27,
   "id": "7e59aed8",
   "metadata": {},
   "outputs": [
    {
     "data": {
      "text/plain": [
       "'ARRIBA PERÚ!!!'"
      ]
     },
     "execution_count": 27,
     "metadata": {},
     "output_type": "execute_result"
    }
   ],
   "source": [
    "def gritar(texto):\n",
    "    return texto.upper() + '!!!'\n",
    "\n",
    "gritar(\"arriba Perú\")"
   ]
  },
  {
   "cell_type": "markdown",
   "id": "3664d46f",
   "metadata": {},
   "source": [
    "#### <span style='color:#f95441'> Parámetros </span>\n",
    "\n",
    "Las funciones pueden recibir desde ningún parámetro hasta un número indefinido de parámetros.\n",
    "\n",
    "- Cada parámetro lleva un nombre que lo identifica.\n",
    "- Cada parámetro lleva una posición determinada en la lista de parámetros de la función.\n",
    "- Algunos parámetros llevan un valor por defecto.\n",
    "\n",
    "El encabezado de una función podría ser:\n",
    "\n",
    "```Python\n",
    "def enviarMensaje(mensaje, remitente = \"Morfeo\"):\n",
    "```\n",
    "\n",
    "En el ejemplo anterior, los parámetros son,\n",
    "- *mensaje* y *remitente*."
   ]
  },
  {
   "cell_type": "code",
   "execution_count": 44,
   "id": "ef159597",
   "metadata": {},
   "outputs": [
    {
     "data": {
      "text/plain": [
       "'What is real, said Felipe'"
      ]
     },
     "execution_count": 44,
     "metadata": {},
     "output_type": "execute_result"
    }
   ],
   "source": [
    "def enviarMensaje(mensaje, remitente = \"Morfeo\"):\n",
    "    return f\"{mensaje}, said {remitente}\"\n",
    "\n",
    "mensaje = \"Hola\"\n",
    "remitente = \"Lucas\"\n",
    "\n",
    "enviarMensaje(mensaje = \"What is real\", remitente = \"Felipe\")"
   ]
  },
  {
   "cell_type": "markdown",
   "id": "6fb3650c",
   "metadata": {},
   "source": [
    "#### <span style='color:#f95441'> Pasando información a una función</span>\n",
    "\n",
    "Las funciones reciben información a través de argumentos. El valor de un argumento es copiado a un parámetro, esto se llama **pasaje por valor**.\n",
    "\n",
    "Estos argumentos pueden ser pasados de diferentes maneras,\n",
    "\n",
    "- <ins>Argumentos por posición</ins>: Los argumentos van en un orden y posición definidos en la lista de parámetros de la función. Al llamarse la función deben pasarse exactamente la misma cantidad de parámetros (salvo cuando hay parámetros por defecto) y del mismo tipo que espera la función.\n",
    "- <ins>Argumentos por nombre</ins>: Podemos indicar a qué parámetro le asignamos un argumento.\n",
    "- <ins>Argumentos por defecto</ins>: Algunos parámetros tienen valores por defecto y no necesariamente debemos pasar un argumento a dicho parámetro.\n",
    "- <ins>Argumentos de longitud variable</ins>: Utilizando los operadores * y \\**.\n",
    "\n",
    "Veamos algunos ejemplos."
   ]
  },
  {
   "cell_type": "code",
   "execution_count": 79,
   "id": "903138b8",
   "metadata": {},
   "outputs": [
    {
     "name": "stdout",
     "output_type": "stream",
     "text": [
      "[3, 1, 55, 11, 23, 13, 17]\n",
      "\n"
     ]
    }
   ],
   "source": [
    "def sumar(a,b):\n",
    "    return a+b\n",
    "\n",
    "def enviarMensaje(mensaje, remitente = \"Morfeo\"):\n",
    "    mensajeAEnviar = f\"{remitente} dice, {mensaje}\"\n",
    "    return mensajeAEnviar\n",
    "\n",
    "def getImpares(lista = []):\n",
    "    if not lista:\n",
    "        return \"Lista vacía\"\n",
    "    else:\n",
    "        return [num for num in lista if num%2 != 0]\n",
    "\n",
    "## Usando la función sumar\n",
    "# print(sumar(5,10))\n",
    "# print(sumar(a=10, b=10))\n",
    "# print(sumar(b=15, a=15))\n",
    "# print()\n",
    "\n",
    "## Usando la fucnión enviarMensaje\n",
    "## llamamos a enviarMensaje de varias maneras\n",
    "# print(enviarMensaje(\"what is real\"))\n",
    "# print(enviarMensaje(mensaje = \"¿Cómo estamos?\"))\n",
    "# print(enviarMensaje(remitente = \"Morfeo\", mensaje = \"Holis\")) #pasamos los argumentos por NOMBRE pero en diferente orden\n",
    "# print()\n",
    "\n",
    "\n",
    "### Usando la función getImpares\n",
    "listaNums = [3,1,2,4,55,11,23,13,17]\n",
    "\n",
    "#Llamamos a la función getImpares sin pasarle parámetros\n",
    "print(getImpares(listaNums))\n",
    "\n",
    "#Ahora la llamamos pasandole listaNums\n",
    "print()"
   ]
  },
  {
   "cell_type": "markdown",
   "id": "833e4be3",
   "metadata": {},
   "source": [
    "##### <span style='color:#0035aa'>\\*\\*\\*\\*\\* Pregunta rápida 1 \\*\\*\\*\\*\\*</span>\n",
    "\n",
    "Para el código de abajo se supone que la salida debe ser 5, sin embargo la función devuelve 8. ¿Donde está el error?\n",
    "\n",
    "```Python\n",
    "def maximum(a,b):\n",
    "  if A>B:\n",
    "    return A\n",
    "  else:\n",
    "    return B\n",
    "\n",
    "def minimum(a,b):\n",
    "  if A<B:\n",
    "    return A\n",
    "  else:\n",
    "    return B\n",
    "\n",
    "A = 8\n",
    "B = 7\n",
    "maximum(A-3, minimum(A+2, B-5))\n",
    "```"
   ]
  },
  {
   "cell_type": "markdown",
   "id": "dbfb9139",
   "metadata": {},
   "source": [
    "#### <span style='color:#f95441'> Pasajes por valor y por referencia</span>\n",
    "\n",
    "Cuando un argumento se pasa por valor, la variable original es copiada y luego pasada a la función, estas son variables diferenes.\n",
    "\n",
    "Por otro lado, cuando se pasa un argumento por referencia, se apunta a la variable pasada como argumento. Un cambio de una variable pasada como referencia dentro de la función se verá reflejado en la variable fuera de la función.\n",
    "\n",
    "Dependiendo del tipo de datos el pasaje será por referencia o por valor."
   ]
  },
  {
   "cell_type": "code",
   "execution_count": 77,
   "id": "0fd45b0c",
   "metadata": {},
   "outputs": [
    {
     "name": "stdout",
     "output_type": "stream",
     "text": [
      "Id de x 1903145190224\n",
      "Id de argumento 1903145189904\n",
      "20\n",
      "\n",
      "Numerillos originales [1, 2, 3, 4]\n",
      "Id de numerillos fuera de función editarLista 1903223322752\n",
      "Id de argumento dentro de función editarLista 1903223322752\n",
      "numerillos luego de llamar la función [1, 2, 3, 4, 5]\n"
     ]
    }
   ],
   "source": [
    "### Pasaje por valor ###\n",
    "def simpleFunc(argumento):\n",
    "    argumento = 10\n",
    "    print(f\"Id de argumento {id(argumento)}\")\n",
    "    \n",
    "x = 20\n",
    "print(f\"Id de x {id(x)}\")\n",
    "simpleFunc(x) #pasaje por valor\n",
    "print(x) #el valor de la variable x no cambia.\n",
    "print()\n",
    "\n",
    "### Pasaje por referencia ###\n",
    "def editarLista(argumento): #el argumento es una lista\n",
    "    argumento.append(5) # agrego un elemento a la lista\n",
    "    print(f\"Id de argumento dentro de función editarLista {id(argumento)}\")\n",
    "    \n",
    "numerillos = [1,2,3,4]\n",
    "print(f\"Numerillos originales {numerillos}\")\n",
    "print(f\"Id de numerillos fuera de función editarLista {id(numerillos)}\")\n",
    "editarLista(numerillos)\n",
    "print(f\"numerillos luego de llamar la función {numerillos}\")"
   ]
  },
  {
   "cell_type": "markdown",
   "id": "7965c589",
   "metadata": {},
   "source": [
    "#### <span style='color:#f95441'> Longitud variable en argumentos usando \\*args y \\**args</span>\n",
    "\n",
    "Con **\\*args** y **\\*\\*kwargs** podemos pasar argumentos de longitud variable.\n",
    "\n",
    "- \\*args significa que **no tienen** llave identificadora (key).\n",
    "- \\*\\*kwargs significa que **sí tienen** llave identificadora (key).\n",
    "\n",
    "Utilizamos \\*args o \\**kwargs cuando no estamos seguros de la cantidad de argumentos que vamos a recibir.\n",
    "\n",
    "Las palabras **args** y **kwargs** es solo usada por convención"
   ]
  },
  {
   "cell_type": "code",
   "execution_count": 96,
   "id": "6fc49442",
   "metadata": {},
   "outputs": [
    {
     "data": {
      "text/plain": [
       "{'carrera': 'biomédica',\n",
       " 'cargo': 'profesor',\n",
       " 'edad': 35,\n",
       " 'estadoCivil': 'Casado',\n",
       " 'nombre': 'Lucas',\n",
       " 'apellido': 'Baldezzari'}"
      ]
     },
     "execution_count": 96,
     "metadata": {},
     "output_type": "execute_result"
    }
   ],
   "source": [
    "#Versióin 1\n",
    "def multiplicarV1(a,b,c): \n",
    "    return a*b*c\n",
    "\n",
    "#Version 2 mejorada\n",
    "def multiplicarV2(*argumentos):\n",
    "    resul = 1\n",
    "    for valor in argumentos:\n",
    "        resul *= valor\n",
    "    return resul\n",
    "\n",
    "def usandoEstrellas(*arguments, **keyArguments):\n",
    "    print(arguments, keyArguments)\n",
    "    return arguments, keyArguments\n",
    "\n",
    "def perfil(nombre, apellido, **infoUsuario):\n",
    "    \"\"\"Perfil de usuario. Se puede agregar tantos datos como se quisiera luego del nombre y apellido\"\"\"\n",
    "    infoUsuario[\"nombre\"] = nombre\n",
    "    infoUsuario[\"apellido\"] = apellido\n",
    "    return infoUsuario\n",
    "    \n",
    "# **** Usando multiplicarV1 y V2 ****\n",
    "# multiplicarV1(1,2,3)\n",
    "# multiplicarV1(1,2,3,4) #con multiplicarV1 estamos limitados a 3 parámetros.\n",
    "# multiplicarV2(1,2,3,4,5,6,7)\n",
    "\n",
    "\n",
    "# # **** Usando operadores estrellas **** \n",
    "# resultado1 = usandoEstrellas(1, 2.0, \"Holis\", varible1 = 20)\n",
    "# resultado2 = usandoEstrellas(3.14, 4, v2 = \"variable 2\", v3 = \"variable3\")\n",
    "\n",
    "# print()\n",
    "# print(f\"Tipo de datos retornado por la funcion usandoEstrellas {type(resultado2)}\")\n",
    "# print(f\"Tipo de datos del índice 0 de resultado2 {type(resultado2[0])}\")\n",
    "# print(f\"Tipo de datos del índice 1 de resultado2 {type(resultado2[1])}\")\n",
    "# print()\n",
    "\n",
    "# ## variables pasadas como argumentos a **keyArguments\n",
    "# for key in resultado2[1]:\n",
    "#     print(key)\n",
    "\n",
    "\n",
    "# usuario1 = perfil(\"Lucas\", \"Baldezzari\", carrera = \"biomédica\", cargo = \"profesor\", edad = 35,\n",
    "#                  estadoCivil = \"Casado\")\n",
    "# usuario1"
   ]
  },
  {
   "cell_type": "markdown",
   "id": "07e53650",
   "metadata": {},
   "source": [
    "#### Trick: Operador doble estrella ** para fusionar diccionarios\n",
    "\n",
    "Podemos usar el operador \\*\\* para fusionar diccionarios."
   ]
  },
  {
   "cell_type": "code",
   "execution_count": 5,
   "id": "1b665686",
   "metadata": {},
   "outputs": [
    {
     "data": {
      "text/plain": [
       "{'k1': 1, 'k2': 4, 'k3': 3}"
      ]
     },
     "execution_count": 5,
     "metadata": {},
     "output_type": "execute_result"
    }
   ],
   "source": [
    "d1 = {'k1': 1, 'k2':2}\n",
    "d2 = {'k3':3, 'k2':4}\n",
    "\n",
    "d3 = {**d1, **d2}\n",
    "d3"
   ]
  },
  {
   "cell_type": "markdown",
   "id": "7c8a7628",
   "metadata": {},
   "source": [
    "#### <span style='color:#f95441'>Sentencia *return*</span>\n",
    "\n",
    "En muchas ocasiones una función realiza cierto procesamiento y luego debe retornar algún dato como resultado de dicho proceso.\n",
    "\n",
    "Las funciones tienen la posibilidad de “devolver algo” mediante la sentencia return.\n",
    "\n",
    "Podríamos retornar un solo valor o bien una tupla."
   ]
  },
  {
   "cell_type": "code",
   "execution_count": 121,
   "id": "a6167c27",
   "metadata": {},
   "outputs": [
    {
     "data": {
      "text/plain": [
       "1"
      ]
     },
     "execution_count": 121,
     "metadata": {},
     "output_type": "execute_result"
    }
   ],
   "source": [
    "def simpleFunc():\n",
    "    return 10\n",
    "\n",
    "def returningTuple():\n",
    "    return \"retorno\", \"una\", \"tupla\"\n",
    "\n",
    "def returningLista():\n",
    "    return [1, 2, 3]\n",
    "\n",
    "# def severalReturns(x):\n",
    "#     # print(\"Acá si llego\")\n",
    "#     if x>0:\n",
    "#         return \"Positivo\"\n",
    "#     else:\n",
    "#         return \"Negativo\"\n",
    "\n",
    "    \n",
    "# print(simpleFunc())\n",
    "# print()\n",
    "\n",
    "# print(type(returningTuple()))\n",
    "# print(returningTuple())\n",
    "# print()\n",
    "\n",
    "# print(type(returningLista()))\n",
    "# print(returningLista())\n",
    "# print(returningLista()[1])\n",
    "# print()\n",
    "\n",
    "# print(severalReturns(-1))\n",
    "\n",
    "###***** \"Unpacking\" de variables *****\n",
    "\n",
    "# primera, segunda, tercera = returningTuple()\n",
    "# primera\n",
    "\n",
    "# podríamos estar sólo interesados en la primera palabra, entonces descartamos las otras doas con _\n",
    "primerValor, *_ = returningLista() ## El _ funciona como una variable dummy\n",
    "## Con el operador * estamos \"empaquetando\" lo que me retorna la función en una sola variable\n",
    "primerValor\n",
    "\n",
    "#O podríamos estar interesados solamente en la tercer variable retornada\n",
    "# *_, tercerValor = returningLista()\n",
    "# tercerValor"
   ]
  },
  {
   "cell_type": "markdown",
   "id": "bc1bce59",
   "metadata": {},
   "source": [
    "#### <span style='color:#f95441'>Algunas características extra de las funciones en Python</span>\n",
    "\n",
    "Las funciones en Python son ***objetos***, esto quiere decir que podemos copiar y eliminar funciones a partir de otras."
   ]
  },
  {
   "cell_type": "code",
   "execution_count": 133,
   "id": "1f8e1b95",
   "metadata": {},
   "outputs": [
    {
     "name": "stdout",
     "output_type": "stream",
     "text": [
      "24\n"
     ]
    }
   ],
   "source": [
    "copiaMultiplicarV2 = multiplicarV2\n",
    "\n",
    "print(copiaMultiplicarV2(1,2,3,4))\n",
    "\n",
    "# del copiaMultiplicarV2\n",
    "# print(copiaMultiplicarV2(1,2,3,4)) # copiaMultiplicarV2() ya no existe y por eso nos da error"
   ]
  },
  {
   "cell_type": "markdown",
   "id": "a89b66e9",
   "metadata": {},
   "source": [
    "Las funciones pueden ser ***almacenadas dentro de estructuras de datos***"
   ]
  },
  {
   "cell_type": "code",
   "execution_count": 136,
   "id": "6096b9af",
   "metadata": {},
   "outputs": [],
   "source": [
    "listaFunc = [multiplicarV1, multiplicarV2, usandoEstrellas]\n",
    "\n",
    "# podemos usar cualquier función dentro de la lista de funciones\n",
    "\n",
    "# print(listaFunc[0](2,2,2))\n",
    "# print(listaFunc[1](2,2,2,2,2,2,2,2))"
   ]
  },
  {
   "cell_type": "markdown",
   "id": "d8eb58af",
   "metadata": {},
   "source": [
    "Podemos ***anidar funciones*** dentro de otras funciones."
   ]
  },
  {
   "cell_type": "code",
   "execution_count": 139,
   "id": "82f27f49",
   "metadata": {},
   "outputs": [],
   "source": [
    "def getSpeak(volume):\n",
    "    def susurro(mensaje):\n",
    "        return  f\"... {mensaje.lower()} ...\"\n",
    "    def grito(mensaje):\n",
    "        return f\"¡¡¡ {mensaje.upper()} !!!\"\n",
    "    \n",
    "    if volume > 5:\n",
    "        return grito\n",
    "    else:\n",
    "        return susurro\n",
    "    \n",
    "# speak = getSpeak(volume = 4) #nos devuelve un \"objeto\" que en este caso es una función\n",
    "# print(speak(mensaje = \"Estoy susurrando\"))\n",
    "# print()\n",
    "\n",
    "# grito = getSpeak(volume = 6)\n",
    "# print(grito(mensaje = \"Ahora estoy gritando\"))        "
   ]
  },
  {
   "cell_type": "markdown",
   "id": "370c7c63",
   "metadata": {},
   "source": [
    "#### <span style='color:#f95441'>Anotaciones y Documentación de una función</span>\n",
    "\n",
    "Podemos documentar qué hace una función y podemos realizar anotaciones simples de los argumentos que recibe.\n",
    "\n",
    "Cualquier programa debería tener una mínima documentación. Esto es útil tanto para el/la autor/a del programa como para los y las futuros/as desarrolladores/as que pudiesen trabajar sobre el programa.\n",
    "\n",
    "Documentar es una ***buena práctica de programación.***"
   ]
  },
  {
   "cell_type": "code",
   "execution_count": 147,
   "id": "781b1b0c",
   "metadata": {},
   "outputs": [
    {
     "name": "stdout",
     "output_type": "stream",
     "text": [
      "{'lista': <class 'list'>, 'return': 'String (lista vacía) o una lista con valores pares'}\n",
      "\n",
      "Documentación de la función getImpares\n",
      "\n",
      "    Retorna un mensaje si el argumento es una lista vacía.\n",
      "    Caso contrario retorna una lista con los números impares correspondientes al parámetro lista.\n",
      "    \n"
     ]
    }
   ],
   "source": [
    "def enviarMensaje(mensaje:str, remitente:str = \"Morfeo\") -> str:\n",
    "    \"\"\"\n",
    "    Retorna un mensaje (string) de algún remitente.\n",
    "    \n",
    "    Mas info acá\n",
    "    \n",
    "    Acá\n",
    "    \n",
    "    Y acá\n",
    "    \"\"\"\n",
    "    mensajeAEnviar = f\"{remitente} dice, {mensaje}\"\n",
    "    return mensajeAEnviar\n",
    "\n",
    "def getImpares(lista:list = []) -> \"String (lista vacía) o una lista con valores pares\":\n",
    "    \"\"\"\n",
    "    Retorna un mensaje si el argumento es una lista vacía.\n",
    "    Caso contrario retorna una lista con los números impares correspondientes al parámetro lista.\n",
    "    \"\"\"\n",
    "    if not lista:\n",
    "        return \"Lista vacía\"\n",
    "    else:\n",
    "        return [num for num in lista if num%2 != 0]\n",
    "    \n",
    "def getPares():\n",
    "    \"\"\"\n",
    "    Para implementar\n",
    "    \"\"\"\n",
    "    pass\n",
    "\n",
    "# print(enviarMensaje.__annotations__)\n",
    "# print()\n",
    "# print(\"Documentación de la función enviarMensaje\")\n",
    "# print(enviarMensaje.__doc__)\n",
    "# print()\n",
    "\n",
    "print(getImpares.__annotations__)\n",
    "print()\n",
    "print(\"Documentación de la función getImpares\")\n",
    "print(getImpares.__doc__)        "
   ]
  },
  {
   "cell_type": "markdown",
   "id": "b55c8894",
   "metadata": {},
   "source": [
    "### <span style='color:#f95441'>Funciones *lambda*</span>\n",
    "\n",
    "Según la [documentación oficial](https://docs.python.org/3/faq/design.html#why-can-t-lambda-expressions-contain-statements),\n",
    "\n",
    ">“…Python lambdas are only a shorthand notation if you’re too lazy to define a function…”\n",
    "    \n",
    "    \n",
    "Estas funciones se definen en u*na sola línea* y son utilizadas cuando queremos implementar pequeños trozos de código.\n",
    "\n",
    "Su sintáxis es la siguiente.\n",
    "\n",
    "```Python\n",
    "lambda argumento: manipular(argumento)\n",
    "```"
   ]
  },
  {
   "cell_type": "code",
   "execution_count": 11,
   "id": "095acb4d",
   "metadata": {},
   "outputs": [],
   "source": [
    "#podemos generar una tercera versión utilizando una función lambda\n",
    "\n",
    "multiplicarV3 = lambda a,b,c: a*b*c #podría hacer cosas más complejas\n",
    "# print(multiplicarV3(2,2,2))"
   ]
  },
  {
   "cell_type": "markdown",
   "id": "37c9b76d",
   "metadata": {},
   "source": [
    "##### Funciones lambdas como funciones anónimas\n",
    "\n",
    "Las funciones lambdas pueden ser ***anónimas***. Esto quiere decir que NO llevan un nombre y se la declaran y usan en el mismo lugar."
   ]
  },
  {
   "cell_type": "code",
   "execution_count": 156,
   "id": "69cd7a0f",
   "metadata": {},
   "outputs": [
    {
     "data": {
      "text/plain": [
       "[1, 4, 9, 16, 25, 36]"
      ]
     },
     "execution_count": 156,
     "metadata": {},
     "output_type": "execute_result"
    }
   ],
   "source": [
    "#Ejemplo de función anónima o sin nombre\n",
    "# (lambda a:a**2)(50)\n",
    "\n",
    "\n",
    "## Podemos usar las funciones lambdas dentro de las listComps\n",
    "# valores = [1,2,3,4,5,6]\n",
    "# elevadorAlCudrado = lambda a:a**2\n",
    "# cuadrados = [elevadorAlCudrado(valor) for valor in valores] ## elevamos al cuadrado cada elemento de la lista valores\n",
    "# cuadrados\n",
    "\n",
    "### Otra forma equivalente de hacer lo anterior es mediante la función map()\n",
    "# cuadrados2 = list(map(lambda a:a**2, valores)) ## podríamos haber hecho [*map(lambda a:a**2, valores)]\n",
    "# cuadrados2"
   ]
  },
  {
   "cell_type": "markdown",
   "id": "1a9a0ba0",
   "metadata": {},
   "source": [
    "#### Funciones *lambda* cómo filtros de *sorted* y *sort*\n",
    "\n",
    "Las funciones *lambda* suelen ocuparse con las fincones *sorted()* y *sort()*.\n",
    "\n",
    "Según la documentación oficial, la función [sorted](https://docs.python.org/3/library/functions.html#sorted) posee la sintaxis\n",
    "\n",
    "```Python\n",
    "sorted(iterable, key=key, reverse=reverse)\n",
    "```\n",
    "\n",
    "Según la documentación oficial, la función [sort](https://docs.python.org/3/library/stdtypes.html#list.sort) posee la sintáxis\n",
    "\n",
    "```Python\n",
    "list.sort(*, key=None, reverse=False)\n",
    "```\n",
    "\n",
    "La diferencia entre *sorted* y *sort* es que la segunda es un método propio de las listas y el ordenamiento se hace **in-place**, es decir, *se modifica la lista que esta siendo ordenada*.\n",
    "\n",
    "**NOTA**: Estos conceptos son complejos y no serán evaluados en el curso de PDA. No obstante, son realmente útiles para optimizar nuestro código."
   ]
  },
  {
   "cell_type": "code",
   "execution_count": 13,
   "id": "7f9742c8",
   "metadata": {},
   "outputs": [],
   "source": [
    "# listaOrdenada = sorted(range(-5, 6), key = abs)\n",
    "# print(listaOrdenada)\n",
    "# print()\n",
    "\n",
    "# ## Ordenamos las palabras pero considerando la última letra\n",
    "# palabras = ['carrera', 'paz', 'biomédica', 'peces', \"zorro\"]\n",
    "# palabrasOrdenadas = sorted(palabras, key = lambda palabra: palabra[::-1])\n",
    "# print(palabrasOrdenadas)"
   ]
  },
  {
   "cell_type": "markdown",
   "id": "92ca1e6d",
   "metadata": {},
   "source": [
    "##  <span style='color:#3A40A2 '> Recursividad </span>\n",
    "\n",
    "La recursividad, en el ámbito de la programación, es una técnica en la cual una función se llama a sí misma.\n",
    "\n",
    "Una función recursiva posee dos partes bien definida.\n",
    "\n",
    "1. Una parte de código que permite realizar las acciones de manera repetidas en donde la función se llama a sí misma.\n",
    "2. Una condición de finalización a la llamada recursiva.\n",
    "\n",
    "El ejemplo más utilizado es el de generar una función que calcule el factorial de un número entero."
   ]
  },
  {
   "cell_type": "code",
   "execution_count": 14,
   "id": "a005b798",
   "metadata": {},
   "outputs": [
    {
     "data": {
      "text/plain": [
       "120"
      ]
     },
     "execution_count": 14,
     "metadata": {},
     "output_type": "execute_result"
    }
   ],
   "source": [
    "def factorialCalc(n):\n",
    "    if n == 1:\n",
    "        return 1\n",
    "    else:\n",
    "        return n * factorialCalc(n-1)\n",
    "    \n",
    "    \n",
    "factorialCalc(5) "
   ]
  },
  {
   "cell_type": "markdown",
   "id": "ec43eced",
   "metadata": {},
   "source": [
    "<hr style=\"border:1px solid gray\"> </hr>\n",
    "\n",
    "###  <span style='color:#3A40A2 '> Ejercitación </span>"
   ]
  },
  {
   "cell_type": "markdown",
   "id": "6a9233d4",
   "metadata": {},
   "source": [
    "##### Ejercicio 1\n",
    "\n",
    "Escriba una función que reciba una lista de números (enteros o flotantes) y devuelva *True* si la lista esta ordenada en orden creciente o *False* en otro caso.\n",
    "\n",
    "Por ejemplo, si la lista es [1, 3, 4.5, 6, 9.1] la función debe retornar *True*."
   ]
  },
  {
   "cell_type": "code",
   "execution_count": 15,
   "id": "6af46f8a",
   "metadata": {},
   "outputs": [],
   "source": [
    "### Resolución Ejercicio 1\n",
    "### TODO"
   ]
  },
  {
   "cell_type": "markdown",
   "id": "347fe680",
   "metadata": {},
   "source": [
    "##### Ejercicio 2\n",
    "\n",
    "Escriba una función que reciba un número entero *n* y retorne la suma de los primeros *n* términos de la siguiente secuencia\n",
    "\n",
    "\\begin{equation*}\n",
    "\\sum _ {i = 1} ^ {n} \\frac{1}{i}\n",
    "\\end{equation*}"
   ]
  },
  {
   "cell_type": "code",
   "execution_count": 16,
   "id": "06b6b236",
   "metadata": {},
   "outputs": [],
   "source": [
    "### Resolución Ejercicio 2\n",
    "### TODO"
   ]
  },
  {
   "cell_type": "markdown",
   "id": "e9ad5532",
   "metadata": {},
   "source": [
    "##### Ejercicio 3\n",
    "\n",
    "Utilizando el programa del ejercicio 2 de la notebook *ejemplosM21* implemente una versión mejorada mediante una función que reciba como parámetros el nombre de cierto radioisotopo, su actividad inicial $A_0 \\left[ \\frac{dec}{seg} \\right]$ y un tiempo $t\\left[ seg \\right]$ y retorne la actividad $A \\left( t \\right)$ pasada un tiempo $t\\left[ seg \\right]$.\n",
    "\n",
    "Si el radiosotopo no se encuentra en el diccionario, la función debe retornar un mensaje adecuado."
   ]
  },
  {
   "cell_type": "code",
   "execution_count": 17,
   "id": "c8220d2b",
   "metadata": {},
   "outputs": [],
   "source": [
    "### Resolución Ejercicio 3\n",
    "### TODO"
   ]
  },
  {
   "cell_type": "markdown",
   "id": "5d749b58",
   "metadata": {},
   "source": [
    "##### Ejercicio 4\n",
    "\n",
    "Implemente una función que reciba como parámetros las velocidades iniciales (en $\\frac {m}{s}$) de dos vehículos y la distancia de separación entre ambos (en $m$). La función debe retornar el tiempo en que ambos vehículos colisionarán.\n",
    "\n",
    "- Suponga velocidad constante.\n",
    "- Suponga que ambos vehículos se encuentran sobre la misma recta.\n",
    "- Suponga que los vehículos viajan uno hacia el otro."
   ]
  },
  {
   "cell_type": "code",
   "execution_count": 18,
   "id": "8003354f",
   "metadata": {},
   "outputs": [],
   "source": [
    "### Resolución Ejercicio 4\n",
    "### TODO"
   ]
  },
  {
   "cell_type": "markdown",
   "id": "985fa3e9",
   "metadata": {},
   "source": [
    "##### Ejercicio 5\n",
    "\n",
    "Implemente una función que devuelva las raices de una función cuadrática del tipo $f(x) = ax^2 + bx + c$ con $a\\not=0$."
   ]
  },
  {
   "cell_type": "code",
   "execution_count": 19,
   "id": "fe3bd877",
   "metadata": {},
   "outputs": [],
   "source": [
    "### Resolución Ejercicio 5\n",
    "### TODO"
   ]
  },
  {
   "cell_type": "markdown",
   "id": "0d87ade4",
   "metadata": {},
   "source": [
    "##### Ejercicio 6\n",
    "\n",
    "En cierta ciudad el costo total de viajar en taxi esta formado por una tarifa base de `125$UY` más `11,25$UY` por cada $110m$ recorrido.\n",
    "\n",
    "Escriba una función que reciba como parámetro la distancia recorrida (en kilómetros) y retorne el costo total del viaje en pesos."
   ]
  },
  {
   "cell_type": "code",
   "execution_count": 20,
   "id": "9efca542",
   "metadata": {},
   "outputs": [],
   "source": [
    "### Resolución Ejercicio 6\n",
    "### TODO"
   ]
  },
  {
   "cell_type": "markdown",
   "id": "230ca348",
   "metadata": {},
   "source": [
    "##### Ejercicio 7\n",
    "\n",
    "En este ejercicio implementará una función que cuente el número de elementos de una lista que sean mayores o igual a un valor mínimo y menores a cierto valor máximo. La función debe recibir como parámetros una lista de números (enteros o flotantes), un valor mínimo y un valor máximo. La función debe retornar un número entero con la cantidad de ocurrencias encontradas."
   ]
  },
  {
   "cell_type": "code",
   "execution_count": 21,
   "id": "3eb854b6",
   "metadata": {},
   "outputs": [],
   "source": [
    "### Resolución Ejercicio 7\n",
    "### TODO"
   ]
  },
  {
   "cell_type": "markdown",
   "id": "962f1cbf",
   "metadata": {},
   "source": [
    "##### Ejercicio 8\n",
    "\n",
    "Escriba una función que reciba como parámetro un diccionario y que elimine los *keys* duplicados. La función debe devolver el diccionario sin duplicados."
   ]
  },
  {
   "cell_type": "code",
   "execution_count": 22,
   "id": "64db0ae2",
   "metadata": {},
   "outputs": [],
   "source": [
    "### Resolución Ejercicio 8\n",
    "### TODO"
   ]
  },
  {
   "cell_type": "markdown",
   "id": "a5133cc6",
   "metadata": {},
   "source": [
    "##### Ejercicio 9\n",
    "\n",
    "Implementar una función que reciba como parámetros el nombre, el apellido y la cédula de una persona y retorne un diccionario con el nombre completo, la cédula y un identificador formado por la primera letra del nombre, el apellido completo y los cuatro últimos números de la cédula.\n",
    "\n",
    "Nota: Tenga en cuenta que la cédula puede ser ingresada cómo un número entero o bien como un string que contiene . o -. No obstante, en el diccionario retornado la cédula debe tener el formato X.XXX.XXX-X.\n",
    "\n",
    "Ejemplo:\n",
    "\n",
    "```Python\n",
    "perfil = makeId(nombre = \"John\", apellido = \"Constantine\", CI = \"85846320\")\n",
    "print(perfil)\n",
    "\n",
    "## Debe imprimir algo como {\"Nombre y Apellido\": \"John Constantine\", \"CI\": \"8.584.632-0\", \"ID\": \"JConstantine6320\"}\n",
    "```"
   ]
  },
  {
   "cell_type": "code",
   "execution_count": 23,
   "id": "75f1cd5f",
   "metadata": {},
   "outputs": [],
   "source": [
    "### Resolución Ejercicio 9\n",
    "### TODO"
   ]
  },
  {
   "cell_type": "markdown",
   "id": "a2ba2f8d",
   "metadata": {},
   "source": [
    "##### Ejercicio 10\n",
    "\n",
    "Implementar lo siguiente,\n",
    "\n",
    "- Una función que calcule el IVA (22%) sobre el precio de algún producto.\n",
    "- Una función que calcule un descuento sobre el precio de algún producto. El porcentaje de descuento deberá ser pasado como parámetro.\n",
    "- Una función que reciba como parámetro alguna de las dos funciones anteriores y un diccionario. El diccionario pasado como referencia contendrá una serie de productos con sus precios. La función debe aplicar el IVA o el Descuento (según qué función se haya pasado como parámetro) y deberá retornar el total a pagar.\n",
    "\n",
    "Por ejemplo,\n",
    "\n",
    "```Python\n",
    "carrito = {\"producto1\":100, \"producto2\":100}\n",
    "totalAPagar = calcularTotal(carrito, aplicarIVA()) # Pasamos el carrito de compra y le decimos que aplique el IVA\n",
    "print(f\"El total a pagar es ${totalAPagar}\")\n",
    "#Debería imprimir: El total a pagar es $244\n",
    "```"
   ]
  },
  {
   "cell_type": "code",
   "execution_count": null,
   "id": "04f4862b",
   "metadata": {},
   "outputs": [],
   "source": [
    "### Resolución Ejercicio 10\n",
    "### TODO"
   ]
  },
  {
   "cell_type": "markdown",
   "id": "ffc8cb5c",
   "metadata": {},
   "source": [
    "<hr style=\"border:1px solid gray\"> </hr>\n",
    "\n",
    "###  <span style='color:#3A40A2 '>FIN</span>\n",
    "\n",
    "Aquí culmina la segunda parte del Módulo 2 de PDA.\n",
    "\n",
    "Se recomienda que se practiquen los temas aquí vistos por su propia cuenta."
   ]
  }
 ],
 "metadata": {
  "kernelspec": {
   "display_name": "Python [conda env:pda]",
   "language": "python",
   "name": "conda-env-pda-py"
  },
  "language_info": {
   "codemirror_mode": {
    "name": "ipython",
    "version": 3
   },
   "file_extension": ".py",
   "mimetype": "text/x-python",
   "name": "python",
   "nbconvert_exporter": "python",
   "pygments_lexer": "ipython3",
   "version": "3.10.0"
  }
 },
 "nbformat": 4,
 "nbformat_minor": 5
}
