{
 "cells": [
  {
   "cell_type": "markdown",
   "id": "6c5bce21",
   "metadata": {},
   "source": [
    "# <center> <span style='color:#3A40A2 '> Ejercitación Módulo 2 </span></center>\n",
    "<hr style=\"border:1px solid gray\"> </hr>\n",
    "\n",
    "La siguiente notebook contiene ejercitación del Módulo 2 de la Unidad Curricular ***\"Programación Digital Avanzada\"*** de la carrera de *Ingeniería Biomédica* de la UTEC.\n",
    "\n",
    "La *primera parte* y la *segunda parte* de esta notebook serán utilizadas para ejercitación. Por otro lado, la *tercera parte* será utilizada para el laboratorio del módulo y **se debe entregar** resuelta en una Jupyter Notebbok (puede ser esta misma). Además debe subirse la resolución a su repositorio de PDA en github.\n",
    "\n",
    "Profesor Adjunto: *Mag. Bioing. Baldezzari Lucas*\n",
    "\n",
    "<p style='text-align: right;'> V2022 </p>"
   ]
  },
  {
   "cell_type": "markdown",
   "id": "9f3524dd",
   "metadata": {},
   "source": [
    "<hr style=\"border:1px solid gray\"> </hr>\n",
    "\n",
    "## <span style='color:#3A40A2 '> Primera parte </span>\n",
    "\n",
    "Investigue y responda.\n",
    "\n",
    "1. ¿Qué sginifica que Python sea un lenguaje *no tipificado*.\n",
    "2. Mencione algunas diferencias entre los tipos de datos *int* y *reales* en Python\n",
    "3. Mencione algunas diferencias entre los tipos *tuplas*, *listas*, *string* y *diccionarios* en Python\n",
    "4. ¿Qué es un *elemento* de una lista? ¿Cómo se puede acceder a un determinado elemento?\n",
    "5. ¿Qué significa que un tipo de dato sea dinámico y mutable?\n",
    "6. ¿Qué se entiende por *colección* o *collection* en Python? ¿Qué tipos de datos pertenecen a esta categoría?\n",
    "7. ¿Qué significa *Aliasing* en el ámbito de Python?\n",
    "8. ¿Qué entiende por parámetro o argumento de una función?\n",
    "9. En las siguientes líneas de código, ¿cuál es la diferencia entre las variables s1 y s2?\n",
    "\n",
    "```Python\n",
    "def saludar():\n",
    "    print(\"Buenas!\")\n",
    "    \n",
    "s1 = saludar()\n",
    "s2 = saludar\n",
    "```\n",
    "\n",
    "10. ¿Qué significa que las funciones *lambdas* pueden ser *anónimas*?\n",
    "11. ¿Qué palabra reservada puede usarse para chequear si un elemento dentro se encuentra dentro de un set o una lista?\n",
    "12. Observe el siguiente código y responda si es posible realizar dicha asignación. ¿Si? ¿No? ¿Por qué?\n",
    "\n",
    "```Python\n",
    "miSet = {1,2,3, [1,2,3]}\n",
    "```"
   ]
  },
  {
   "cell_type": "markdown",
   "id": "8b819c20",
   "metadata": {},
   "source": [
    "<hr style=\"border:1px solid gray\"> </hr>\n",
    "\n",
    "## <span style='color:#3A40A2 '> Segunda parte </span>\n",
    "\n",
    "En esta parte deberá resolver los siguientes ejercicios.\n",
    "\n",
    "*NOTA:* Esta parte no debe entregarse."
   ]
  },
  {
   "cell_type": "markdown",
   "id": "6379e6ff",
   "metadata": {},
   "source": [
    "#### <span style='color:#f95441'>Funciones para lectura de entradas desde teclado</span>\n",
    "\n",
    "Python ofrece algunas funciones *[built-in](https://docs.python.org/3/library/functions.html)* para solicitar a un usuario que ingrese algo por el teclado y leer dicha entrada, alguna de estas funciones son *[raw_input](https://python-reference.readthedocs.io/en/latest/docs/functions/raw_input.html)* e *[input()](https://docs.python.org/3/library/functions.html#input)*.\n",
    "\n",
    "Por ejemplo, \n",
    "\n",
    "```Python\n",
    "nombre = input(\"¿Cuál es tu nombre?\")\n",
    "print(f\"Hola, {nombre}\")\n",
    "```"
   ]
  },
  {
   "cell_type": "markdown",
   "id": "03b63fc7",
   "metadata": {},
   "source": [
    "### <span style='color:#f95441'>Ejercicios</span>"
   ]
  },
  {
   "cell_type": "markdown",
   "id": "fb7eac21",
   "metadata": {},
   "source": [
    "##### Ejercicio 2.1\n",
    "\n",
    "Un polígono es regular si todos sus lados poseen la misma longitud y los ángulos internos de lados adyacentes son iguales. El área de un políguno regular puede ser calculado usando la siguiente fórmula, sonde $s$ es el largo de cada lado y $n$ es la cantidad de lados.\n",
    "\n",
    "$$   area = \\frac{n\\times s^2}{4\\times \\tan(\\frac{\\pi}{n})}  $$\n",
    "\n",
    "Escriba un programa que lea desde el teclado los valores de $s$ y $n$ y muestre el área del polígono."
   ]
  },
  {
   "cell_type": "code",
   "execution_count": 2,
   "id": "6dc04993",
   "metadata": {},
   "outputs": [
    {
     "name": "stdout",
     "output_type": "stream",
     "text": [
      "ingrese n: 12\n",
      "ingrese s: 45\n",
      "Area del poligono: 22672.208655980932\n"
     ]
    }
   ],
   "source": [
    "## Resolución ejercicio 2.1\n",
    "import math\n",
    "n=int(input(\"ingrese n: \"))\n",
    "s=int(input(\"ingrese s: \"))\n",
    "tan=math.tan(math.pi/n)\n",
    "area=(n*(s*s))/(4*tan)\n",
    "print(\"Area del poligono: \"+str(area))"
   ]
  },
  {
   "cell_type": "markdown",
   "id": "46449bdf",
   "metadata": {},
   "source": [
    "##### Ejercicio 2.2\n",
    "\n",
    "Escriba un programa que lea desde el teclado el valor de un entero de cuatro dígitos y muestre por pantalla la suma de los dígitos. Por ejemplo, si el usuario ingresa *1234* el programa debe mostrar *10*."
   ]
  },
  {
   "cell_type": "code",
   "execution_count": 4,
   "id": "23346945",
   "metadata": {},
   "outputs": [
    {
     "name": "stdout",
     "output_type": "stream",
     "text": [
      "ingrese un numero entero de 4 digitos: 1234\n",
      "10\n"
     ]
    }
   ],
   "source": [
    "## Resolución ejercicio 2.2\n",
    "\n",
    "entero=int(input(\"ingrese un numero entero de 4 digitos: \"))\n",
    "entstr=str(entero)\n",
    "suma=0\n",
    "for n in range(4):\n",
    "    entero=int(entstr[n])\n",
    "    suma=suma+entero\n",
    "print(suma)\n",
    "\n"
   ]
  },
  {
   "cell_type": "markdown",
   "id": "77727bcf",
   "metadata": {},
   "source": [
    "##### Ejercicio 2.3\n",
    "\n",
    "Escriba un programa que calcule las raices de una función cuadrática."
   ]
  },
  {
   "cell_type": "code",
   "execution_count": 11,
   "id": "6b6be4bd",
   "metadata": {},
   "outputs": [
    {
     "name": "stdout",
     "output_type": "stream",
     "text": [
      "ingrese el coeficiente de la variable cuadratica: 1\n",
      "ingrese el coeficiente de la variable lineal: -3\n",
      "ingrese el coeficiente de la variable independiente: -2\n",
      "raiz 1:  3.5615528128088303\n",
      "raiz 2:  -0.5615528128088303\n"
     ]
    }
   ],
   "source": [
    "## Resolución ejercicio 2.3\n",
    "## Resolución ejercicio 2.3\n",
    "import math\n",
    "a=int(input(\"ingrese el coeficiente de la variable cuadratica: \"))\n",
    "b=int(input(\"ingrese el coeficiente de la variable lineal: \"))\n",
    "c=int(input(\"ingrese el coeficiente de la variable independiente: \"))\n",
    "\n",
    "x = (b**2)-(4*a*c)\n",
    "\n",
    "if x < 0:\n",
    "    print(\"Solucion solo en numeros complejos\")\n",
    "elif x == 0:\n",
    "    x1 = (-b) / (2*a)\n",
    "    print(\"%.2f\" % x1)\n",
    "else:\n",
    "\n",
    "    x1 = (-b + math.sqrt(x)) / (2*a)\n",
    "    x2 = (-b - math.sqrt(x)) / (2*a)\n",
    "\n",
    "    print(\"raiz 1: \", x1)\n",
    "    print(\"raiz 2: \", x2)\n",
    "##TO DO"
   ]
  },
  {
   "cell_type": "markdown",
   "id": "cbd0f92b",
   "metadata": {},
   "source": [
    "##### Ejercicio 2.4\n",
    "\n",
    "Ruido |dB |\n",
    "-----|-----| \n",
    "Martillo neumático |130|\n",
    "Desmalezadora a nafta|106|\n",
    "Alarma reloj|70|\n",
    "Tranquilo|40|\n",
    "\n",
    "Escriba un programa que reciba un nivel de ruido en decibeles $dB$. Si el nivel de ruido coincide con uno de los ruidos de la tabla anterior, el programa debe informar a qué se debe. En el caso de que el nivel de ruido este entre alguno de los dos niveles, el programa debe informar entre que ruidos se encuentra el nivel ingresado. Además, el programa implementado debe dar mensajes adecuados si los sonidos estan por encima del valor máximo o por debajo del mínimo."
   ]
  },
  {
   "cell_type": "code",
   "execution_count": 2,
   "id": "a902e933",
   "metadata": {},
   "outputs": [
    {
     "name": "stdout",
     "output_type": "stream",
     "text": [
      "Ingrese un nivel de ruido en dB entre 40 y 130: 130\n",
      "El ruido es Martillo neumatico\n"
     ]
    }
   ],
   "source": [
    "## Resolución ejercicio 2.4\n",
    "deb=int(input(\"Ingrese un nivel de ruido en dB entre 40 y 130: \"))\n",
    "\n",
    "M=130 #Martillo neumático\n",
    "D=106#Desmalezadora a nafta\n",
    "A=70#Alarma reloj\n",
    "T=40#Tranquilo\n",
    "\n",
    "if 40>deb:\n",
    "    print(\"Ingrese un nivel de ruido en el rango especificado.\")\n",
    "if M==deb: \n",
    "    print(\"El ruido es Martillo neumatico\")\n",
    "elif M>deb>D:\n",
    "    print(\"El ruido se encuentra entre los niveles de ruido Martillo neumático y Desmalezadora. \")\n",
    "elif D==deb: \n",
    "    print(\"El ruido es Desmalezadora\")\n",
    "elif D>deb>A:\n",
    "    print(\"El ruido se encuentra entre Desmalezadora a nafta y Alarma reloj \")\n",
    "elif A==deb: \n",
    "    print(\"El ruido es Alarma relojs\")\n",
    "elif A>deb>T:\n",
    "    print(\"El ruido se encuentra entre Alarma reloj y tranquilidad \")\n",
    "elif M<deb:\n",
    "    print(\"Ingrese un nivel de ruido en el rango especificado.\")\n",
    "\n",
    "##TO DO"
   ]
  },
  {
   "cell_type": "markdown",
   "id": "f30357e8",
   "metadata": {},
   "source": [
    "##### Ejercicio 2.5\n",
    "\n",
    "Utilizando *enumerate()* implemente un programa que imprima las letras pertenecientes a los índices divisibles por 3 del string *abcdefghijklmnopqrstuvwxyz*. Empezar a contar desde 1."
   ]
  },
  {
   "cell_type": "code",
   "execution_count": 3,
   "id": "a4b7d901",
   "metadata": {},
   "outputs": [
    {
     "name": "stdout",
     "output_type": "stream",
     "text": [
      "['c', 'f', 'i', 'l', 'o', 'r', 'u', 'x']\n"
     ]
    }
   ],
   "source": [
    "### Resolución Ejercicio 2.5\n",
    "\n",
    "abc = \"abcdefghijklmnopqrstuvwxyz\"\n",
    "contador = 1\n",
    "divisible_3= []\n",
    "\n",
    "for contador, i in enumerate(abc, 1):\n",
    "    if contador %3 ==0:\n",
    "        divisible_3.append(i)\n",
    "print(divisible_3)\n",
    "\n",
    "##TO DO"
   ]
  },
  {
   "cell_type": "markdown",
   "id": "3fe24424",
   "metadata": {},
   "source": [
    "##### Ejercicio 2.6\n",
    "\n",
    "Las posiciones en un tablero de ajedrez se identifican con letras y números. Las letras indican las columnas mientras que los números indican las filas, como la imágen debajo.\n",
    "\n",
    "<img src=\"chessboard.png\" width=250 height=250 />\n",
    "\n",
    "Escriba un programa que lea desde el teclado una coordenada del tablero (ej. 'a3') y devuelva si el casillero es de color blanco o negro. Asuma que todas las entradas son correctas, es decir, **no** es necesario realizar un chequeo de errores (veremos más adelante cómo hacer esto con *try* y *except*)."
   ]
  },
  {
   "cell_type": "code",
   "execution_count": null,
   "id": "c6462948",
   "metadata": {},
   "outputs": [],
   "source": [
    "## Resolución ejercicio 2.6\n",
    "import numpy as np\n",
    "tablero = np.zeros((8, 8), dtype=int)\n",
    "tablero[::2, 1::2]=1\n",
    "tablero[1::2, ::2]=1\n",
    "tableroEjeX={\"a\":1,\"b\":2,\"c\":3,\"d\":4,\"e\":5,\"f\":6,\"g\":7,\"h\":8}\n",
    "cordenadas=input(\"ingrese la cordenada del tablero de ajedrez (ej. 'a3'): \")\n",
    "cordenadaX=int(tableroEjeX[cordenadas[0]]-1)\n",
    "cordenadaY=int(cordenadas[1])-1\n",
    "cordenadaX\n",
    "cordenadaY\n",
    "if tablero[cordenadaX,cordenadaY] == 1:\n",
    "    print(\"Blanco\")\n",
    "else:\n",
    "    print (\"Negro\")\n",
    "##TO DO"
   ]
  },
  {
   "cell_type": "markdown",
   "id": "24400e9b",
   "metadata": {},
   "source": [
    "##### Ejercicio 2.7\n",
    "\n",
    "Escriba un programa que convierta números binarios a números decimales. El programa debe leer desde el teclado un número binario en forma de string y computar el equivalente en decimal. El número calculado debe mostrarse en un mensaje."
   ]
  },
  {
   "cell_type": "code",
   "execution_count": 7,
   "id": "ca038f66",
   "metadata": {},
   "outputs": [],
   "source": [
    "## Resolución ejercicio 2.7\n",
    "\n",
    "##TO DO"
   ]
  },
  {
   "cell_type": "markdown",
   "id": "d1a113fe",
   "metadata": {},
   "source": [
    "##### Ejercicio 2.8\n",
    "\n",
    "Escriba un programa que determine si un número entero $n$ es *perfecto*. Un número es perfecto cuando la suma de sus propios divisores da el mismo número.\n",
    "\n",
    "Por ejemplo, el *6* es un número perfecto, ya que la suma de sus divisores es $1+2+3 = 6$."
   ]
  },
  {
   "cell_type": "code",
   "execution_count": 8,
   "id": "0ad62720",
   "metadata": {},
   "outputs": [],
   "source": [
    "## Resolución ejercicio 2.8\n",
    "\n",
    "##TO DO"
   ]
  },
  {
   "cell_type": "markdown",
   "id": "e3173db0",
   "metadata": {},
   "source": [
    "### <span style='color:#4BB58D '>Funciones</span>"
   ]
  },
  {
   "cell_type": "markdown",
   "id": "df54632d",
   "metadata": {},
   "source": [
    "##### Ejercicio 2.9\n",
    "\n",
    "Implemente una función que devuelva el factorial de un número entero n."
   ]
  },
  {
   "cell_type": "code",
   "execution_count": 9,
   "id": "3e0225ac",
   "metadata": {},
   "outputs": [],
   "source": [
    "## Resolución ejercicio 2.9\n",
    "\n",
    "##TO DO"
   ]
  },
  {
   "cell_type": "markdown",
   "id": "ef58e192",
   "metadata": {},
   "source": [
    "##### Ejercicio 2.10\n",
    "\n",
    "Implemente una función que reciba una lista de números enteros y devuelva una nueva lista pero sin los valores repetidos.\n",
    "\n",
    "NOTA: No usar funciones *built-in*."
   ]
  },
  {
   "cell_type": "code",
   "execution_count": 10,
   "id": "3b51ecb3",
   "metadata": {},
   "outputs": [],
   "source": [
    "## Resolución ejercicio 2.10\n",
    "\n",
    "##TO DO"
   ]
  },
  {
   "cell_type": "markdown",
   "id": "e4f19239",
   "metadata": {},
   "source": [
    "##### Ejercicio 2.11\n",
    "\n",
    "Implemente una función que reciba como argumento un año y retorne *True* si el año es bisiesto, caso contrario que retorne *False.\n",
    "\n",
    "Para saber si un año es bisiesto tenga en cuenta estos puntos:\n",
    "- Cualquier año divisible por 400 es bisiesto.\n",
    "- De los años restantes, cualquiera que sea divisible por 100 **no** es bisiesto.\n",
    "- De los años restantes, cualquiera que sea divisible por 4 es un año bisiesto."
   ]
  },
  {
   "cell_type": "code",
   "execution_count": 11,
   "id": "a89050a3",
   "metadata": {},
   "outputs": [],
   "source": [
    "## Resolución ejercicio 2.11\n",
    "\n",
    "##TO DO"
   ]
  },
  {
   "cell_type": "markdown",
   "id": "510e5cbd",
   "metadata": {},
   "source": [
    "##### Ejercicio 2.12\n",
    "\n",
    "Impmemente una función que retorne el máximo de una lista de números. No utilizar funciones *built-in*."
   ]
  },
  {
   "cell_type": "code",
   "execution_count": 12,
   "id": "a93c396b",
   "metadata": {},
   "outputs": [],
   "source": [
    "## Resolución ejercicio 2.12\n",
    "\n",
    "##TO DO"
   ]
  },
  {
   "cell_type": "markdown",
   "id": "d371fab2",
   "metadata": {},
   "source": [
    "##### Ejercicio 2.13\n",
    "\n",
    "Implemente una función que reciba como parámetro una lista de números (enteros o flotantes) y retorne la *mediana*."
   ]
  },
  {
   "cell_type": "code",
   "execution_count": 13,
   "id": "641b0e45",
   "metadata": {},
   "outputs": [],
   "source": [
    "## Resolución ejercicio 2.13\n",
    "\n",
    "##TO DO"
   ]
  },
  {
   "cell_type": "markdown",
   "id": "17315869",
   "metadata": {},
   "source": [
    "<hr style=\"border:1px solid gray\"> </hr>\n",
    "\n",
    "## <span style='color:#3A40A2 '> Tercera parte </span>\n",
    "\n",
    "**Se habilitará para el laboratorio.**"
   ]
  },
  {
   "cell_type": "markdown",
   "id": "c552bc2a",
   "metadata": {},
   "source": [
    "<hr style=\"border:1px solid gray\"> </hr>\n",
    "\n",
    "##  <span style='color:#3A40A2 '>FIN</span>"
   ]
  }
 ],
 "metadata": {
  "interpreter": {
   "hash": "341b29a86feb41683388a2350ede9b29bff08e5e019b1f08826cb582c6a8c162"
  },
  "kernelspec": {
   "display_name": "Python [conda env:martinho]",
   "language": "python",
   "name": "conda-env-martinho-py"
  },
  "language_info": {
   "codemirror_mode": {
    "name": "ipython",
    "version": 3
   },
   "file_extension": ".py",
   "mimetype": "text/x-python",
   "name": "python",
   "nbconvert_exporter": "python",
   "pygments_lexer": "ipython3",
   "version": "3.9.7"
  }
 },
 "nbformat": 4,
 "nbformat_minor": 5
}
